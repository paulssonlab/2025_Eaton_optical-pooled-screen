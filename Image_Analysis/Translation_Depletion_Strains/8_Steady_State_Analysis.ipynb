{
 "cells": [
  {
   "cell_type": "markdown",
   "metadata": {},
   "source": [
    "## Steady-state Single Variable Analysis"
   ]
  },
  {
   "cell_type": "code",
   "execution_count": null,
   "metadata": {},
   "outputs": [],
   "source": [
    "import trenchripper.trenchripper as tr\n",
    "\n",
    "import dask\n",
    "import warnings\n",
    "import random\n",
    "import anndata\n",
    "\n",
    "import numpy as np\n",
    "import pandas as pd\n",
    "import dask.dataframe as dd\n",
    "\n",
    "from matplotlib import pyplot as plt\n",
    "\n",
    "random.seed(42)\n",
    "np.random.seed(42)\n",
    "\n",
    "warnings.filterwarnings(action='once',category=UserWarning)\n",
    "\n",
    "# addition of active memory manager\n",
    "dask.config.set({'distributed.scheduler.active-memory-manager.start': True});\n",
    "dask.config.set({'distributed.scheduler.worker-ttl': \"5m\"});\n",
    "dask.config.set({'distributed.scheduler.allowed-failures': 100});\n",
    "\n",
    "dask_wd = \"/home/de64/scratch/de64/dask\""
   ]
  },
  {
   "cell_type": "markdown",
   "metadata": {},
   "source": [
    "### Initial Data Processing"
   ]
  },
  {
   "cell_type": "markdown",
   "metadata": {},
   "source": [
    "#### Start Dask"
   ]
  },
  {
   "cell_type": "code",
   "execution_count": 3,
   "metadata": {
    "tags": []
   },
   "outputs": [
    {
     "name": "stdout",
     "output_type": "stream",
     "text": [
      "50m\n",
      "01:00:00\n"
     ]
    },
    {
     "name": "stderr",
     "output_type": "stream",
     "text": [
      "Task exception was never retrieved\n",
      "future: <Task finished name='Task-2118768' coro=<Client._gather.<locals>.wait() done, defined at /home/de64/micromamba/envs/crispri/lib/python3.11/site-packages/distributed/client.py:2208> exception=AllExit()>\n",
      "Traceback (most recent call last):\n",
      "  File \"/home/de64/micromamba/envs/crispri/lib/python3.11/site-packages/distributed/client.py\", line 2217, in wait\n",
      "    raise AllExit()\n",
      "distributed.client.AllExit\n"
     ]
    }
   ],
   "source": [
    "dask_controller = tr.trcluster.dask_controller(\n",
    "    walltime=\"01:00:00\",\n",
    "    local=False,\n",
    "    n_workers=25,\n",
    "    n_workers_min=25,\n",
    "    memory=\"16GB\",\n",
    "    working_directory=dask_wd,\n",
    ")\n",
    "dask_controller.startdask()"
   ]
  },
  {
   "cell_type": "code",
   "execution_count": 5,
   "metadata": {
    "tags": []
   },
   "outputs": [
    {
     "data": {
      "text/html": [
       "<div>\n",
       "    <div style=\"width: 24px; height: 24px; background-color: #e1e1e1; border: 3px solid #9D9D9D; border-radius: 5px; position: absolute;\"> </div>\n",
       "    <div style=\"margin-left: 48px;\">\n",
       "        <h3 style=\"margin-bottom: 0px;\">Client</h3>\n",
       "        <p style=\"color: #9D9D9D; margin-bottom: 0px;\">Client-35395f52-a2b8-11ef-987a-0cc47abb6f0a</p>\n",
       "        <table style=\"width: 100%; text-align: left;\">\n",
       "\n",
       "        <tr>\n",
       "        \n",
       "            <td style=\"text-align: left;\"><strong>Connection method:</strong> Cluster object</td>\n",
       "            <td style=\"text-align: left;\"><strong>Cluster type:</strong> dask_jobqueue.SLURMCluster</td>\n",
       "        \n",
       "        </tr>\n",
       "\n",
       "        \n",
       "            <tr>\n",
       "                <td style=\"text-align: left;\">\n",
       "                    <strong>Dashboard: </strong> <a href=\"http://10.120.16.233:8787/status\" target=\"_blank\">http://10.120.16.233:8787/status</a>\n",
       "                </td>\n",
       "                <td style=\"text-align: left;\"></td>\n",
       "            </tr>\n",
       "        \n",
       "\n",
       "        </table>\n",
       "\n",
       "        \n",
       "\n",
       "        \n",
       "            <details>\n",
       "            <summary style=\"margin-bottom: 20px;\"><h3 style=\"display: inline;\">Cluster Info</h3></summary>\n",
       "            <div class=\"jp-RenderedHTMLCommon jp-RenderedHTML jp-mod-trusted jp-OutputArea-output\">\n",
       "    <div style=\"width: 24px; height: 24px; background-color: #e1e1e1; border: 3px solid #9D9D9D; border-radius: 5px; position: absolute;\">\n",
       "    </div>\n",
       "    <div style=\"margin-left: 48px;\">\n",
       "        <h3 style=\"margin-bottom: 0px; margin-top: 0px;\">SLURMCluster</h3>\n",
       "        <p style=\"color: #9D9D9D; margin-bottom: 0px;\">599ea807</p>\n",
       "        <table style=\"width: 100%; text-align: left;\">\n",
       "            <tr>\n",
       "                <td style=\"text-align: left;\">\n",
       "                    <strong>Dashboard:</strong> <a href=\"http://10.120.16.233:8787/status\" target=\"_blank\">http://10.120.16.233:8787/status</a>\n",
       "                </td>\n",
       "                <td style=\"text-align: left;\">\n",
       "                    <strong>Workers:</strong> 0\n",
       "                </td>\n",
       "            </tr>\n",
       "            <tr>\n",
       "                <td style=\"text-align: left;\">\n",
       "                    <strong>Total threads:</strong> 0\n",
       "                </td>\n",
       "                <td style=\"text-align: left;\">\n",
       "                    <strong>Total memory:</strong> 0 B\n",
       "                </td>\n",
       "            </tr>\n",
       "            \n",
       "        </table>\n",
       "\n",
       "        <details>\n",
       "            <summary style=\"margin-bottom: 20px;\">\n",
       "                <h3 style=\"display: inline;\">Scheduler Info</h3>\n",
       "            </summary>\n",
       "\n",
       "            <div style=\"\">\n",
       "    <div>\n",
       "        <div style=\"width: 24px; height: 24px; background-color: #FFF7E5; border: 3px solid #FF6132; border-radius: 5px; position: absolute;\"> </div>\n",
       "        <div style=\"margin-left: 48px;\">\n",
       "            <h3 style=\"margin-bottom: 0px;\">Scheduler</h3>\n",
       "            <p style=\"color: #9D9D9D; margin-bottom: 0px;\">Scheduler-7f2016b2-bdf9-4123-b9f7-cdaa8a0e0e74</p>\n",
       "            <table style=\"width: 100%; text-align: left;\">\n",
       "                <tr>\n",
       "                    <td style=\"text-align: left;\">\n",
       "                        <strong>Comm:</strong> tcp://10.120.16.233:35272\n",
       "                    </td>\n",
       "                    <td style=\"text-align: left;\">\n",
       "                        <strong>Workers:</strong> 0\n",
       "                    </td>\n",
       "                </tr>\n",
       "                <tr>\n",
       "                    <td style=\"text-align: left;\">\n",
       "                        <strong>Dashboard:</strong> <a href=\"http://10.120.16.233:8787/status\" target=\"_blank\">http://10.120.16.233:8787/status</a>\n",
       "                    </td>\n",
       "                    <td style=\"text-align: left;\">\n",
       "                        <strong>Total threads:</strong> 0\n",
       "                    </td>\n",
       "                </tr>\n",
       "                <tr>\n",
       "                    <td style=\"text-align: left;\">\n",
       "                        <strong>Started:</strong> Just now\n",
       "                    </td>\n",
       "                    <td style=\"text-align: left;\">\n",
       "                        <strong>Total memory:</strong> 0 B\n",
       "                    </td>\n",
       "                </tr>\n",
       "            </table>\n",
       "        </div>\n",
       "    </div>\n",
       "\n",
       "    <details style=\"margin-left: 48px;\">\n",
       "        <summary style=\"margin-bottom: 20px;\">\n",
       "            <h3 style=\"display: inline;\">Workers</h3>\n",
       "        </summary>\n",
       "\n",
       "        \n",
       "\n",
       "    </details>\n",
       "</div>\n",
       "\n",
       "        </details>\n",
       "    </div>\n",
       "</div>\n",
       "            </details>\n",
       "        \n",
       "\n",
       "    </div>\n",
       "</div>"
      ],
      "text/plain": [
       "<Client: 'tcp://10.120.16.233:35272' processes=0 threads=0, memory=0 B>"
      ]
     },
     "execution_count": 5,
     "metadata": {},
     "output_type": "execute_result"
    }
   ],
   "source": [
    "dask_controller.daskclient"
   ]
  },
  {
   "cell_type": "markdown",
   "metadata": {
    "tags": []
   },
   "source": [
    "## Cell Cycle Analysis"
   ]
  },
  {
   "cell_type": "markdown",
   "metadata": {},
   "source": [
    "### Import Necessary Dataframes"
   ]
  },
  {
   "cell_type": "code",
   "execution_count": 6,
   "metadata": {},
   "outputs": [],
   "source": [
    "cell_cycle_df = dd.read_parquet(\"/home/de64/scratch/de64/sync_folder/2024-10-25_DE828_AHL_Titration/2024-10-31_Lineage_Cell_Cycle_Merged\", engine=\"pyarrow\",calculate_divisions=True)\n",
    "timepoints_df = dd.read_parquet(\"/home/de64/scratch/de64/sync_folder/2024-10-25_DE828_AHL_Titration/2024-10-31_Lineage_Observations_Merged\", engine=\"pyarrow\",calculate_divisions=True)\n",
    "growth_df = dd.read_parquet(\"/home/de64/scratch/de64/sync_folder/2024-10-25_DE828_AHL_Titration/2024-10-31_Lineage_Growth_Observations_Merged\", engine=\"pyarrow\",calculate_divisions=True)"
   ]
  },
  {
   "cell_type": "markdown",
   "metadata": {},
   "source": [
    "#### Select Parameters to Analyze"
   ]
  },
  {
   "cell_type": "code",
   "execution_count": 7,
   "metadata": {},
   "outputs": [],
   "source": [
    "cell_cycle_columns = ['Multi-Experiment Global CellID', 'Multi-Experiment FOV', 'Global CellID', 'trenchid', 'File Parquet Index', 'fov',\\\n",
    "       'row', 'trench', 'initial timepoints', 'Mother', 'CellID', 'Mother CellID', 'Daughter CellID 1', 'Daughter CellID 2', 'Sister CellID',\\\n",
    "                      'Experiment #', 'Birth: Length', 'Division: Length',\\\n",
    "                      'Delta: Length', 'Septum Displacement Length Normalized', 'Birth: Volume', 'Division: Volume', 'Delta: Volume',\\\n",
    "                      'Final time (s)','Initial time (s)','Delta time (s)','Growth Rate: Length','Growth Rate: Volume']\n",
    "timepoints_columns = ['Global CellID-Cell Cycle timepoints', 'trenchid', 'Global CellID', 'Observation time (s)', 'Length',\\\n",
    "                     'Width', 'mCherry mean_intensity', 'Experiment #', 'Multi-Experiment Global CellID']\n",
    "growth_columns = ['Global CellID-Growth Rate Measurement Index', 'trenchid', 'Global CellID', 'Measurement time (s)',\\\n",
    "                  'Instantaneous Growth Rate: Length', 'Instantaneous Growth Rate: Volume', 'Experiment #', 'Multi-Experiment Global CellID']\n",
    "\n",
    "cell_cycle_df = cell_cycle_df[cell_cycle_columns]\n",
    "timepoints_df = timepoints_df[timepoints_columns]\n",
    "growth_df = growth_df[growth_columns]"
   ]
  },
  {
   "cell_type": "markdown",
   "metadata": {},
   "source": [
    "### Classify proliferating cells (DISABLED)\n",
    "- Classify trenches as proliferating or non-proliferating and exclude from subsequent analysis where appropriate\n",
    "- Proliferation criterion:\n",
    "    - Median instantanous growth rate for the trench must give a doubling time of at least once every 3 hours, that is $ \\lambda > \\frac{\\ln(2)}{3} \\frac{1}{hr} $ \n",
    "    - Median doubling time (for reported cell cycles) must give a doubling time of at least once every 3 hours\n",
    "    - The number of cell cycle reports (of the mother cell only) must also average out to once every 3 hours\n",
    "\n",
    "- Note (11/1/2024) - Was done for large library comparisons to ensure non-sparse cell cycle data (i.e. interdivision time and septum error)."
   ]
  },
  {
   "cell_type": "code",
   "execution_count": 8,
   "metadata": {},
   "outputs": [],
   "source": [
    "induction_time = 2*3600\n",
    "steady_state_time = 7*3600\n",
    "final_time = 10*3600\n",
    "steady_state_interval = final_time-steady_state_time\n",
    "\n",
    "doubling_threshold = 3\n",
    "growth_rate_threshold = np.log(2)/doubling_threshold\n",
    "doubling_time_threshold = doubling_threshold*3600"
   ]
  },
  {
   "cell_type": "markdown",
   "metadata": {},
   "source": [
    "#### Add sgRNA info for real data"
   ]
  },
  {
   "cell_type": "code",
   "execution_count": 17,
   "metadata": {},
   "outputs": [
    {
     "name": "stderr",
     "output_type": "stream",
     "text": [
      "/home/de64/micromamba/envs/crispri/lib/python3.11/site-packages/dask/dataframe/core.py:7365: FutureWarning: Meta is not valid, `map_partitions` and `map_overlap` expects output to be a pandas object. Try passing a pandas object as meta or a dict or tuple representing the (name, dtype) of the columns. In the future the meta you passed will not work.\n",
      "  warnings.warn(\n"
     ]
    }
   ],
   "source": [
    "condition_dict = {\"EV\":list(range(0,30)),\\\n",
    "              \"rplL\":list(range(30,60)),\\\n",
    "              \"infA\":list(range(60,90)),\\\n",
    "              \"pheT\":list(range(90,120)),\\\n",
    "              \"0uM AHL\":list(range(100000,100060)),\\\n",
    "              \"0.03uM AHL\":list(range(100060,100120)),\\\n",
    "              \"0.05uM AHL\":list(range(100120,100180)),\\\n",
    "              \"0.07uM AHL\":list(range(100180,100240)),\\\n",
    "              \"1uM AHL\":list(range(100240,100300)),\\\n",
    "              \"0.2uM AHL\":list(range(200000,200030)),\\\n",
    "              \"0.16uM AHL\":list(range(200030,200060)),\\\n",
    "              \"0.13uM AHL\":list(range(200060,200090)),\\\n",
    "              \"0.1uM AHL\":list(range(200090,200120))}\n",
    "inv_condition_dict = {item:key for key,val in condition_dict.items() for item in val}\n",
    "\n",
    "cell_cycle_df[\"Condition\"] = cell_cycle_df[\"Multi-Experiment FOV\"].apply(lambda x: inv_condition_dict[x], meta=str)\n",
    "condition_series = cell_cycle_df.groupby(\"Multi-Experiment Phenotype Trenchid\")[\"Condition\"].first().compute()\n",
    "timepoints_df = timepoints_df.join(condition_series)\n",
    "growth_df = growth_df.join(condition_series)"
   ]
  },
  {
   "cell_type": "code",
   "execution_count": 18,
   "metadata": {
    "scrolled": true,
    "tags": []
   },
   "outputs": [
    {
     "name": "stderr",
     "output_type": "stream",
     "text": [
      "/home/de64/micromamba/envs/crispri/lib/python3.11/site-packages/dask/dataframe/core.py:7365: FutureWarning: Meta is not valid, `map_partitions` and `map_overlap` expects output to be a pandas object. Try passing a pandas object as meta or a dict or tuple representing the (name, dtype) of the columns. In the future the meta you passed will not work.\n",
      "  warnings.warn(\n",
      "/home/de64/micromamba/envs/crispri/lib/python3.11/site-packages/dask/dataframe/core.py:7365: FutureWarning: Meta is not valid, `map_partitions` and `map_overlap` expects output to be a pandas object. Try passing a pandas object as meta or a dict or tuple representing the (name, dtype) of the columns. In the future the meta you passed will not work.\n",
      "  warnings.warn(\n",
      "/home/de64/micromamba/envs/crispri/lib/python3.11/site-packages/dask/dataframe/core.py:7365: FutureWarning: Meta is not valid, `map_partitions` and `map_overlap` expects output to be a pandas object. Try passing a pandas object as meta or a dict or tuple representing the (name, dtype) of the columns. In the future the meta you passed will not work.\n",
      "  warnings.warn(\n"
     ]
    }
   ],
   "source": [
    "n_obs_cell_cycle_df = cell_cycle_df.groupby(\"Condition\",sort=False).apply(lambda x: len(x.index.unique()), meta=int).compute()\n",
    "n_obs_cell_cycle_df = pd.DataFrame(n_obs_cell_cycle_df).rename({0:\"N Observations\"}, axis=1).sort_index()\n",
    "cell_cycle_df = cell_cycle_df.join(n_obs_cell_cycle_df,on=\"Condition\")\n",
    "\n",
    "n_obs_timepoints = timepoints_df.groupby(\"Condition\",sort=False).apply(lambda x: len(x.index.unique()), meta=int).compute()\n",
    "n_obs_timepoints = pd.DataFrame(n_obs_timepoints).rename({0:\"N Observations\"}, axis=1).sort_index()\n",
    "timepoints_df = timepoints_df.join(n_obs_timepoints,on=\"Condition\")\n",
    "\n",
    "n_obs_growth = growth_df.groupby(\"Condition\",sort=False).apply(lambda x: len(x.index.unique()), meta=int).compute()\n",
    "n_obs_growth = pd.DataFrame(n_obs_growth).rename({0:\"N Observations\"}, axis=1).sort_index()\n",
    "growth_df = growth_df.join(n_obs_growth,on=\"Condition\")"
   ]
  },
  {
   "cell_type": "markdown",
   "metadata": {},
   "source": [
    "### Determine when cells reach steady state and save intermediate df as a checkpoint"
   ]
  },
  {
   "cell_type": "code",
   "execution_count": 19,
   "metadata": {},
   "outputs": [
    {
     "name": "stderr",
     "output_type": "stream",
     "text": [
      "/home/de64/micromamba/envs/crispri/lib/python3.11/site-packages/dask/dataframe/core.py:4629: UserWarning: \n",
      "You did not provide metadata, so Dask is running your function on a small dataset to guess output types. It is possible that Dask will guess incorrectly.\n",
      "To provide an explicit output types or to silence this message, please provide the `meta=` keyword, as described in the map or apply function that you are using.\n",
      "  Before: .apply(func)\n",
      "  After:  .apply(func, meta=('Condition Index', 'object'))\n",
      "\n",
      "  warnings.warn(meta_warning(meta))\n",
      "/home/de64/micromamba/envs/crispri/lib/python3.11/site-packages/dask/dataframe/core.py:4629: UserWarning: \n",
      "You did not provide metadata, so Dask is running your function on a small dataset to guess output types. It is possible that Dask will guess incorrectly.\n",
      "To provide an explicit output types or to silence this message, please provide the `meta=` keyword, as described in the map or apply function that you are using.\n",
      "  Before: .apply(func)\n",
      "  After:  .apply(func, meta=('Condition Index', 'object'))\n",
      "\n",
      "  warnings.warn(meta_warning(meta))\n",
      "/home/de64/micromamba/envs/crispri/lib/python3.11/site-packages/dask/dataframe/core.py:4629: UserWarning: \n",
      "You did not provide metadata, so Dask is running your function on a small dataset to guess output types. It is possible that Dask will guess incorrectly.\n",
      "To provide an explicit output types or to silence this message, please provide the `meta=` keyword, as described in the map or apply function that you are using.\n",
      "  Before: .apply(func)\n",
      "  After:  .apply(func, meta=('Condition Index', 'object'))\n",
      "\n",
      "  warnings.warn(meta_warning(meta))\n"
     ]
    }
   ],
   "source": [
    "## add condition index\n",
    "condition_idx_dict = {\"0uM AHL\":0,\\\n",
    "              \"0.03uM AHL\":1,\\\n",
    "              \"0.05uM AHL\":2,\\\n",
    "              \"0.07uM AHL\":3,\\\n",
    "              \"1uM AHL\":4,\\\n",
    "              \"0.2uM AHL\":5,\\\n",
    "              \"0.16uM AHL\":6,\\\n",
    "              \"0.13uM AHL\":7,\\\n",
    "              \"0.1uM AHL\":8,\\\n",
    "              \"EV\":9,\\\n",
    "              \"rplL\":10,\\\n",
    "              \"infA\":11,\\\n",
    "              \"pheT\":12}\n",
    "\n",
    "cell_cycle_df[\"Condition Index\"] = cell_cycle_df[\"Condition\"].apply(lambda x: condition_idx_dict[x],meta=(\"Condition Index\", \"int64\"))\n",
    "timepoints_df[\"Condition Index\"] = timepoints_df[\"Condition\"].apply(lambda x: condition_idx_dict[x],meta=(\"Condition Index\", \"int64\"))\n",
    "growth_df[\"Condition Index\"] = growth_df[\"Condition\"].apply(lambda x: condition_idx_dict[x],meta=(\"Condition Index\", \"int64\"))\n",
    "\n",
    "## add categories\n",
    "cell_cycle_df['Category'] = cell_cycle_df[\"Condition Index\"].apply(lambda x: \"Control\" if x==9 else \"Not Control\")\n",
    "timepoints_df['Category'] = timepoints_df[\"Condition Index\"].apply(lambda x: \"Control\" if x==9 else \"Not Control\")\n",
    "growth_df['Category'] = growth_df[\"Condition Index\"].apply(lambda x: \"Control\" if x==9 else \"Not Control\")"
   ]
  },
  {
   "cell_type": "code",
   "execution_count": 20,
   "metadata": {
    "tags": []
   },
   "outputs": [
    {
     "name": "stdout",
     "output_type": "stream",
     "text": [
      "Done.\n"
     ]
    }
   ],
   "source": [
    "cell_cycle_df_ss = cell_cycle_df[cell_cycle_df[\"Initial time (s)\"]>=steady_state_time]\n",
    "cell_cycle_df_preinduction = cell_cycle_df[cell_cycle_df[\"Final time (s)\"]<=induction_time]\n",
    "cell_cycle_df = cell_cycle_df.reset_index().set_index(\"Multi-Experiment Phenotype Trenchid\",sorted=True).repartition(npartitions=400)\n",
    "cell_cycle_df_ss.to_parquet(\"/home/de64/scratch/de64/sync_folder/2024-10-25_DE828_AHL_Titration/2024-11-01_Steady_State_Cell_Cycle_df/\", engine=\"pyarrow\", overwrite=True)\n",
    "cell_cycle_df_preinduction.to_parquet(\"/home/de64/scratch/de64/sync_folder/2024-10-25_DE828_AHL_Titration/2024-11-01_Preinduction_Cell_Cycle_df/\", engine=\"pyarrow\", overwrite=True)\n",
    "\n",
    "timepoints_df_ss = timepoints_df[timepoints_df[\"Observation time (s)\"]>=steady_state_time]\n",
    "timepoints_df_preinduction = timepoints_df[timepoints_df[\"Observation time (s)\"]<=induction_time]\n",
    "timepoints_df = timepoints_df.reset_index().set_index(\"Multi-Experiment Phenotype Trenchid\",sorted=True).repartition(npartitions=400)\n",
    "timepoints_df_ss.to_parquet(\"/home/de64/scratch/de64/sync_folder/2024-10-25_DE828_AHL_Titration/2024-11-01_Steady_State_Timepoints_df/\", engine=\"pyarrow\", overwrite=True)\n",
    "timepoints_df_preinduction.to_parquet(\"/home/de64/scratch/de64/sync_folder/2024-10-25_DE828_AHL_Titration/2024-11-01_Preinduction_Timepoints_df/\", engine=\"pyarrow\", overwrite=True)\n",
    "\n",
    "growth_df_ss = growth_df[growth_df[\"Measurement time (s)\"]>=steady_state_time]\n",
    "growth_df_preinduction = growth_df[growth_df[\"Measurement time (s)\"]<=induction_time]\n",
    "growth_df = growth_df.reset_index().set_index(\"Multi-Experiment Phenotype Trenchid\",sorted=True).repartition(npartitions=400)\n",
    "growth_df_ss.to_parquet(\"/home/de64/scratch/de64/sync_folder/2024-10-25_DE828_AHL_Titration/2024-11-01_Steady_State_Growth_df/\", engine=\"pyarrow\", overwrite=True)\n",
    "growth_df_preinduction.to_parquet(\"/home/de64/scratch/de64/sync_folder/2024-10-25_DE828_AHL_Titration/2024-11-01_Preinduction_Growth_df/\", engine=\"pyarrow\", overwrite=True)\n",
    "dask_controller.reset_worker_memory()"
   ]
  },
  {
   "cell_type": "markdown",
   "metadata": {
    "jp-MarkdownHeadingCollapsed": true
   },
   "source": [
    "## Computing Trench-wise Estimator Distributions\n",
    "\n",
    "- These distributions can be used to construct confidence intervals (this will help with clustering)\n",
    "- They can also be re-used to compute p-values (with some modification)\n",
    "\n",
    "### Estimators of Interest\n",
    "\n",
    "- Mean\n",
    "- Median\n",
    "- CV\n",
    "- MAD CV\n",
    "- Pearson R\n",
    "- Qn (Pearson R)\n",
    "\n",
    "### Bootstraps of Interest\n",
    "\n",
    "- Naive Bootstrap\n",
    "- Tapered Block Bootstrap\n",
    "    - Using for ACFs\n",
    "- Stationary Bootstrap\n",
    "    - Using for location, scale and pearson correlation (single cell cycle)"
   ]
  },
  {
   "cell_type": "markdown",
   "metadata": {},
   "source": [
    "## 1) Computing Estimators\n",
    "- Actually computes estimators for different steady state values\n",
    "- Will be merged with p-values, CIs and variances from bootstrapping"
   ]
  },
  {
   "cell_type": "code",
   "execution_count": 4,
   "metadata": {},
   "outputs": [
    {
     "name": "stdout",
     "output_type": "stream",
     "text": [
      "170m\n",
      "03:00:00\n"
     ]
    }
   ],
   "source": [
    "# dask_controller = tr.trcluster.dask_controller(\n",
    "#     walltime=\"03:00:00\",\n",
    "#     local=False,\n",
    "#     n_workers=200,\n",
    "#     n_workers_min=100,\n",
    "#     memory=\"16GB\",\n",
    "#     working_directory=dask_wd,\n",
    "# )\n",
    "# dask_controller.startdask()"
   ]
  },
  {
   "cell_type": "code",
   "execution_count": null,
   "metadata": {
    "tags": []
   },
   "outputs": [],
   "source": [
    "# dask_controller.daskclient"
   ]
  },
  {
   "cell_type": "markdown",
   "metadata": {},
   "source": [
    "### Reload Dataframes"
   ]
  },
  {
   "cell_type": "code",
   "execution_count": 21,
   "metadata": {},
   "outputs": [],
   "source": [
    "# excluding cell cycle\n",
    "timepoints_df_ss = dd.read_parquet(\"/home/de64/scratch/de64/sync_folder/2024-10-25_DE828_AHL_Titration/2024-11-01_Steady_State_Timepoints_df/\", engine=\"pyarrow\",calculate_divisions=True)\n",
    "timepoints_df_preinduction = dd.read_parquet(\"/home/de64/scratch/de64/sync_folder/2024-10-25_DE828_AHL_Titration/2024-11-01_Preinduction_Timepoints_df/\", engine=\"pyarrow\",calculate_divisions=True)\n",
    "\n",
    "growth_df_ss = dd.read_parquet(\"/home/de64/scratch/de64/sync_folder/2024-10-25_DE828_AHL_Titration/2024-11-01_Steady_State_Growth_df/\", engine=\"pyarrow\",calculate_divisions=True)\n",
    "growth_df_preinduction = dd.read_parquet(\"/home/de64/scratch/de64/sync_folder/2024-10-25_DE828_AHL_Titration/2024-11-01_Preinduction_Growth_df/\", engine=\"pyarrow\",calculate_divisions=True)"
   ]
  },
  {
   "cell_type": "markdown",
   "metadata": {
    "tags": []
   },
   "source": [
    "### 1a) Calculate Location, Scale and Correlation Estimates"
   ]
  },
  {
   "cell_type": "code",
   "execution_count": 22,
   "metadata": {
    "scrolled": true
   },
   "outputs": [
    {
     "name": "stderr",
     "output_type": "stream",
     "text": [
      "/home/de64/TrenchRipper/trenchripper/steadystate.py:716: UserWarning: `meta` is not specified, inferred from partial data. Please provide `meta` if the result is unexpected.\n",
      "  Before: .apply(func)\n",
      "  After:  .apply(func, meta={'x': 'f8', 'y': 'f8'}) for dataframe result\n",
      "  or:     .apply(func, meta=('x', 'f8'))            for series result\n",
      "  trench_estimator_df = trench_groupby.apply(lambda x: get_estimator_df_single_trench(x,param_groups,estimator,\\\n",
      "/home/de64/TrenchRipper/trenchripper/steadystate.py:716: UserWarning: `meta` is not specified, inferred from partial data. Please provide `meta` if the result is unexpected.\n",
      "  Before: .apply(func)\n",
      "  After:  .apply(func, meta={'x': 'f8', 'y': 'f8'}) for dataframe result\n",
      "  or:     .apply(func, meta=('x', 'f8'))            for series result\n",
      "  trench_estimator_df = trench_groupby.apply(lambda x: get_estimator_df_single_trench(x,param_groups,estimator,\\\n",
      "/home/de64/TrenchRipper/trenchripper/steadystate.py:764: UserWarning: `meta` is not specified, inferred from partial data. Please provide `meta` if the result is unexpected.\n",
      "  Before: .apply(func)\n",
      "  After:  .apply(func, meta={'x': 'f8', 'y': 'f8'}) for dataframe result\n",
      "  or:     .apply(func, meta=('x', 'f8'))            for series result\n",
      "  pre_post_mask = df.groupby(trench_key).apply(lambda x: sorted(x[\"Induction\"].unique())==[\"Post\",\"Pre\"]).compute()\n"
     ]
    }
   ],
   "source": [
    "steady_state_df_path = \"/home/de64/scratch/de64/sync_folder/2024-10-25_DE828_AHL_Titration/2024-11-01_Steady_State_Timepoints_df\"\n",
    "preinduction_df_path = \"/home/de64/scratch/de64/sync_folder/2024-10-25_DE828_AHL_Titration/2024-11-01_Preinduction_Timepoints_df\"\n",
    "single_variable_list = ['Length', 'Width', 'mCherry mean_intensity']\n",
    "bivariate_variable_list = []\n",
    "\n",
    "tr.export_estimator_df(steady_state_df_path,preinduction_df_path,single_variable_list,bivariate_variable_list,filter_proliferating=False,\\\n",
    "               variant_index=\"Condition Index\",final_columns=['Category', 'Condition Index', 'Condition', 'N Observations'],control_categories=['Control'])"
   ]
  },
  {
   "cell_type": "code",
   "execution_count": 23,
   "metadata": {
    "scrolled": true
   },
   "outputs": [
    {
     "name": "stderr",
     "output_type": "stream",
     "text": [
      "/home/de64/TrenchRipper/trenchripper/steadystate.py:716: UserWarning: `meta` is not specified, inferred from partial data. Please provide `meta` if the result is unexpected.\n",
      "  Before: .apply(func)\n",
      "  After:  .apply(func, meta={'x': 'f8', 'y': 'f8'}) for dataframe result\n",
      "  or:     .apply(func, meta=('x', 'f8'))            for series result\n",
      "  trench_estimator_df = trench_groupby.apply(lambda x: get_estimator_df_single_trench(x,param_groups,estimator,\\\n",
      "/home/de64/TrenchRipper/trenchripper/steadystate.py:716: UserWarning: `meta` is not specified, inferred from partial data. Please provide `meta` if the result is unexpected.\n",
      "  Before: .apply(func)\n",
      "  After:  .apply(func, meta={'x': 'f8', 'y': 'f8'}) for dataframe result\n",
      "  or:     .apply(func, meta=('x', 'f8'))            for series result\n",
      "  trench_estimator_df = trench_groupby.apply(lambda x: get_estimator_df_single_trench(x,param_groups,estimator,\\\n",
      "/home/de64/TrenchRipper/trenchripper/steadystate.py:764: UserWarning: `meta` is not specified, inferred from partial data. Please provide `meta` if the result is unexpected.\n",
      "  Before: .apply(func)\n",
      "  After:  .apply(func, meta={'x': 'f8', 'y': 'f8'}) for dataframe result\n",
      "  or:     .apply(func, meta=('x', 'f8'))            for series result\n",
      "  pre_post_mask = df.groupby(trench_key).apply(lambda x: sorted(x[\"Induction\"].unique())==[\"Post\",\"Pre\"]).compute()\n"
     ]
    }
   ],
   "source": [
    "steady_state_df_path = \"/home/de64/scratch/de64/sync_folder/2024-10-25_DE828_AHL_Titration/2024-11-01_Steady_State_Growth_df\"\n",
    "preinduction_df_path = \"/home/de64/scratch/de64/sync_folder/2024-10-25_DE828_AHL_Titration/2024-11-01_Preinduction_Growth_df\"\n",
    "single_variable_list = ['Instantaneous Growth Rate: Volume']\n",
    "bivariate_variable_list = []\n",
    "\n",
    "tr.export_estimator_df(steady_state_df_path,preinduction_df_path,single_variable_list,bivariate_variable_list,filter_proliferating=False,\\\n",
    "                   variant_index=\"Condition Index\",final_columns=['Category', 'Condition Index', 'Condition', 'N Observations'],control_categories=['Control'])"
   ]
  },
  {
   "cell_type": "markdown",
   "metadata": {},
   "source": [
    "## 2) Bootstrapping Estimators\n",
    "- Computing estimator bootstraps\n",
    "- Using this, find: $ var(\\hat\\theta) $, percentile confidence intervals, and p-values"
   ]
  },
  {
   "cell_type": "markdown",
   "metadata": {},
   "source": [
    "### 2a)  Bootstrapping Procedure\n",
    "\n",
    "\n",
    "- First, saving a repartitioned version of the sgRNA sorted dataframe\n",
    "- Then, running the aggregate bootstrapper on the trenches individually and saving the output\n",
    "- Finally aggregating on the whole dataset (for the parameters and estimators of interest) and outputting the samples for later manipulation\n",
    "- Of particular interest is comparing different estimators for robust measures of location, scale and the pearson correlation\n",
    "\n",
    "#### On Bootstrapping Choices\n",
    "\n",
    "- For the location, scale and correlation estimation, I am using a stationary bootstrap since it could be defined for entire trenches of data (i.d. mother and first daughter lineages)\n",
    "- For the ACF estimation, it is necessary to use the tapered block bootstrap since the stationary bootstrap adds biases to the ACF estimation\n",
    "- A drawback of this approach is that I may only use mother cells in the tapered case"
   ]
  },
  {
   "cell_type": "markdown",
   "metadata": {},
   "source": [
    "### Exports Trench-wise Bootstrap (For Location, Scale and Correlation Estimators)\n",
    "- Using a standard bootstrap for everything in this notebook because the timeseries is too short for the other methods"
   ]
  },
  {
   "cell_type": "markdown",
   "metadata": {},
   "source": [
    "### Start a Dask For Each (since it crashes)"
   ]
  },
  {
   "cell_type": "code",
   "execution_count": 3,
   "metadata": {},
   "outputs": [
    {
     "name": "stdout",
     "output_type": "stream",
     "text": [
      "350m\n",
      "06:00:00\n"
     ]
    }
   ],
   "source": [
    "# dask_controller = tr.trcluster.dask_controller(\n",
    "#     walltime=\"06:00:00\",\n",
    "#     local=False,\n",
    "#     n_workers=200,\n",
    "#     n_workers_min=200,\n",
    "#     memory=\"16GB\",\n",
    "#     working_directory=dask_wd,\n",
    "# )\n",
    "# dask_controller.startdask()"
   ]
  },
  {
   "cell_type": "code",
   "execution_count": 4,
   "metadata": {},
   "outputs": [
    {
     "data": {
      "text/html": [
       "<div>\n",
       "    <div style=\"width: 24px; height: 24px; background-color: #e1e1e1; border: 3px solid #9D9D9D; border-radius: 5px; position: absolute;\"> </div>\n",
       "    <div style=\"margin-left: 48px;\">\n",
       "        <h3 style=\"margin-bottom: 0px;\">Client</h3>\n",
       "        <p style=\"color: #9D9D9D; margin-bottom: 0px;\">Client-1ec6f751-bbee-11ee-8911-0cc47abb4d10</p>\n",
       "        <table style=\"width: 100%; text-align: left;\">\n",
       "\n",
       "        <tr>\n",
       "        \n",
       "            <td style=\"text-align: left;\"><strong>Connection method:</strong> Cluster object</td>\n",
       "            <td style=\"text-align: left;\"><strong>Cluster type:</strong> dask_jobqueue.SLURMCluster</td>\n",
       "        \n",
       "        </tr>\n",
       "\n",
       "        \n",
       "            <tr>\n",
       "                <td style=\"text-align: left;\">\n",
       "                    <strong>Dashboard: </strong> <a href=\"http://10.120.16.236:8787/status\" target=\"_blank\">http://10.120.16.236:8787/status</a>\n",
       "                </td>\n",
       "                <td style=\"text-align: left;\"></td>\n",
       "            </tr>\n",
       "        \n",
       "\n",
       "        </table>\n",
       "\n",
       "        \n",
       "\n",
       "        \n",
       "            <details>\n",
       "            <summary style=\"margin-bottom: 20px;\"><h3 style=\"display: inline;\">Cluster Info</h3></summary>\n",
       "            <div class=\"jp-RenderedHTMLCommon jp-RenderedHTML jp-mod-trusted jp-OutputArea-output\">\n",
       "    <div style=\"width: 24px; height: 24px; background-color: #e1e1e1; border: 3px solid #9D9D9D; border-radius: 5px; position: absolute;\">\n",
       "    </div>\n",
       "    <div style=\"margin-left: 48px;\">\n",
       "        <h3 style=\"margin-bottom: 0px; margin-top: 0px;\">SLURMCluster</h3>\n",
       "        <p style=\"color: #9D9D9D; margin-bottom: 0px;\">b2a01ac0</p>\n",
       "        <table style=\"width: 100%; text-align: left;\">\n",
       "            <tr>\n",
       "                <td style=\"text-align: left;\">\n",
       "                    <strong>Dashboard:</strong> <a href=\"http://10.120.16.236:8787/status\" target=\"_blank\">http://10.120.16.236:8787/status</a>\n",
       "                </td>\n",
       "                <td style=\"text-align: left;\">\n",
       "                    <strong>Workers:</strong> 0\n",
       "                </td>\n",
       "            </tr>\n",
       "            <tr>\n",
       "                <td style=\"text-align: left;\">\n",
       "                    <strong>Total threads:</strong> 0\n",
       "                </td>\n",
       "                <td style=\"text-align: left;\">\n",
       "                    <strong>Total memory:</strong> 0 B\n",
       "                </td>\n",
       "            </tr>\n",
       "            \n",
       "        </table>\n",
       "\n",
       "        <details>\n",
       "            <summary style=\"margin-bottom: 20px;\">\n",
       "                <h3 style=\"display: inline;\">Scheduler Info</h3>\n",
       "            </summary>\n",
       "\n",
       "            <div style=\"\">\n",
       "    <div>\n",
       "        <div style=\"width: 24px; height: 24px; background-color: #FFF7E5; border: 3px solid #FF6132; border-radius: 5px; position: absolute;\"> </div>\n",
       "        <div style=\"margin-left: 48px;\">\n",
       "            <h3 style=\"margin-bottom: 0px;\">Scheduler</h3>\n",
       "            <p style=\"color: #9D9D9D; margin-bottom: 0px;\">Scheduler-77e239d7-43a8-4628-9e72-a613aa9fef8d</p>\n",
       "            <table style=\"width: 100%; text-align: left;\">\n",
       "                <tr>\n",
       "                    <td style=\"text-align: left;\">\n",
       "                        <strong>Comm:</strong> tcp://10.120.16.236:36496\n",
       "                    </td>\n",
       "                    <td style=\"text-align: left;\">\n",
       "                        <strong>Workers:</strong> 0\n",
       "                    </td>\n",
       "                </tr>\n",
       "                <tr>\n",
       "                    <td style=\"text-align: left;\">\n",
       "                        <strong>Dashboard:</strong> <a href=\"http://10.120.16.236:8787/status\" target=\"_blank\">http://10.120.16.236:8787/status</a>\n",
       "                    </td>\n",
       "                    <td style=\"text-align: left;\">\n",
       "                        <strong>Total threads:</strong> 0\n",
       "                    </td>\n",
       "                </tr>\n",
       "                <tr>\n",
       "                    <td style=\"text-align: left;\">\n",
       "                        <strong>Started:</strong> Just now\n",
       "                    </td>\n",
       "                    <td style=\"text-align: left;\">\n",
       "                        <strong>Total memory:</strong> 0 B\n",
       "                    </td>\n",
       "                </tr>\n",
       "            </table>\n",
       "        </div>\n",
       "    </div>\n",
       "\n",
       "    <details style=\"margin-left: 48px;\">\n",
       "        <summary style=\"margin-bottom: 20px;\">\n",
       "            <h3 style=\"display: inline;\">Workers</h3>\n",
       "        </summary>\n",
       "\n",
       "        \n",
       "\n",
       "    </details>\n",
       "</div>\n",
       "\n",
       "        </details>\n",
       "    </div>\n",
       "</div>\n",
       "            </details>\n",
       "        \n",
       "\n",
       "    </div>\n",
       "</div>"
      ],
      "text/plain": [
       "<Client: 'tcp://10.120.16.236:36496' processes=0 threads=0, memory=0 B>"
      ]
     },
     "execution_count": 4,
     "metadata": {},
     "output_type": "execute_result"
    }
   ],
   "source": [
    "# dask_controller.daskclient"
   ]
  },
  {
   "cell_type": "code",
   "execution_count": 24,
   "metadata": {
    "tags": []
   },
   "outputs": [
    {
     "name": "stdout",
     "output_type": "stream",
     "text": [
      "0\n",
      "/home/de64/scratch/de64/sync_folder/2024-10-25_DE828_AHL_Titration/2024-11-01_Steady_State_Timepoints_df_temp_filtered\n",
      "Starting Run.\n",
      "Done.\n",
      "/home/de64/scratch/de64/sync_folder/2024-10-25_DE828_AHL_Titration/2024-11-01_Preinduction_Timepoints_df_temp_filtered\n",
      "Starting Run.\n",
      "Done.\n",
      "1\n",
      "/home/de64/scratch/de64/sync_folder/2024-10-25_DE828_AHL_Titration/2024-11-01_Steady_State_Timepoints_df_Trench_Estimator_Bootstrap_temp\n",
      "Starting Run.\n",
      "Done.\n",
      "2\n",
      "/home/de64/scratch/de64/sync_folder/2024-10-25_DE828_AHL_Titration/2024-11-01_Preinduction_Timepoints_df_Trench_Estimator_Bootstrap_temp\n",
      "Starting Run.\n",
      "Done.\n",
      "3\n",
      "/home/de64/scratch/de64/sync_folder/2024-10-25_DE828_AHL_Titration/2024-11-01_Steady_State_Timepoints_df_Trench_Estimator_Bootstrap\n",
      "Starting Run.\n",
      "Done.\n",
      "4\n",
      "/home/de64/scratch/de64/sync_folder/2024-10-25_DE828_AHL_Titration/2024-11-01_Steady_State_Timepoints_df_Trench_Estimator_Bootstrap_temp_2\n",
      "Starting Run.\n",
      "Done.\n",
      "Done!\n"
     ]
    }
   ],
   "source": [
    "n_bootstraps_trench_density = 100\n",
    "n_bootstraps_trench_aggregate = 1000\n",
    "overwrite = True\n",
    "\n",
    "estimators = [np.nanmean]\n",
    "estimator_names = [\"Mean\"]\n",
    "bivariate_variable_list = [False]\n",
    "estimator_names_to_agg = [\"Mean\",\"Mean\"]\n",
    "unpaired_aggregators=[np.nanmedian,np.nanmean]\n",
    "paired_aggregators=[]\n",
    "agg_names=[\"Mean (Robust)\",\"Mean (True)\"]\n",
    "\n",
    "single_variable_list = ['Length', 'Width','mCherry mean_intensity']\n",
    "pearsonr_variable_list = []\n",
    "\n",
    "steady_state_df_path = \"/home/de64/scratch/de64/sync_folder/2024-10-25_DE828_AHL_Titration/2024-11-01_Steady_State_Timepoints_df\"\n",
    "preinduction_df_path = \"/home/de64/scratch/de64/sync_folder/2024-10-25_DE828_AHL_Titration/2024-11-01_Preinduction_Timepoints_df\"\n",
    "\n",
    "tr.trenchwise_bootstrap_main(dask_controller,steady_state_df_path,preinduction_df_path,tr.bootstrap_density,estimators,estimator_names,bivariate_variable_list,\\\n",
    "                          single_variable_list,pearsonr_variable_list,filter_proliferating=False,\\\n",
    "                          variant_index='Condition Index',n_bootstraps_trench_density=n_bootstraps_trench_density,overwrite=overwrite)"
   ]
  },
  {
   "cell_type": "code",
   "execution_count": 25,
   "metadata": {
    "tags": []
   },
   "outputs": [
    {
     "name": "stdout",
     "output_type": "stream",
     "text": [
      "0\n",
      "/home/de64/scratch/de64/sync_folder/2024-10-25_DE828_AHL_Titration/2024-11-01_Steady_State_Timepoints_df_Variant_Estimator_Bootstrap_temp\n",
      "Starting Run.\n",
      "Done.\n",
      "1\n",
      "/home/de64/scratch/de64/sync_folder/2024-10-25_DE828_AHL_Titration/2024-11-01_Steady_State_Timepoints_df_Variant_Estimator_Bootstrap\n",
      "Starting Run.\n",
      "Done.\n",
      "2\n",
      "Done!\n"
     ]
    }
   ],
   "source": [
    "tr.trench_aggregate_bootstrap_main(dask_controller,steady_state_df_path,estimator_names,bivariate_variable_list,estimator_names_to_agg,unpaired_aggregators,paired_aggregators,\\\n",
    "                           agg_names,single_variable_list,pearsonr_variable_list,n_bootstraps_trench_aggregate=n_bootstraps_trench_aggregate,\\\n",
    "                            variant_index='Condition Index',overwrite=overwrite)"
   ]
  },
  {
   "cell_type": "code",
   "execution_count": 26,
   "metadata": {},
   "outputs": [
    {
     "name": "stdout",
     "output_type": "stream",
     "text": [
      "0\n",
      "/home/de64/scratch/de64/sync_folder/2024-10-25_DE828_AHL_Titration/2024-11-01_Steady_State_Growth_df_temp_filtered\n",
      "Starting Run.\n",
      "Done.\n",
      "/home/de64/scratch/de64/sync_folder/2024-10-25_DE828_AHL_Titration/2024-11-01_Preinduction_Growth_df_temp_filtered\n",
      "Starting Run.\n",
      "Done.\n",
      "1\n",
      "/home/de64/scratch/de64/sync_folder/2024-10-25_DE828_AHL_Titration/2024-11-01_Steady_State_Growth_df_Trench_Estimator_Bootstrap_temp\n",
      "Starting Run.\n",
      "Done.\n",
      "2\n",
      "/home/de64/scratch/de64/sync_folder/2024-10-25_DE828_AHL_Titration/2024-11-01_Preinduction_Growth_df_Trench_Estimator_Bootstrap_temp\n",
      "Starting Run.\n",
      "Done.\n",
      "3\n",
      "/home/de64/scratch/de64/sync_folder/2024-10-25_DE828_AHL_Titration/2024-11-01_Steady_State_Growth_df_Trench_Estimator_Bootstrap\n",
      "Starting Run.\n",
      "Done.\n",
      "4\n",
      "/home/de64/scratch/de64/sync_folder/2024-10-25_DE828_AHL_Titration/2024-11-01_Steady_State_Growth_df_Trench_Estimator_Bootstrap_temp_2\n",
      "Starting Run.\n",
      "Done.\n",
      "Done!\n"
     ]
    }
   ],
   "source": [
    "single_variable_list = ['Instantaneous Growth Rate: Volume']\n",
    "pearsonr_variable_list = []\n",
    "\n",
    "steady_state_df_path = \"/home/de64/scratch/de64/sync_folder/2024-10-25_DE828_AHL_Titration/2024-11-01_Steady_State_Growth_df\"\n",
    "preinduction_df_path = \"/home/de64/scratch/de64/sync_folder/2024-10-25_DE828_AHL_Titration/2024-11-01_Preinduction_Growth_df\"\n",
    "\n",
    "tr.trenchwise_bootstrap_main(dask_controller,steady_state_df_path,preinduction_df_path,tr.bootstrap_density,estimators,estimator_names,bivariate_variable_list,\\\n",
    "                              single_variable_list,pearsonr_variable_list,filter_proliferating=False,\\\n",
    "                      variant_index='Condition Index',n_bootstraps_trench_density=n_bootstraps_trench_density,overwrite=overwrite)"
   ]
  },
  {
   "cell_type": "code",
   "execution_count": 27,
   "metadata": {},
   "outputs": [
    {
     "name": "stdout",
     "output_type": "stream",
     "text": [
      "0\n",
      "/home/de64/scratch/de64/sync_folder/2024-10-25_DE828_AHL_Titration/2024-11-01_Steady_State_Growth_df_Variant_Estimator_Bootstrap_temp\n",
      "Starting Run.\n",
      "Done.\n",
      "1\n",
      "/home/de64/scratch/de64/sync_folder/2024-10-25_DE828_AHL_Titration/2024-11-01_Steady_State_Growth_df_Variant_Estimator_Bootstrap\n",
      "Starting Run.\n",
      "Done.\n",
      "2\n",
      "Done!\n"
     ]
    }
   ],
   "source": [
    "tr.trench_aggregate_bootstrap_main(dask_controller,steady_state_df_path,estimator_names,bivariate_variable_list,estimator_names_to_agg,unpaired_aggregators,paired_aggregators,\\\n",
    "                           agg_names,single_variable_list,pearsonr_variable_list,n_bootstraps_trench_aggregate=n_bootstraps_trench_aggregate,\\\n",
    "                            variant_index='Condition Index',overwrite=overwrite)"
   ]
  },
  {
   "cell_type": "code",
   "execution_count": 56,
   "metadata": {},
   "outputs": [
    {
     "name": "stdout",
     "output_type": "stream",
     "text": [
      "350m\n",
      "06:00:00\n"
     ]
    }
   ],
   "source": [
    "# dask_controller = tr.trcluster.dask_controller(\n",
    "#     walltime=\"06:00:00\",\n",
    "#     local=False,\n",
    "#     n_workers=100,\n",
    "#     n_workers_min=100,\n",
    "#     memory=\"16GB\",\n",
    "#     working_directory=dask_wd,\n",
    "# )\n",
    "# dask_controller.startdask()"
   ]
  },
  {
   "cell_type": "code",
   "execution_count": 57,
   "metadata": {},
   "outputs": [
    {
     "data": {
      "text/html": [
       "<div>\n",
       "    <div style=\"width: 24px; height: 24px; background-color: #e1e1e1; border: 3px solid #9D9D9D; border-radius: 5px; position: absolute;\"> </div>\n",
       "    <div style=\"margin-left: 48px;\">\n",
       "        <h3 style=\"margin-bottom: 0px;\">Client</h3>\n",
       "        <p style=\"color: #9D9D9D; margin-bottom: 0px;\">Client-6514a405-c789-11ee-9c58-149ecf12cc24</p>\n",
       "        <table style=\"width: 100%; text-align: left;\">\n",
       "\n",
       "        <tr>\n",
       "        \n",
       "            <td style=\"text-align: left;\"><strong>Connection method:</strong> Cluster object</td>\n",
       "            <td style=\"text-align: left;\"><strong>Cluster type:</strong> dask_jobqueue.SLURMCluster</td>\n",
       "        \n",
       "        </tr>\n",
       "\n",
       "        \n",
       "            <tr>\n",
       "                <td style=\"text-align: left;\">\n",
       "                    <strong>Dashboard: </strong> <a href=\"http://10.120.16.171:8787/status\" target=\"_blank\">http://10.120.16.171:8787/status</a>\n",
       "                </td>\n",
       "                <td style=\"text-align: left;\"></td>\n",
       "            </tr>\n",
       "        \n",
       "\n",
       "        </table>\n",
       "\n",
       "        \n",
       "\n",
       "        \n",
       "            <details>\n",
       "            <summary style=\"margin-bottom: 20px;\"><h3 style=\"display: inline;\">Cluster Info</h3></summary>\n",
       "            <div class=\"jp-RenderedHTMLCommon jp-RenderedHTML jp-mod-trusted jp-OutputArea-output\">\n",
       "    <div style=\"width: 24px; height: 24px; background-color: #e1e1e1; border: 3px solid #9D9D9D; border-radius: 5px; position: absolute;\">\n",
       "    </div>\n",
       "    <div style=\"margin-left: 48px;\">\n",
       "        <h3 style=\"margin-bottom: 0px; margin-top: 0px;\">SLURMCluster</h3>\n",
       "        <p style=\"color: #9D9D9D; margin-bottom: 0px;\">e3c0c530</p>\n",
       "        <table style=\"width: 100%; text-align: left;\">\n",
       "            <tr>\n",
       "                <td style=\"text-align: left;\">\n",
       "                    <strong>Dashboard:</strong> <a href=\"http://10.120.16.171:8787/status\" target=\"_blank\">http://10.120.16.171:8787/status</a>\n",
       "                </td>\n",
       "                <td style=\"text-align: left;\">\n",
       "                    <strong>Workers:</strong> 0\n",
       "                </td>\n",
       "            </tr>\n",
       "            <tr>\n",
       "                <td style=\"text-align: left;\">\n",
       "                    <strong>Total threads:</strong> 0\n",
       "                </td>\n",
       "                <td style=\"text-align: left;\">\n",
       "                    <strong>Total memory:</strong> 0 B\n",
       "                </td>\n",
       "            </tr>\n",
       "            \n",
       "        </table>\n",
       "\n",
       "        <details>\n",
       "            <summary style=\"margin-bottom: 20px;\">\n",
       "                <h3 style=\"display: inline;\">Scheduler Info</h3>\n",
       "            </summary>\n",
       "\n",
       "            <div style=\"\">\n",
       "    <div>\n",
       "        <div style=\"width: 24px; height: 24px; background-color: #FFF7E5; border: 3px solid #FF6132; border-radius: 5px; position: absolute;\"> </div>\n",
       "        <div style=\"margin-left: 48px;\">\n",
       "            <h3 style=\"margin-bottom: 0px;\">Scheduler</h3>\n",
       "            <p style=\"color: #9D9D9D; margin-bottom: 0px;\">Scheduler-35fc2e65-8b97-4baf-a880-1068b179bfb3</p>\n",
       "            <table style=\"width: 100%; text-align: left;\">\n",
       "                <tr>\n",
       "                    <td style=\"text-align: left;\">\n",
       "                        <strong>Comm:</strong> tcp://10.120.16.171:43556\n",
       "                    </td>\n",
       "                    <td style=\"text-align: left;\">\n",
       "                        <strong>Workers:</strong> 0\n",
       "                    </td>\n",
       "                </tr>\n",
       "                <tr>\n",
       "                    <td style=\"text-align: left;\">\n",
       "                        <strong>Dashboard:</strong> <a href=\"http://10.120.16.171:8787/status\" target=\"_blank\">http://10.120.16.171:8787/status</a>\n",
       "                    </td>\n",
       "                    <td style=\"text-align: left;\">\n",
       "                        <strong>Total threads:</strong> 0\n",
       "                    </td>\n",
       "                </tr>\n",
       "                <tr>\n",
       "                    <td style=\"text-align: left;\">\n",
       "                        <strong>Started:</strong> Just now\n",
       "                    </td>\n",
       "                    <td style=\"text-align: left;\">\n",
       "                        <strong>Total memory:</strong> 0 B\n",
       "                    </td>\n",
       "                </tr>\n",
       "            </table>\n",
       "        </div>\n",
       "    </div>\n",
       "\n",
       "    <details style=\"margin-left: 48px;\">\n",
       "        <summary style=\"margin-bottom: 20px;\">\n",
       "            <h3 style=\"display: inline;\">Workers</h3>\n",
       "        </summary>\n",
       "\n",
       "        \n",
       "\n",
       "    </details>\n",
       "</div>\n",
       "\n",
       "        </details>\n",
       "    </div>\n",
       "</div>\n",
       "            </details>\n",
       "        \n",
       "\n",
       "    </div>\n",
       "</div>"
      ],
      "text/plain": [
       "<Client: 'tcp://10.120.16.171:43556' processes=0 threads=0, memory=0 B>"
      ]
     },
     "execution_count": 57,
     "metadata": {},
     "output_type": "execute_result"
    }
   ],
   "source": [
    "# dask_controller.daskclient"
   ]
  },
  {
   "cell_type": "markdown",
   "metadata": {},
   "source": [
    "## 3) Combining Estimates and Bootstraps\n",
    "- Combine the information from the last two steps to get $ var(\\hat\\theta) $, confidence intervals and p-values\n",
    "- Part 1: Computing $ var(\\hat\\theta) $ and Confidence Intervals from Bootstraps\n",
    "- Part 2: Computing P-values from Control Bootstraps\n",
    "- Part 3: Assembling variances, CIs and P-values into single variant dataframe for export"
   ]
  },
  {
   "cell_type": "code",
   "execution_count": 29,
   "metadata": {},
   "outputs": [],
   "source": [
    "# dask_controller = tr.trcluster.dask_controller(\n",
    "#     walltime=\"03:00:00\",\n",
    "#     local=False,\n",
    "#     n_workers=50,\n",
    "#     n_workers_min=50,\n",
    "#     memory=\"8GB\",\n",
    "#     working_directory=dask_wd,\n",
    "# )\n",
    "# dask_controller.startdask()"
   ]
  },
  {
   "cell_type": "code",
   "execution_count": 30,
   "metadata": {},
   "outputs": [],
   "source": [
    "# dask_controller.daskclient"
   ]
  },
  {
   "cell_type": "code",
   "execution_count": 31,
   "metadata": {
    "scrolled": true
   },
   "outputs": [],
   "source": [
    "steady_state_timepoints_df_path = \"/home/de64/scratch/de64/sync_folder/2024-10-25_DE828_AHL_Titration/2024-11-01_Steady_State_Timepoints_df\"\n",
    "steady_state_growth_df_path = \"/home/de64/scratch/de64/sync_folder/2024-10-25_DE828_AHL_Titration/2024-11-01_Steady_State_Growth_df\"\n",
    "\n",
    "estimator_timepoints_stats_path = steady_state_timepoints_df_path + \"_Estimators_wStats.pkl\"\n",
    "estimator_cell_growth_path = steady_state_growth_df_path + \"_Estimators_wStats.pkl\"\n",
    "\n",
    "steady_state_estimator_path = \"/home/de64/group/de64/CRISPRi_Libraries/dev_notebooks/2024-11-23_Figure_Notebooks/Data/Translation_Knockdowns/Mother_Machine_Imaging/2024-11-01_Steady_State_df_Estimators_wStats.pkl\"\n",
    "steady_state_estimator_path_csv = \"/home/de64/group/de64/CRISPRi_Libraries/dev_notebooks/2024-11-23_Figure_Notebooks/Data/Translation_Knockdowns/Mother_Machine_Imaging/2024-11-01_Steady_State_df_Estimators_wStats.csv\"\n",
    "\n",
    "tr.get_final_bootstrap_output(steady_state_timepoints_df_path,include_ccf=False,filter_proliferating=False,include_pvals=False,variant_index='Condition Index')\n",
    "tr.get_final_bootstrap_output(steady_state_growth_df_path,include_ccf=False,filter_proliferating=False,include_pvals=False,variant_index='Condition Index')\n",
    "\n",
    "timepoints_estimator_df = pd.read_pickle(estimator_timepoints_stats_path)\n",
    "growth_estimator_df = pd.read_pickle(estimator_cell_growth_path)\n",
    "\n",
    "estimator_df = pd.concat([timepoints_estimator_df,growth_estimator_df]).sort_index()\n",
    "estimator_df.to_pickle(steady_state_estimator_path)\n",
    "estimator_df.to_csv(steady_state_estimator_path_csv)"
   ]
  },
  {
   "cell_type": "code",
   "execution_count": 35,
   "metadata": {},
   "outputs": [
    {
     "name": "stdout",
     "output_type": "stream",
     "text": [
      "Done.\n"
     ]
    },
    {
     "name": "stderr",
     "output_type": "stream",
     "text": [
      "2024-11-14 14:51:18,754 - distributed.deploy.adaptive_core - INFO - Adaptive stop\n"
     ]
    }
   ],
   "source": [
    "dask_controller.shutdown()"
   ]
  }
 ],
 "metadata": {
  "kernelspec": {
   "display_name": "Python 3 (ipykernel)",
   "language": "python",
   "name": "python3"
  },
  "language_info": {
   "codemirror_mode": {
    "name": "ipython",
    "version": 3
   },
   "file_extension": ".py",
   "mimetype": "text/x-python",
   "name": "python",
   "nbconvert_exporter": "python",
   "pygments_lexer": "ipython3",
   "version": "3.11.8"
  },
  "toc-autonumbering": false,
  "toc-showcode": false,
  "toc-showmarkdowntxt": false,
  "toc-showtags": false
 },
 "nbformat": 4,
 "nbformat_minor": 4
}
