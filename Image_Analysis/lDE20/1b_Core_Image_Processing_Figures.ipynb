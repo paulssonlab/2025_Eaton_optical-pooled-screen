{
 "cells": [
  {
   "cell_type": "markdown",
   "id": "4d14c0dc-62ca-4118-ae7a-86b523464fa6",
   "metadata": {},
   "source": [
    "### Rendering Bit Calling Histograms for Supplement"
   ]
  },
  {
   "cell_type": "code",
   "execution_count": 1,
   "id": "a64a8366-69ef-4a58-a681-545feb87f39f",
   "metadata": {},
   "outputs": [
    {
     "name": "stderr",
     "output_type": "stream",
     "text": [
      "/home/de64/micromamba/envs/crispri/lib/python3.10/site-packages/pandas/core/computation/expressions.py:21: UserWarning: Pandas requires version '2.8.0' or newer of 'numexpr' (version '2.7.3' currently installed).\n",
      "  from pandas.core.computation.check import NUMEXPR_INSTALLED\n"
     ]
    }
   ],
   "source": [
    "import trenchripper.trenchripper as tr\n",
    "\n",
    "import warnings\n",
    "\n",
    "warnings.filterwarnings(action=\"once\")\n",
    "\n",
    "import matplotlib\n",
    "\n",
    "matplotlib.rcParams[\"figure.figsize\"] = [20, 10]\n",
    "\n",
    "# addition of active memory manager\n",
    "import dask\n",
    "dask.config.set({'distributed.scheduler.active-memory-manager.start': True});\n",
    "dask.config.set({'distributed.scheduler.worker-ttl': \"5m\"});\n",
    "dask.config.set({'distributed.scheduler.allowed-failures': 100});\n",
    "\n",
    "import pandas as pd\n",
    "import numpy as np\n",
    "from matplotlib import pyplot as plt"
   ]
  },
  {
   "cell_type": "code",
   "execution_count": 2,
   "id": "d2bac8ee-c840-4c46-a808-3e08c34800a8",
   "metadata": {},
   "outputs": [],
   "source": [
    "def get_bit_threshold_fig(barcode_df,figsize=(24, 10),title=\"lDE20 Run 1\",colors = [\"salmon\", \"violet\", \"firebrick\"],channel_names=[\"Alexa Fluor 555\",\"Alexa Fluor 647\",\"Alexa Fluor 750\"],\\\n",
    "                          channel_ranges=[(0,4000),(0,15000),(0,3000)],ylabel=r\"Number of Trenches (x $10^{4}$)\",xlabel=\"Probe Intensity (AU)\", small_fontsize=16, large_fontsize=24):\n",
    "    \n",
    "    barcode_arr = np.array(barcode_df[\"Barcode Signal\"].tolist())\n",
    "    barcode_meta = barcode_df.metadata\n",
    "    bit_thresholds = barcode_meta['Bit Threshold List']\n",
    "    n_channels,n_timepoints = len(channel_names),(len(bit_thresholds)//len(channel_names))\n",
    "\n",
    "    fig, axes = plt.subplots(n_channels, n_timepoints, figsize=figsize, sharey=False)\n",
    "    \n",
    "    for idx in range(n_channels*n_timepoints):\n",
    "\n",
    "        row_idx = idx // n_timepoints\n",
    "        column_idx = idx % n_timepoints\n",
    "        color = colors[row_idx]\n",
    "        channel_name = channel_names[row_idx]\n",
    "        channel_range = channel_ranges[row_idx]\n",
    "\n",
    "        bins = np.linspace(channel_range[0], channel_range[1], num=200)\n",
    "        high_signal_mask = barcode_arr[:, idx]>bit_thresholds[idx]\n",
    "        on_arr = barcode_arr[:, idx][high_signal_mask]\n",
    "        off_arr = barcode_arr[:, idx][~high_signal_mask]\n",
    "\n",
    "        on_frq, on_edges = np.histogram(on_arr, bins)\n",
    "        off_frq, off_edges = np.histogram(off_arr, bins)\n",
    "        \n",
    "        on_frq = on_frq/10000\n",
    "        off_frq = off_frq/10000\n",
    "        \n",
    "        ax = axes[row_idx, column_idx]\n",
    "\n",
    "        ax.bar(off_edges[:-1], off_frq, width=np.diff(off_edges), align=\"edge\", color=\"grey\")\n",
    "        ax.bar(on_edges[:-1], on_frq, width=np.diff(on_edges), align=\"edge\", color=color)\n",
    "        ax.tick_params(axis='x', labelsize=small_fontsize)\n",
    "        ax.tick_params(axis='y', labelsize=small_fontsize)\n",
    "        \n",
    "        max_yval = (int(np.ceil(max(np.max(on_frq),np.max(off_frq)))))\n",
    "        if max_yval%2 == 1:\n",
    "            max_yval += 1\n",
    "        y_ticks = np.linspace(0,max_yval,num=5)\n",
    "        ax.set_yticks(y_ticks,labels=y_ticks)\n",
    "        \n",
    "        if column_idx == 0:\n",
    "            ax.set_ylabel(channel_name,fontsize=small_fontsize)\n",
    "        \n",
    "    fig.text(0.5, -0.04, xlabel, ha=\"center\", size=large_fontsize)\n",
    "    fig.text(-0.01, 0.5, ylabel, va=\"center\", rotation=\"vertical\", size=large_fontsize)\n",
    "    fig.suptitle(title,size=large_fontsize)\n",
    "\n",
    "    plt.tight_layout()\n",
    "    return fig"
   ]
  },
  {
   "cell_type": "code",
   "execution_count": 3,
   "id": "d2c08d65-ed1e-41f0-ad1b-9711e2a82c80",
   "metadata": {},
   "outputs": [],
   "source": [
    "#Experiment paths for library lDE20:\n",
    "\n",
    "run1 = \"/home/de64/scratch/de64/sync_folder/2022-01-18_lDE20_Final_5/Barcodes/barcode_output_df.hdf5\"\n",
    "merged_folder_path_1 = \"/home/de64/scratch/de64/sync_folder/2023-01-18_lDE20_Merged_Analysis/2022-01-18_lDE20_Final_5_Barcodes.png\"\n",
    "\n",
    "run2 = \"/home/de64/scratch/de64/sync_folder/2022-01-20_lDE20_Final_6/Barcodes/barcode_output_df.hdf5\"\n",
    "merged_folder_path_2 = \"/home/de64/scratch/de64/sync_folder/2023-01-18_lDE20_Merged_Analysis/2022-01-20_lDE20_Final_6_Barcodes.png\"\n",
    "\n",
    "run3 = \"/home/de64/scratch/de64/sync_folder/2023-01-02_lDE20_Run_8/Barcodes/barcode_output_df.hdf5\"\n",
    "merged_folder_path_3 = \"/home/de64/scratch/de64/sync_folder/2023-01-18_lDE20_Merged_Analysis/2023-01-02_lDE20_Run_8_Barcodes.png\"\n",
    "\n",
    "run4 = \"/home/de64/scratch/de64/sync_folder/2023-01-14_lDE20_Run_9/Barcodes/barcode_output_df.hdf5\"\n",
    "merged_folder_path_4 = \"/home/de64/scratch/de64/sync_folder/2023-01-18_lDE20_Merged_Analysis/2023-01-14_lDE20_Run_9_Barcodes.png\""
   ]
  },
  {
   "cell_type": "code",
   "execution_count": null,
   "id": "994c4839-fb15-49ee-bc65-4fc3c97b6d40",
   "metadata": {
    "tags": []
   },
   "outputs": [],
   "source": [
    "barcode_df_path = run1\n",
    "barcode_figure_output_path = merged_folder_path_1\n",
    "\n",
    "pandas_handle = tr.pandas_hdf5_handler(barcode_df_path)\n",
    "barcode_df = pandas_handle.read_df('barcodes',read_metadata=True)\n",
    "barcode_fig = get_bit_threshold_fig(barcode_df,colors = [\"salmon\", \"violet\", \"firebrick\"],channel_names=[\"Alexa Fluor 555\",\"Alexa Fluor 647\",\"Alexa Fluor 750\"],title=\"lDE23 Run 1\",\\\n",
    "                                   channel_ranges=[(0,10000),(0,50000),(0,8000)])\n",
    "plt.savefig(barcode_figure_output_path,dpi=300,bbox_inches=\"tight\")\n",
    "plt.show()"
   ]
  },
  {
   "cell_type": "code",
   "execution_count": null,
   "id": "227b0571-dff5-4122-a2b0-11d69b256b67",
   "metadata": {
    "tags": []
   },
   "outputs": [],
   "source": [
    "barcode_df_path = run2\n",
    "barcode_figure_output_path = merged_folder_path_2\n",
    "\n",
    "pandas_handle = tr.pandas_hdf5_handler(barcode_df_path)\n",
    "barcode_df = pandas_handle.read_df('barcodes',read_metadata=True)\n",
    "barcode_fig = get_bit_threshold_fig(barcode_df,colors = [\"salmon\", \"violet\", \"firebrick\"],channel_names=[\"Alexa Fluor 555\",\"Alexa Fluor 647\",\"Alexa Fluor 750\"],title=\"lDE23 Run 2\",\\\n",
    "                                   channel_ranges=[(0,10000),(0,50000),(0,8000)])\n",
    "plt.savefig(barcode_figure_output_path,dpi=300,bbox_inches=\"tight\")\n",
    "plt.show()"
   ]
  },
  {
   "cell_type": "code",
   "execution_count": null,
   "id": "83f105a3-8ecf-4d33-8aea-92ac6e6a6ded",
   "metadata": {
    "tags": []
   },
   "outputs": [],
   "source": [
    "barcode_df_path = run3\n",
    "barcode_figure_output_path = merged_folder_path_3\n",
    "\n",
    "pandas_handle = tr.pandas_hdf5_handler(barcode_df_path)\n",
    "barcode_df = pandas_handle.read_df('barcodes',read_metadata=True)\n",
    "barcode_fig = get_bit_threshold_fig(barcode_df,colors = [\"darkseagreen\", \"violet\", \"firebrick\"],channel_names=[\"Alexa Fluor 488\",\"Alexa Fluor 647\",\"Alexa Fluor 750\"],title=\"lDE23 Run 3\",\\\n",
    "                                   channel_ranges=[(0,4000),(0,12000),(0,3000)])\n",
    "plt.savefig(barcode_figure_output_path,dpi=300,bbox_inches=\"tight\")\n",
    "plt.show()"
   ]
  },
  {
   "cell_type": "code",
   "execution_count": null,
   "id": "087ac8da-fb79-46a8-954a-0f2e6d5dee5e",
   "metadata": {
    "tags": []
   },
   "outputs": [],
   "source": [
    "barcode_df_path = run4\n",
    "barcode_figure_output_path = merged_folder_path_4\n",
    "\n",
    "pandas_handle = tr.pandas_hdf5_handler(barcode_df_path)\n",
    "barcode_df = pandas_handle.read_df('barcodes',read_metadata=True)\n",
    "barcode_fig = get_bit_threshold_fig(barcode_df,colors = [\"darkseagreen\", \"violet\", \"firebrick\"],channel_names=[\"Alexa Fluor 488\",\"Alexa Fluor 647\",\"Alexa Fluor 750\"],title=\"lDE23 Run 4\",\\\n",
    "                                   channel_ranges=[(0,4000),(0,12000),(0,3000)])\n",
    "plt.savefig(barcode_figure_output_path,dpi=300,bbox_inches=\"tight\")\n",
    "plt.show()"
   ]
  },
  {
   "cell_type": "code",
   "execution_count": null,
   "id": "a0ab9387-face-4015-aab8-aba794b04aad",
   "metadata": {},
   "outputs": [],
   "source": []
  }
 ],
 "metadata": {
  "kernelspec": {
   "display_name": "Python 3 (ipykernel)",
   "language": "python",
   "name": "python3"
  },
  "language_info": {
   "codemirror_mode": {
    "name": "ipython",
    "version": 3
   },
   "file_extension": ".py",
   "mimetype": "text/x-python",
   "name": "python",
   "nbconvert_exporter": "python",
   "pygments_lexer": "ipython3",
   "version": "3.11.8"
  }
 },
 "nbformat": 4,
 "nbformat_minor": 5
}
