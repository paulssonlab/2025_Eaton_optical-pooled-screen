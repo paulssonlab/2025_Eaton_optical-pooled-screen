{
 "cells": [
  {
   "cell_type": "markdown",
   "metadata": {},
   "source": [
    "## Steady-state Single Variable Analysis"
   ]
  },
  {
   "cell_type": "code",
   "execution_count": 1,
   "metadata": {
    "tags": []
   },
   "outputs": [],
   "source": [
    "import trenchripper as tr\n",
    "\n",
    "import dask\n",
    "import warnings\n",
    "import random\n",
    "import anndata\n",
    "\n",
    "import numpy as np\n",
    "import pandas as pd\n",
    "import sklearn as skl\n",
    "import dask.dataframe as dd\n",
    "\n",
    "from matplotlib import pyplot as plt\n",
    "\n",
    "random.seed(42)\n",
    "np.random.seed(42)\n",
    "\n",
    "warnings.filterwarnings(action='once',category=UserWarning)\n",
    "\n",
    "# addition of active memory manager\n",
    "dask.config.set({'distributed.scheduler.active-memory-manager.start': True});\n",
    "dask.config.set({'distributed.scheduler.worker-ttl': \"5m\"});\n",
    "dask.config.set({'distributed.scheduler.allowed-failures': 100});\n",
    "\n",
    "dask_wd = \"/home/de64/scratch/de64/dask\""
   ]
  },
  {
   "cell_type": "markdown",
   "metadata": {},
   "source": [
    "### Load Functions"
   ]
  },
  {
   "cell_type": "code",
   "execution_count": 2,
   "metadata": {},
   "outputs": [],
   "source": [
    "def fit_reg(df,bootstrap=True,nbootstraps=500,ci=95):\n",
    "    #replace r squared with a more meaningful metric like rss or smthn\n",
    "    \n",
    "    growth_vals = df[\"Instantaneous Growth Rate: Volume\"].values\n",
    "    length_vals = df[\"Length\"].values\n",
    "    \n",
    "    reg_model = skl.linear_model.LinearRegression()\n",
    "    reg_model.fit(growth_vals.reshape(-1,1),np.log2(length_vals))\n",
    "    slope,intercept = reg_model.coef_[0],reg_model.intercept_\n",
    "    r2 = reg_model.score(growth_vals.reshape(-1,1),np.log2(length_vals))\n",
    "    \n",
    "    residuals = reg_model.predict(growth_vals.reshape(-1,1))-np.log2(length_vals)\n",
    "    mean_abs_residual = np.mean(np.abs(residuals))\n",
    "    max_length,min_length = np.max(length_vals),np.min(length_vals)\n",
    "    min_growth,length_at_min_growth = np.min(growth_vals),length_vals[np.argmin(growth_vals)]\n",
    "    \n",
    "    if bootstrap:\n",
    "        reg_model = skl.linear_model.LinearRegression()\n",
    "        X = growth_vals\n",
    "        y = np.log2(length_vals)\n",
    "        bootstrap_idx = np.random.choice(range(X.shape[0]), size=(nbootstraps,X.shape[0]))\n",
    "        boot_X = X[bootstrap_idx]\n",
    "        boot_y = y[bootstrap_idx]\n",
    "        \n",
    "        num = np.sum((boot_X-np.mean(boot_X,axis=1)[:,np.newaxis])*(boot_y-np.mean(boot_y,axis=1)[:,np.newaxis]),axis=1)\n",
    "        denom = np.sum((boot_X-np.mean(boot_X,axis=1)[:,np.newaxis])**2,axis=1)\n",
    "        slopes = num/denom\n",
    "        slope_diffs = np.abs(slopes-slope)\n",
    "        slope_diff_ci = np.percentile(slope_diffs,ci)\n",
    "        output = pd.Series({\"Slope\":slope,\"Intercept\":intercept, \"R2\":r2, \"Min Growth\":min_growth, \"Max Length\":max_length, \"Min Length\":min_length,\"Length at Min Growth Rate\":length_at_min_growth,\\\n",
    "                            \"Mean Abs Residual\": mean_abs_residual, \"CI\": slope_diff_ci})\n",
    "    else:\n",
    "        output = pd.Series({\"Slope\":slope,\"Intercept\":intercept, \"R2\":r2, \"Min Growth\":min_growth, \"Max Length\":max_length, \"Min Length\":min_length,\"Length at Min Growth Rate\":length_at_min_growth,\\\n",
    "                            \"Mean Abs Residual\": mean_abs_residual})\n",
    "    return output"
   ]
  },
  {
   "cell_type": "markdown",
   "metadata": {},
   "source": [
    "### Initial Data Processing"
   ]
  },
  {
   "cell_type": "markdown",
   "metadata": {},
   "source": [
    "#### Start Dask"
   ]
  },
  {
   "cell_type": "code",
   "execution_count": 3,
   "metadata": {
    "tags": []
   },
   "outputs": [
    {
     "name": "stdout",
     "output_type": "stream",
     "text": [
      "230m\n",
      "04:00:00\n"
     ]
    }
   ],
   "source": [
    "dask_controller = tr.trcluster.dask_controller(\n",
    "    walltime=\"04:00:00\",\n",
    "    local=False,\n",
    "    n_workers=100,\n",
    "    n_workers_min=100,\n",
    "    memory=\"16GB\",\n",
    "    working_directory=dask_wd,\n",
    ")\n",
    "dask_controller.startdask()"
   ]
  },
  {
   "cell_type": "code",
   "execution_count": 3,
   "metadata": {
    "tags": []
   },
   "outputs": [
    {
     "ename": "NameError",
     "evalue": "name 'dask_controller' is not defined",
     "output_type": "error",
     "traceback": [
      "\u001b[0;31m---------------------------------------------------------------------------\u001b[0m",
      "\u001b[0;31mNameError\u001b[0m                                 Traceback (most recent call last)",
      "Cell \u001b[0;32mIn[3], line 1\u001b[0m\n\u001b[0;32m----> 1\u001b[0m \u001b[43mdask_controller\u001b[49m\u001b[38;5;241m.\u001b[39mdaskclient\n",
      "\u001b[0;31mNameError\u001b[0m: name 'dask_controller' is not defined"
     ]
    }
   ],
   "source": [
    "dask_controller.daskclient"
   ]
  },
  {
   "cell_type": "markdown",
   "metadata": {
    "tags": []
   },
   "source": [
    "## Cell Cycle Analysis"
   ]
  },
  {
   "cell_type": "markdown",
   "metadata": {},
   "source": [
    "### Import Necessary Dataframes"
   ]
  },
  {
   "cell_type": "code",
   "execution_count": 5,
   "metadata": {},
   "outputs": [],
   "source": [
    "cell_cycle_df = dd.read_parquet(\"/home/de64/scratch/de64/sync_folder/2023-01-18_lDE20_Merged_Analysis/2023-01-18_lDE20_Lineage_Cell_Cycle_Merged/\", engine=\"pyarrow\",calculate_divisions=True)\n",
    "timepoints_df = dd.read_parquet(\"/home/de64/scratch/de64/sync_folder/2023-01-18_lDE20_Merged_Analysis/2023-01-18_lDE20_Lineage_Observations_Merged/\", engine=\"pyarrow\",calculate_divisions=True)\n",
    "growth_df = dd.read_parquet(\"/home/de64/scratch/de64/sync_folder/2023-01-18_lDE20_Merged_Analysis/2023-01-18_lDE20_Lineage_Growth_Observations_Merged/\", engine=\"pyarrow\",calculate_divisions=True)"
   ]
  },
  {
   "cell_type": "markdown",
   "metadata": {},
   "source": [
    "#### Select Parameters to Analyze"
   ]
  },
  {
   "cell_type": "code",
   "execution_count": 6,
   "metadata": {},
   "outputs": [],
   "source": [
    "cell_cycle_columns = ['Multi-Experiment Global CellID', 'Multi-Experiment FOV', 'Global CellID', 'phenotype trenchid', 'File Parquet Index', 'fov',\\\n",
    "       'row', 'trench', 'initial timepoints', 'Mother', 'CellID', 'Mother CellID', 'Daughter CellID 1', 'Daughter CellID 2', 'Sister CellID',\\\n",
    "                      'Experiment #', 'Birth: Length', 'Division: Length',\\\n",
    "                      'Delta: Length', 'Septum Displacement Length Normalized', 'Birth: Volume', 'Division: Volume', 'Delta: Volume',\\\n",
    "                      'Final time (s)','Initial time (s)','Delta time (s)','Growth Rate: Length','Growth Rate: Volume']\n",
    "timepoints_columns = ['Global CellID-Cell Cycle timepoints', 'phenotype trenchid', 'Global CellID', 'Observation time (s)', 'Length',\\\n",
    "                     'Width', 'mCherry mean_intensity', 'Experiment #', 'Multi-Experiment Global CellID']\n",
    "growth_columns = ['Global CellID-Growth Rate Measurement Index', 'phenotype trenchid', 'Global CellID', 'Measurement time (s)',\\\n",
    "                  'Instantaneous Growth Rate: Length', 'Instantaneous Growth Rate: Volume', 'Experiment #', 'Multi-Experiment Global CellID']\n",
    "\n",
    "cell_cycle_df = cell_cycle_df[cell_cycle_columns]\n",
    "timepoints_df = timepoints_df[timepoints_columns]\n",
    "growth_df = growth_df[growth_columns]"
   ]
  },
  {
   "cell_type": "markdown",
   "metadata": {},
   "source": [
    "### Classify proliferating cells\n",
    "- Classify trenches as proliferating or non-proliferating and exclude from subsequent analysis where appropriate\n",
    "- Proliferation criterion:\n",
    "    - Median instantanous growth rate for the trench must give a doubling time of at least once every 3 hours, that is $ \\lambda > \\frac{\\ln(2)}{3} \\frac{1}{hr} $ \n",
    "    - Median doubling time (for reported cell cycles) must give a doubling time of at least once every 3 hours\n",
    "    - The number of cell cycle reports (of the mother cell only) must also average out to once every 3 hours"
   ]
  },
  {
   "cell_type": "code",
   "execution_count": 7,
   "metadata": {},
   "outputs": [],
   "source": [
    "induction_time = 2*3600\n",
    "steady_state_time = 7*3600\n",
    "final_time = 10*3600\n",
    "steady_state_interval = final_time-steady_state_time\n",
    "\n",
    "doubling_threshold = 3\n",
    "growth_rate_threshold = np.log(2)/doubling_threshold\n",
    "doubling_time_threshold = doubling_threshold*3600\n",
    "# n_mother_cycles = int(np.ceil(steady_state_interval/doubling_time_threshold))"
   ]
  },
  {
   "cell_type": "code",
   "execution_count": 8,
   "metadata": {
    "tags": []
   },
   "outputs": [
    {
     "name": "stderr",
     "output_type": "stream",
     "text": [
      "/tmp/ipykernel_31543/3455830797.py:4: UserWarning: `meta` is not specified, inferred from partial data. Please provide `meta` if the result is unexpected.\n",
      "  Before: .apply(func)\n",
      "  After:  .apply(func, meta={'x': 'f8', 'y': 'f8'}) for dataframe result\n",
      "  or:     .apply(func, meta=('x', 'f8'))            for series result\n",
      "  median_growth_rate_series = growth_df_ss.groupby(\"Multi-Experiment Phenotype Trenchid\")[\"Instantaneous Growth Rate: Volume\"].apply(lambda x: np.nanmedian(x)).compute()\n",
      "/tmp/ipykernel_31543/3455830797.py:5: UserWarning: `meta` is not specified, inferred from partial data. Please provide `meta` if the result is unexpected.\n",
      "  Before: .apply(func)\n",
      "  After:  .apply(func, meta={'x': 'f8', 'y': 'f8'}) for dataframe result\n",
      "  or:     .apply(func, meta=('x', 'f8'))            for series result\n",
      "  median_doubling_time_series = cell_cycle_df_ss.groupby(\"Multi-Experiment Phenotype Trenchid\")[\"Delta time (s)\"].apply(lambda x: np.nanmedian(x)).compute()\n"
     ]
    }
   ],
   "source": [
    "cell_cycle_df_ss = cell_cycle_df[cell_cycle_df[\"Initial time (s)\"]>=steady_state_time][[\"Delta time (s)\",\"Mother\"]]\n",
    "growth_df_ss = growth_df[growth_df[\"Measurement time (s)\"]>=steady_state_time][[\"Instantaneous Growth Rate: Volume\"]]\n",
    "\n",
    "median_growth_rate_series = growth_df_ss.groupby(\"Multi-Experiment Phenotype Trenchid\")[\"Instantaneous Growth Rate: Volume\"].apply(lambda x: np.nanmedian(x)).compute()\n",
    "median_doubling_time_series = cell_cycle_df_ss.groupby(\"Multi-Experiment Phenotype Trenchid\")[\"Delta time (s)\"].apply(lambda x: np.nanmedian(x)).compute()\n",
    "n_cell_cycles_series = cell_cycle_df_ss[cell_cycle_df_ss[\"Mother\"]==True].groupby(\"Multi-Experiment Phenotype Trenchid\").size().compute()"
   ]
  },
  {
   "cell_type": "code",
   "execution_count": 9,
   "metadata": {},
   "outputs": [],
   "source": [
    "trenches_above_growth_thr = median_growth_rate_series>growth_rate_threshold\n",
    "trenches_below_doubling_thr = median_doubling_time_series<doubling_time_threshold\n",
    "# trenches_above_n_cycles_thr = n_cell_cycles_series>n_mother_cycles\n",
    "proliferating_trench_df = pd.concat([trenches_above_growth_thr,trenches_below_doubling_thr],join=\"inner\",axis=1)\n",
    "proliferating_trench_df[\"Proliferating\"] = np.all(proliferating_trench_df.values, axis=1)\n",
    "proliferating_trench_df = proliferating_trench_df.drop([\"Instantaneous Growth Rate: Volume\",\"Delta time (s)\"], axis=1)\n",
    "cell_cycle_df = cell_cycle_df.join(proliferating_trench_df,how=\"inner\").persist()\n",
    "wait(cell_cycle_df);"
   ]
  },
  {
   "cell_type": "code",
   "execution_count": 10,
   "metadata": {},
   "outputs": [
    {
     "data": {
      "image/png": "[encoded data removed]",
      "text/plain": [
       "<Figure size 640x480 with 1 Axes>"
      ]
     },
     "metadata": {},
     "output_type": "display_data"
    },
    {
     "data": {
      "image/png": "[encoded data removed]",
      "text/plain": [
       "<Figure size 640x480 with 1 Axes>"
      ]
     },
     "metadata": {},
     "output_type": "display_data"
    }
   ],
   "source": [
    "plt.hist(median_growth_rate_series[median_growth_rate_series>growth_rate_threshold],bins=50,log=True,range=(0,2))\n",
    "plt.hist(median_growth_rate_series[median_growth_rate_series<=growth_rate_threshold],bins=50,log=True,range=(0,2))\n",
    "plt.xlabel(\"Growth Rate (1/hr)\",fontsize=14)\n",
    "plt.show()\n",
    "\n",
    "plt.hist(median_doubling_time_series[median_doubling_time_series<=doubling_time_threshold]/3600,bins=20,log=True,range=(0,4))\n",
    "plt.hist(median_doubling_time_series[median_doubling_time_series>doubling_time_threshold]/3600,bins=20,log=True,range=(0,4))\n",
    "plt.xlabel(\"Doubling Time (hr)\",fontsize=14)\n",
    "plt.show()"
   ]
  },
  {
   "cell_type": "code",
   "execution_count": 11,
   "metadata": {},
   "outputs": [
    {
     "name": "stdout",
     "output_type": "stream",
     "text": [
      "0.9993732548809569\n"
     ]
    }
   ],
   "source": [
    "frac_proliferating = np.sum(proliferating_trench_df[\"Proliferating\"])/len(proliferating_trench_df)\n",
    "print(frac_proliferating)"
   ]
  },
  {
   "cell_type": "markdown",
   "metadata": {},
   "source": [
    "#### Add sgRNA info for real data"
   ]
  },
  {
   "cell_type": "code",
   "execution_count": 12,
   "metadata": {
    "tags": []
   },
   "outputs": [
    {
     "name": "stderr",
     "output_type": "stream",
     "text": [
      "/home/de64/micromamba/envs/crispri/lib/python3.10/site-packages/dask/dataframe/core.py:5252: UserWarning: New index has same name as existing, this is a no-op.\n",
      "  warnings.warn(\n",
      "/tmp/ipykernel_31543/2136909752.py:3: UserWarning: `meta` is not specified, inferred from partial data. Please provide `meta` if the result is unexpected.\n",
      "  Before: .apply(func)\n",
      "  After:  .apply(func, meta={'x': 'f8', 'y': 'f8'}) for dataframe result\n",
      "  or:     .apply(func, meta=('x', 'f8'))            for series result\n",
      "  final_output_df_barcodes = final_output_df_barcodes.set_index(\"Multi-Experiment Phenotype Trenchid\",sorted=True).groupby(\"Multi-Experiment Phenotype Trenchid\",sort=False).apply(lambda x: x.iloc[0]).persist()\n"
     ]
    }
   ],
   "source": [
    "final_output_df_barcodes = dd.read_parquet(\"/home/de64/scratch/de64/sync_folder/2023-01-18_lDE20_Merged_Analysis/2023-01-18_lDE20_Final_Barcodes_df_Merged\",engine=\"pyarrow\",calculate_divisions=True).persist()\n",
    "wait(final_output_df_barcodes);\n",
    "final_output_df_barcodes = final_output_df_barcodes.set_index(\"Multi-Experiment Phenotype Trenchid\",sorted=True).groupby(\"Multi-Experiment Phenotype Trenchid\",sort=False).apply(lambda x: x.iloc[0]).persist()\n",
    "wait(final_output_df_barcodes);\n",
    "final_output_df_barcodes = final_output_df_barcodes.reset_index().set_index(\"oDEPool7_id\",drop=True)\n",
    "final_output_df_barcodes = final_output_df_barcodes.reset_index().set_index(\"Multi-Experiment Phenotype Trenchid\").persist()\n",
    "wait(final_output_df_barcodes);\n",
    "final_output_df_barcodes = final_output_df_barcodes[['oDEPool7_id','Barcode','sgRNA','Closest Hamming Distance', 'EcoWG1_id', 'Gene', 'N Mismatch', 'Category', 'TargetID', 'barcodeid']]\n",
    "wait(final_output_df_barcodes);\n",
    "cell_cycle_df = cell_cycle_df.join(final_output_df_barcodes)\n",
    "timepoints_df = timepoints_df.join(final_output_df_barcodes)\n",
    "growth_df = growth_df.join(final_output_df_barcodes)"
   ]
  },
  {
   "cell_type": "code",
   "execution_count": 13,
   "metadata": {
    "scrolled": true,
    "tags": []
   },
   "outputs": [
    {
     "name": "stderr",
     "output_type": "stream",
     "text": [
      "/home/de64/micromamba/envs/crispri/lib/python3.10/site-packages/dask/dataframe/core.py:7086: FutureWarning: Meta is not valid, `map_partitions` and `map_overlap` expects output to be a pandas object. Try passing a pandas object as meta or a dict or tuple representing the (name, dtype) of the columns. In the future the meta you passed will not work.\n",
      "  warnings.warn(\n",
      "/home/de64/micromamba/envs/crispri/lib/python3.10/site-packages/dask/dataframe/core.py:7086: FutureWarning: Meta is not valid, `map_partitions` and `map_overlap` expects output to be a pandas object. Try passing a pandas object as meta or a dict or tuple representing the (name, dtype) of the columns. In the future the meta you passed will not work.\n",
      "  warnings.warn(\n",
      "/home/de64/micromamba/envs/crispri/lib/python3.10/site-packages/dask/dataframe/core.py:7086: FutureWarning: Meta is not valid, `map_partitions` and `map_overlap` expects output to be a pandas object. Try passing a pandas object as meta or a dict or tuple representing the (name, dtype) of the columns. In the future the meta you passed will not work.\n",
      "  warnings.warn(\n",
      "/home/de64/micromamba/envs/crispri/lib/python3.10/site-packages/dask/dataframe/core.py:7086: FutureWarning: Meta is not valid, `map_partitions` and `map_overlap` expects output to be a pandas object. Try passing a pandas object as meta or a dict or tuple representing the (name, dtype) of the columns. In the future the meta you passed will not work.\n",
      "  warnings.warn(\n"
     ]
    }
   ],
   "source": [
    "cell_cycle_df_only_proliferating = cell_cycle_df[cell_cycle_df[\"Proliferating\"]]\n",
    "\n",
    "n_obs_cell_cycle = cell_cycle_df.groupby(\"oDEPool7_id\",sort=False).apply(lambda x: len(x.index.unique()), meta=int).compute()\n",
    "n_obs_cell_cycle = pd.DataFrame(n_obs_cell_cycle).rename({0:\"N Observations\"}, axis=1).sort_index()\n",
    "n_obs_cell_cycle_prolif = cell_cycle_df_only_proliferating.groupby(\"oDEPool7_id\",sort=False).apply(lambda x: len(x.index.unique()), meta=int).compute()\n",
    "n_obs_cell_cycle_prolif = pd.DataFrame(n_obs_cell_cycle_prolif).rename({0:\"N Observations Proliferating\"}, axis=1).sort_index()\n",
    "n_obs_cell_cycle_df = pd.concat([n_obs_cell_cycle,n_obs_cell_cycle_prolif],axis=1)\n",
    "n_obs_cell_cycle_df.loc[np.isnan(n_obs_cell_cycle_df[\"N Observations Proliferating\"]),\"N Observations Proliferating\"] = 0\n",
    "n_obs_cell_cycle_df[\"N Observations Proliferating\"] = n_obs_cell_cycle_df[\"N Observations Proliferating\"].astype(int)\n",
    "cell_cycle_df = cell_cycle_df.join(n_obs_cell_cycle_df,on=\"oDEPool7_id\")\n",
    "\n",
    "n_obs_timepoints = timepoints_df.groupby(\"oDEPool7_id\",sort=False).apply(lambda x: len(x.index.unique()), meta=int).compute()\n",
    "n_obs_timepoints = pd.DataFrame(n_obs_timepoints).rename({0:\"N Observations\"}, axis=1).sort_index()\n",
    "timepoints_df = timepoints_df.join(n_obs_timepoints,on=\"oDEPool7_id\")\n",
    "\n",
    "n_obs_growth = growth_df.groupby(\"oDEPool7_id\",sort=False).apply(lambda x: len(x.index.unique()), meta=int).compute()\n",
    "n_obs_growth = pd.DataFrame(n_obs_growth).rename({0:\"N Observations\"}, axis=1).sort_index()\n",
    "growth_df = growth_df.join(n_obs_growth,on=\"oDEPool7_id\")"
   ]
  },
  {
   "cell_type": "markdown",
   "metadata": {},
   "source": [
    "### Determine when cells reach steady state and save intermediate df as a checkpoint"
   ]
  },
  {
   "cell_type": "code",
   "execution_count": 14,
   "metadata": {
    "tags": []
   },
   "outputs": [],
   "source": [
    "cell_cycle_df_ss = cell_cycle_df[cell_cycle_df[\"Initial time (s)\"]>=steady_state_time]\n",
    "cell_cycle_df_preinduction = cell_cycle_df[cell_cycle_df[\"Final time (s)\"]<=induction_time]\n",
    "cell_cycle_df = cell_cycle_df.reset_index().set_index(\"Multi-Experiment Phenotype Trenchid\",sorted=True).repartition(npartitions=400)\n",
    "cell_cycle_df_ss.to_parquet(\"/home/de64/scratch/de64/sync_folder/2023-01-18_lDE20_Merged_Analysis/2024-01-25_lDE20_Steady_State_Cell_Cycle_df/\", engine=\"pyarrow\", overwrite=True)\n",
    "cell_cycle_df_preinduction.to_parquet(\"/home/de64/scratch/de64/sync_folder/2023-01-18_lDE20_Merged_Analysis/2024-01-25_lDE20_Preinduction_Cell_Cycle_df/\", engine=\"pyarrow\", overwrite=True)\n",
    "\n",
    "timepoints_df_ss = timepoints_df[timepoints_df[\"Observation time (s)\"]>=steady_state_time]\n",
    "timepoints_df_preinduction = timepoints_df[timepoints_df[\"Observation time (s)\"]<=induction_time]\n",
    "timepoints_df = timepoints_df.reset_index().set_index(\"Multi-Experiment Phenotype Trenchid\",sorted=True).repartition(npartitions=400)\n",
    "timepoints_df_ss.to_parquet(\"/home/de64/scratch/de64/sync_folder/2023-01-18_lDE20_Merged_Analysis/2024-01-25_lDE20_Steady_State_Timepoints_df/\", engine=\"pyarrow\", overwrite=True)\n",
    "timepoints_df_preinduction.to_parquet(\"/home/de64/scratch/de64/sync_folder/2023-01-18_lDE20_Merged_Analysis/2024-01-25_lDE20_Preinduction_Timepoints_df/\", engine=\"pyarrow\", overwrite=True)\n",
    "\n",
    "growth_df_ss = growth_df[growth_df[\"Measurement time (s)\"]>=steady_state_time]\n",
    "growth_df_preinduction = growth_df[growth_df[\"Measurement time (s)\"]<=induction_time]\n",
    "growth_df = growth_df.reset_index().set_index(\"Multi-Experiment Phenotype Trenchid\",sorted=True).repartition(npartitions=400)\n",
    "growth_df_ss.to_parquet(\"/home/de64/scratch/de64/sync_folder/2023-01-18_lDE20_Merged_Analysis/2024-01-25_lDE20_Steady_State_Growth_df/\", engine=\"pyarrow\", overwrite=True)\n",
    "growth_df_preinduction.to_parquet(\"/home/de64/scratch/de64/sync_folder/2023-01-18_lDE20_Merged_Analysis/2024-01-25_lDE20_Preinduction_Growth_df/\", engine=\"pyarrow\", overwrite=True)\n",
    "dask_controller.reset_worker_memory()"
   ]
  },
  {
   "cell_type": "markdown",
   "metadata": {},
   "source": [
    "## Computing Trench-wise Estimator Distributions\n",
    "\n",
    "- These distributions can be used to construct confidence intervals (this will help with clustering)\n",
    "- They can also be re-used to compute p-values (with some modification)\n",
    "\n",
    "### Estimators of Interest\n",
    "\n",
    "- Mean\n",
    "- Median\n",
    "- CV\n",
    "- MAD CV\n",
    "- Pearson R\n",
    "- Qn (Pearson R)\n",
    "\n",
    "### Bootstraps of Interest\n",
    "\n",
    "- Naive Bootstrap\n",
    "- Tapered Block Bootstrap\n",
    "    - Using for ACFs\n",
    "- Stationary Bootstrap\n",
    "    - Using for location, scale and pearson correlation (single cell cycle)"
   ]
  },
  {
   "cell_type": "markdown",
   "metadata": {},
   "source": [
    "## 1) Computing Estimators\n",
    "- Actually computes estimators for different steady state values\n",
    "- Will be merged with p-values, CIs and variances from bootstrapping"
   ]
  },
  {
   "cell_type": "code",
   "execution_count": 4,
   "metadata": {},
   "outputs": [
    {
     "name": "stdout",
     "output_type": "stream",
     "text": [
      "170m\n",
      "03:00:00\n"
     ]
    }
   ],
   "source": [
    "dask_controller = tr.trcluster.dask_controller(\n",
    "    walltime=\"03:00:00\",\n",
    "    local=False,\n",
    "    n_workers=200,\n",
    "    n_workers_min=100,\n",
    "    memory=\"16GB\",\n",
    "    working_directory=dask_wd,\n",
    ")\n",
    "dask_controller.startdask()"
   ]
  },
  {
   "cell_type": "code",
   "execution_count": null,
   "metadata": {
    "tags": []
   },
   "outputs": [],
   "source": [
    "dask_controller.daskclient"
   ]
  },
  {
   "cell_type": "markdown",
   "metadata": {},
   "source": [
    "### Reload Dataframes"
   ]
  },
  {
   "cell_type": "code",
   "execution_count": 15,
   "metadata": {},
   "outputs": [],
   "source": [
    "cell_cycle_df_ss = dd.read_parquet(\"/home/de64/scratch/de64/sync_folder/2023-01-18_lDE20_Merged_Analysis/2024-01-25_lDE20_Steady_State_Cell_Cycle_df/\", engine=\"pyarrow\",calculate_divisions=True)\n",
    "cell_cycle_df_preinduction = dd.read_parquet(\"/home/de64/scratch/de64/sync_folder/2023-01-18_lDE20_Merged_Analysis/2024-01-25_lDE20_Preinduction_Cell_Cycle_df/\", engine=\"pyarrow\",calculate_divisions=True)\n",
    "\n",
    "timepoints_df_ss = dd.read_parquet(\"/home/de64/scratch/de64/sync_folder/2023-01-18_lDE20_Merged_Analysis/2024-01-25_lDE20_Steady_State_Timepoints_df/\", engine=\"pyarrow\",calculate_divisions=True)\n",
    "timepoints_df_preinduction = dd.read_parquet(\"/home/de64/scratch/de64/sync_folder/2023-01-18_lDE20_Merged_Analysis/2024-01-25_lDE20_Preinduction_Timepoints_df/\", engine=\"pyarrow\",calculate_divisions=True)\n",
    "\n",
    "growth_df_ss = dd.read_parquet(\"/home/de64/scratch/de64/sync_folder/2023-01-18_lDE20_Merged_Analysis/2024-01-25_lDE20_Steady_State_Growth_df/\", engine=\"pyarrow\",calculate_divisions=True)\n",
    "growth_df_preinduction = dd.read_parquet(\"/home/de64/scratch/de64/sync_folder/2023-01-18_lDE20_Merged_Analysis/2024-01-25_lDE20_Preinduction_Growth_df/\", engine=\"pyarrow\",calculate_divisions=True)"
   ]
  },
  {
   "cell_type": "markdown",
   "metadata": {
    "tags": []
   },
   "source": [
    "### 1a) Calculate Location, Scale and Correlation Estimates"
   ]
  },
  {
   "cell_type": "code",
   "execution_count": 16,
   "metadata": {
    "scrolled": true
   },
   "outputs": [
    {
     "name": "stderr",
     "output_type": "stream",
     "text": [
      "/home/de64/paulssonlab/paulssonlab/src/paulssonlab/deaton/trenchripper/trenchripper/steadystate.py:755: UserWarning: `meta` is not specified, inferred from partial data. Please provide `meta` if the result is unexpected.\n",
      "  Before: .apply(func)\n",
      "  After:  .apply(func, meta={'x': 'f8', 'y': 'f8'}) for dataframe result\n",
      "  or:     .apply(func, meta=('x', 'f8'))            for series result\n",
      "  trench_estimator_df = trench_groupby.apply(lambda x: get_estimator_df_single_trench(x,param_groups,estimator,\\\n",
      "/home/de64/paulssonlab/paulssonlab/src/paulssonlab/deaton/trenchripper/trenchripper/steadystate.py:755: UserWarning: `meta` is not specified, inferred from partial data. Please provide `meta` if the result is unexpected.\n",
      "  Before: .apply(func)\n",
      "  After:  .apply(func, meta={'x': 'f8', 'y': 'f8'}) for dataframe result\n",
      "  or:     .apply(func, meta=('x', 'f8'))            for series result\n",
      "  trench_estimator_df = trench_groupby.apply(lambda x: get_estimator_df_single_trench(x,param_groups,estimator,\\\n",
      "/home/de64/micromamba/envs/crispri/lib/python3.10/site-packages/distributed/client.py:3149: UserWarning: Sending large graph of size 474.71 MiB.\n",
      "This may cause some slowdown.\n",
      "Consider scattering data ahead of time and using futures.\n",
      "  warnings.warn(\n",
      "/home/de64/paulssonlab/paulssonlab/src/paulssonlab/deaton/trenchripper/trenchripper/steadystate.py:803: UserWarning: `meta` is not specified, inferred from partial data. Please provide `meta` if the result is unexpected.\n",
      "  Before: .apply(func)\n",
      "  After:  .apply(func, meta={'x': 'f8', 'y': 'f8'}) for dataframe result\n",
      "  or:     .apply(func, meta=('x', 'f8'))            for series result\n",
      "  pre_post_mask = df.groupby(trench_key).apply(lambda x: sorted(x[\"Induction\"].unique())==[\"Post\",\"Pre\"]).compute()\n"
     ]
    }
   ],
   "source": [
    "steady_state_df_path = \"/home/de64/scratch/de64/sync_folder/2023-01-18_lDE20_Merged_Analysis/2024-01-25_lDE20_Steady_State_Cell_Cycle_df\"\n",
    "preinduction_df_path = \"/home/de64/scratch/de64/sync_folder/2023-01-18_lDE20_Merged_Analysis/2024-01-25_lDE20_Preinduction_Cell_Cycle_df\"\n",
    "single_variable_list = ['Septum Displacement Length Normalized','Delta time (s)']\n",
    "bivariate_variable_list = []\n",
    "\n",
    "tr.export_estimator_df(steady_state_df_path,preinduction_df_path,single_variable_list,bivariate_variable_list,filter_proliferating=True,\\\n",
    "                    final_columns=['oDEPool7_id', 'sgRNA','EcoWG1_id', 'Gene', 'N Mismatch', 'Category', 'TargetID', 'N Observations', 'N Observations Proliferating'])"
   ]
  },
  {
   "cell_type": "code",
   "execution_count": 23,
   "metadata": {
    "scrolled": true
   },
   "outputs": [
    {
     "name": "stderr",
     "output_type": "stream",
     "text": [
      "/home/de64/paulssonlab/paulssonlab/src/paulssonlab/deaton/trenchripper/trenchripper/steadystate.py:681: FutureWarning: Series.__getitem__ treating keys as positions is deprecated. In a future version, integer keys will always be treated as labels (consistent with DataFrame behavior). To access a value by position, use `ser.iloc[pos]`\n",
      "  estimator_output[final_columns] = trench_df[final_columns].iloc[0]\n",
      "/home/de64/paulssonlab/paulssonlab/src/paulssonlab/deaton/trenchripper/trenchripper/steadystate.py:681: FutureWarning: Series.__getitem__ treating keys as positions is deprecated. In a future version, integer keys will always be treated as labels (consistent with DataFrame behavior). To access a value by position, use `ser.iloc[pos]`\n",
      "  estimator_output[final_columns] = trench_df[final_columns].iloc[0]\n",
      "/home/de64/paulssonlab/paulssonlab/src/paulssonlab/deaton/trenchripper/trenchripper/steadystate.py:681: FutureWarning: Series.__getitem__ treating keys as positions is deprecated. In a future version, integer keys will always be treated as labels (consistent with DataFrame behavior). To access a value by position, use `ser.iloc[pos]`\n",
      "  estimator_output[final_columns] = trench_df[final_columns].iloc[0]\n",
      "/home/de64/paulssonlab/paulssonlab/src/paulssonlab/deaton/trenchripper/trenchripper/steadystate.py:681: FutureWarning: Series.__getitem__ treating keys as positions is deprecated. In a future version, integer keys will always be treated as labels (consistent with DataFrame behavior). To access a value by position, use `ser.iloc[pos]`\n",
      "  estimator_output[final_columns] = trench_df[final_columns].iloc[0]\n",
      "/home/de64/paulssonlab/paulssonlab/src/paulssonlab/deaton/trenchripper/trenchripper/steadystate.py:681: FutureWarning: Series.__getitem__ treating keys as positions is deprecated. In a future version, integer keys will always be treated as labels (consistent with DataFrame behavior). To access a value by position, use `ser.iloc[pos]`\n",
      "  estimator_output[final_columns] = trench_df[final_columns].iloc[0]\n",
      "/home/de64/paulssonlab/paulssonlab/src/paulssonlab/deaton/trenchripper/trenchripper/steadystate.py:681: FutureWarning: Series.__getitem__ treating keys as positions is deprecated. In a future version, integer keys will always be treated as labels (consistent with DataFrame behavior). To access a value by position, use `ser.iloc[pos]`\n",
      "  estimator_output[final_columns] = trench_df[final_columns].iloc[0]\n",
      "/home/de64/paulssonlab/paulssonlab/src/paulssonlab/deaton/trenchripper/trenchripper/steadystate.py:681: FutureWarning: Series.__getitem__ treating keys as positions is deprecated. In a future version, integer keys will always be treated as labels (consistent with DataFrame behavior). To access a value by position, use `ser.iloc[pos]`\n",
      "  estimator_output[final_columns] = trench_df[final_columns].iloc[0]\n",
      "/home/de64/paulssonlab/paulssonlab/src/paulssonlab/deaton/trenchripper/trenchripper/steadystate.py:681: FutureWarning: Series.__getitem__ treating keys as positions is deprecated. In a future version, integer keys will always be treated as labels (consistent with DataFrame behavior). To access a value by position, use `ser.iloc[pos]`\n",
      "  estimator_output[final_columns] = trench_df[final_columns].iloc[0]\n",
      "/home/de64/paulssonlab/paulssonlab/src/paulssonlab/deaton/trenchripper/trenchripper/steadystate.py:681: FutureWarning: Series.__getitem__ treating keys as positions is deprecated. In a future version, integer keys will always be treated as labels (consistent with DataFrame behavior). To access a value by position, use `ser.iloc[pos]`\n",
      "  estimator_output[final_columns] = trench_df[final_columns].iloc[0]\n",
      "/home/de64/paulssonlab/paulssonlab/src/paulssonlab/deaton/trenchripper/trenchripper/steadystate.py:681: FutureWarning: Series.__getitem__ treating keys as positions is deprecated. In a future version, integer keys will always be treated as labels (consistent with DataFrame behavior). To access a value by position, use `ser.iloc[pos]`\n",
      "  estimator_output[final_columns] = trench_df[final_columns].iloc[0]\n",
      "/home/de64/paulssonlab/paulssonlab/src/paulssonlab/deaton/trenchripper/trenchripper/steadystate.py:681: FutureWarning: Series.__getitem__ treating keys as positions is deprecated. In a future version, integer keys will always be treated as labels (consistent with DataFrame behavior). To access a value by position, use `ser.iloc[pos]`\n",
      "  estimator_output[final_columns] = trench_df[final_columns].iloc[0]\n",
      "/home/de64/paulssonlab/paulssonlab/src/paulssonlab/deaton/trenchripper/trenchripper/steadystate.py:681: FutureWarning: Series.__getitem__ treating keys as positions is deprecated. In a future version, integer keys will always be treated as labels (consistent with DataFrame behavior). To access a value by position, use `ser.iloc[pos]`\n",
      "  estimator_output[final_columns] = trench_df[final_columns].iloc[0]\n",
      "/home/de64/paulssonlab/paulssonlab/src/paulssonlab/deaton/trenchripper/trenchripper/steadystate.py:681: FutureWarning: Series.__getitem__ treating keys as positions is deprecated. In a future version, integer keys will always be treated as labels (consistent with DataFrame behavior). To access a value by position, use `ser.iloc[pos]`\n",
      "  estimator_output[final_columns] = trench_df[final_columns].iloc[0]\n",
      "/home/de64/paulssonlab/paulssonlab/src/paulssonlab/deaton/trenchripper/trenchripper/steadystate.py:681: FutureWarning: Series.__getitem__ treating keys as positions is deprecated. In a future version, integer keys will always be treated as labels (consistent with DataFrame behavior). To access a value by position, use `ser.iloc[pos]`\n",
      "  estimator_output[final_columns] = trench_df[final_columns].iloc[0]\n",
      "/home/de64/paulssonlab/paulssonlab/src/paulssonlab/deaton/trenchripper/trenchripper/steadystate.py:681: FutureWarning: Series.__getitem__ treating keys as positions is deprecated. In a future version, integer keys will always be treated as labels (consistent with DataFrame behavior). To access a value by position, use `ser.iloc[pos]`\n",
      "  estimator_output[final_columns] = trench_df[final_columns].iloc[0]\n",
      "/home/de64/paulssonlab/paulssonlab/src/paulssonlab/deaton/trenchripper/trenchripper/steadystate.py:681: FutureWarning: Series.__getitem__ treating keys as positions is deprecated. In a future version, integer keys will always be treated as labels (consistent with DataFrame behavior). To access a value by position, use `ser.iloc[pos]`\n",
      "  estimator_output[final_columns] = trench_df[final_columns].iloc[0]\n",
      "/home/de64/paulssonlab/paulssonlab/src/paulssonlab/deaton/trenchripper/trenchripper/steadystate.py:692: UserWarning: `meta` is not specified, inferred from partial data. Please provide `meta` if the result is unexpected.\n",
      "  Before: .apply(func)\n",
      "  After:  .apply(func, meta={'x': 'f8', 'y': 'f8'}) for dataframe result\n",
      "  or:     .apply(func, meta=('x', 'f8'))            for series result\n",
      "  trench_estimator_df = trench_groupby.apply(lambda x: get_estimator_df_single_trench(x,param_groups,estimator,\\\n",
      "/home/de64/paulssonlab/paulssonlab/src/paulssonlab/deaton/trenchripper/trenchripper/steadystate.py:681: FutureWarning: Series.__getitem__ treating keys as positions is deprecated. In a future version, integer keys will always be treated as labels (consistent with DataFrame behavior). To access a value by position, use `ser.iloc[pos]`\n",
      "  estimator_output[final_columns] = trench_df[final_columns].iloc[0]\n",
      "/home/de64/paulssonlab/paulssonlab/src/paulssonlab/deaton/trenchripper/trenchripper/steadystate.py:681: FutureWarning: Series.__getitem__ treating keys as positions is deprecated. In a future version, integer keys will always be treated as labels (consistent with DataFrame behavior). To access a value by position, use `ser.iloc[pos]`\n",
      "  estimator_output[final_columns] = trench_df[final_columns].iloc[0]\n",
      "/home/de64/paulssonlab/paulssonlab/src/paulssonlab/deaton/trenchripper/trenchripper/steadystate.py:681: FutureWarning: Series.__getitem__ treating keys as positions is deprecated. In a future version, integer keys will always be treated as labels (consistent with DataFrame behavior). To access a value by position, use `ser.iloc[pos]`\n",
      "  estimator_output[final_columns] = trench_df[final_columns].iloc[0]\n",
      "/home/de64/paulssonlab/paulssonlab/src/paulssonlab/deaton/trenchripper/trenchripper/steadystate.py:681: FutureWarning: Series.__getitem__ treating keys as positions is deprecated. In a future version, integer keys will always be treated as labels (consistent with DataFrame behavior). To access a value by position, use `ser.iloc[pos]`\n",
      "  estimator_output[final_columns] = trench_df[final_columns].iloc[0]\n",
      "/home/de64/paulssonlab/paulssonlab/src/paulssonlab/deaton/trenchripper/trenchripper/steadystate.py:681: FutureWarning: Series.__getitem__ treating keys as positions is deprecated. In a future version, integer keys will always be treated as labels (consistent with DataFrame behavior). To access a value by position, use `ser.iloc[pos]`\n",
      "  estimator_output[final_columns] = trench_df[final_columns].iloc[0]\n",
      "/home/de64/paulssonlab/paulssonlab/src/paulssonlab/deaton/trenchripper/trenchripper/steadystate.py:681: FutureWarning: Series.__getitem__ treating keys as positions is deprecated. In a future version, integer keys will always be treated as labels (consistent with DataFrame behavior). To access a value by position, use `ser.iloc[pos]`\n",
      "  estimator_output[final_columns] = trench_df[final_columns].iloc[0]\n",
      "/home/de64/paulssonlab/paulssonlab/src/paulssonlab/deaton/trenchripper/trenchripper/steadystate.py:681: FutureWarning: Series.__getitem__ treating keys as positions is deprecated. In a future version, integer keys will always be treated as labels (consistent with DataFrame behavior). To access a value by position, use `ser.iloc[pos]`\n",
      "  estimator_output[final_columns] = trench_df[final_columns].iloc[0]\n",
      "/home/de64/paulssonlab/paulssonlab/src/paulssonlab/deaton/trenchripper/trenchripper/steadystate.py:681: FutureWarning: Series.__getitem__ treating keys as positions is deprecated. In a future version, integer keys will always be treated as labels (consistent with DataFrame behavior). To access a value by position, use `ser.iloc[pos]`\n",
      "  estimator_output[final_columns] = trench_df[final_columns].iloc[0]\n",
      "/home/de64/paulssonlab/paulssonlab/src/paulssonlab/deaton/trenchripper/trenchripper/steadystate.py:681: FutureWarning: Series.__getitem__ treating keys as positions is deprecated. In a future version, integer keys will always be treated as labels (consistent with DataFrame behavior). To access a value by position, use `ser.iloc[pos]`\n",
      "  estimator_output[final_columns] = trench_df[final_columns].iloc[0]\n",
      "/home/de64/paulssonlab/paulssonlab/src/paulssonlab/deaton/trenchripper/trenchripper/steadystate.py:681: FutureWarning: Series.__getitem__ treating keys as positions is deprecated. In a future version, integer keys will always be treated as labels (consistent with DataFrame behavior). To access a value by position, use `ser.iloc[pos]`\n",
      "  estimator_output[final_columns] = trench_df[final_columns].iloc[0]\n",
      "/home/de64/paulssonlab/paulssonlab/src/paulssonlab/deaton/trenchripper/trenchripper/steadystate.py:681: FutureWarning: Series.__getitem__ treating keys as positions is deprecated. In a future version, integer keys will always be treated as labels (consistent with DataFrame behavior). To access a value by position, use `ser.iloc[pos]`\n",
      "  estimator_output[final_columns] = trench_df[final_columns].iloc[0]\n",
      "/home/de64/paulssonlab/paulssonlab/src/paulssonlab/deaton/trenchripper/trenchripper/steadystate.py:681: FutureWarning: Series.__getitem__ treating keys as positions is deprecated. In a future version, integer keys will always be treated as labels (consistent with DataFrame behavior). To access a value by position, use `ser.iloc[pos]`\n",
      "  estimator_output[final_columns] = trench_df[final_columns].iloc[0]\n",
      "/home/de64/paulssonlab/paulssonlab/src/paulssonlab/deaton/trenchripper/trenchripper/steadystate.py:681: FutureWarning: Series.__getitem__ treating keys as positions is deprecated. In a future version, integer keys will always be treated as labels (consistent with DataFrame behavior). To access a value by position, use `ser.iloc[pos]`\n",
      "  estimator_output[final_columns] = trench_df[final_columns].iloc[0]\n",
      "/home/de64/paulssonlab/paulssonlab/src/paulssonlab/deaton/trenchripper/trenchripper/steadystate.py:681: FutureWarning: Series.__getitem__ treating keys as positions is deprecated. In a future version, integer keys will always be treated as labels (consistent with DataFrame behavior). To access a value by position, use `ser.iloc[pos]`\n",
      "  estimator_output[final_columns] = trench_df[final_columns].iloc[0]\n",
      "/home/de64/paulssonlab/paulssonlab/src/paulssonlab/deaton/trenchripper/trenchripper/steadystate.py:681: FutureWarning: Series.__getitem__ treating keys as positions is deprecated. In a future version, integer keys will always be treated as labels (consistent with DataFrame behavior). To access a value by position, use `ser.iloc[pos]`\n",
      "  estimator_output[final_columns] = trench_df[final_columns].iloc[0]\n",
      "/home/de64/paulssonlab/paulssonlab/src/paulssonlab/deaton/trenchripper/trenchripper/steadystate.py:681: FutureWarning: Series.__getitem__ treating keys as positions is deprecated. In a future version, integer keys will always be treated as labels (consistent with DataFrame behavior). To access a value by position, use `ser.iloc[pos]`\n",
      "  estimator_output[final_columns] = trench_df[final_columns].iloc[0]\n",
      "/home/de64/paulssonlab/paulssonlab/src/paulssonlab/deaton/trenchripper/trenchripper/steadystate.py:692: UserWarning: `meta` is not specified, inferred from partial data. Please provide `meta` if the result is unexpected.\n",
      "  Before: .apply(func)\n",
      "  After:  .apply(func, meta={'x': 'f8', 'y': 'f8'}) for dataframe result\n",
      "  or:     .apply(func, meta=('x', 'f8'))            for series result\n",
      "  trench_estimator_df = trench_groupby.apply(lambda x: get_estimator_df_single_trench(x,param_groups,estimator,\\\n",
      "/home/de64/micromamba/envs/crispri/lib/python3.10/site-packages/distributed/client.py:3149: UserWarning: Sending large graph of size 487.18 MiB.\n",
      "This may cause some slowdown.\n",
      "Consider scattering data ahead of time and using futures.\n",
      "  warnings.warn(\n",
      "/home/de64/paulssonlab/paulssonlab/src/paulssonlab/deaton/trenchripper/trenchripper/steadystate.py:738: UserWarning: `meta` is not specified, inferred from partial data. Please provide `meta` if the result is unexpected.\n",
      "  Before: .apply(func)\n",
      "  After:  .apply(func, meta={'x': 'f8', 'y': 'f8'}) for dataframe result\n",
      "  or:     .apply(func, meta=('x', 'f8'))            for series result\n",
      "  pre_post_mask = df.groupby(trench_key).apply(lambda x: sorted(x[\"Induction\"].unique())==[\"Post\",\"Pre\"]).compute()\n",
      "/home/de64/micromamba/envs/crispri/lib/python3.10/site-packages/distributed/client.py:3149: UserWarning: Sending large graph of size 9.57 MiB.\n",
      "This may cause some slowdown.\n",
      "Consider scattering data ahead of time and using futures.\n",
      "  warnings.warn(\n",
      "/home/de64/paulssonlab/paulssonlab/src/paulssonlab/deaton/trenchripper/trenchripper/steadystate.py:727: FutureWarning: Series.__getitem__ treating keys as positions is deprecated. In a future version, integer keys will always be treated as labels (consistent with DataFrame behavior). To access a value by position, use `ser.iloc[pos]`\n",
      "  estimator_output[final_columns] = variant_df.iloc[0][final_columns]\n",
      "/home/de64/paulssonlab/paulssonlab/src/paulssonlab/deaton/trenchripper/trenchripper/steadystate.py:727: FutureWarning: Series.__getitem__ treating keys as positions is deprecated. In a future version, integer keys will always be treated as labels (consistent with DataFrame behavior). To access a value by position, use `ser.iloc[pos]`\n",
      "  estimator_output[final_columns] = variant_df.iloc[0][final_columns]\n",
      "/home/de64/paulssonlab/paulssonlab/src/paulssonlab/deaton/trenchripper/trenchripper/steadystate.py:727: FutureWarning: Series.__getitem__ treating keys as positions is deprecated. In a future version, integer keys will always be treated as labels (consistent with DataFrame behavior). To access a value by position, use `ser.iloc[pos]`\n",
      "  estimator_output[final_columns] = variant_df.iloc[0][final_columns]\n",
      "/home/de64/paulssonlab/paulssonlab/src/paulssonlab/deaton/trenchripper/trenchripper/steadystate.py:727: FutureWarning: Series.__getitem__ treating keys as positions is deprecated. In a future version, integer keys will always be treated as labels (consistent with DataFrame behavior). To access a value by position, use `ser.iloc[pos]`\n",
      "  estimator_output[final_columns] = variant_df.iloc[0][final_columns]\n",
      "/home/de64/paulssonlab/paulssonlab/src/paulssonlab/deaton/trenchripper/trenchripper/steadystate.py:727: FutureWarning: Series.__getitem__ treating keys as positions is deprecated. In a future version, integer keys will always be treated as labels (consistent with DataFrame behavior). To access a value by position, use `ser.iloc[pos]`\n",
      "  estimator_output[final_columns] = variant_df.iloc[0][final_columns]\n",
      "/home/de64/paulssonlab/paulssonlab/src/paulssonlab/deaton/trenchripper/trenchripper/steadystate.py:727: FutureWarning: Series.__getitem__ treating keys as positions is deprecated. In a future version, integer keys will always be treated as labels (consistent with DataFrame behavior). To access a value by position, use `ser.iloc[pos]`\n",
      "  estimator_output[final_columns] = variant_df.iloc[0][final_columns]\n",
      "/home/de64/paulssonlab/paulssonlab/src/paulssonlab/deaton/trenchripper/trenchripper/steadystate.py:727: FutureWarning: Series.__getitem__ treating keys as positions is deprecated. In a future version, integer keys will always be treated as labels (consistent with DataFrame behavior). To access a value by position, use `ser.iloc[pos]`\n",
      "  estimator_output[final_columns] = variant_df.iloc[0][final_columns]\n",
      "/home/de64/paulssonlab/paulssonlab/src/paulssonlab/deaton/trenchripper/trenchripper/steadystate.py:727: FutureWarning: Series.__getitem__ treating keys as positions is deprecated. In a future version, integer keys will always be treated as labels (consistent with DataFrame behavior). To access a value by position, use `ser.iloc[pos]`\n",
      "  estimator_output[final_columns] = variant_df.iloc[0][final_columns]\n",
      "/home/de64/paulssonlab/paulssonlab/src/paulssonlab/deaton/trenchripper/trenchripper/steadystate.py:727: FutureWarning: Series.__getitem__ treating keys as positions is deprecated. In a future version, integer keys will always be treated as labels (consistent with DataFrame behavior). To access a value by position, use `ser.iloc[pos]`\n",
      "  estimator_output[final_columns] = variant_df.iloc[0][final_columns]\n",
      "/home/de64/paulssonlab/paulssonlab/src/paulssonlab/deaton/trenchripper/trenchripper/steadystate.py:727: FutureWarning: Series.__getitem__ treating keys as positions is deprecated. In a future version, integer keys will always be treated as labels (consistent with DataFrame behavior). To access a value by position, use `ser.iloc[pos]`\n",
      "  estimator_output[final_columns] = variant_df.iloc[0][final_columns]\n",
      "/home/de64/paulssonlab/paulssonlab/src/paulssonlab/deaton/trenchripper/trenchripper/steadystate.py:727: FutureWarning: Series.__getitem__ treating keys as positions is deprecated. In a future version, integer keys will always be treated as labels (consistent with DataFrame behavior). To access a value by position, use `ser.iloc[pos]`\n",
      "  estimator_output[final_columns] = variant_df.iloc[0][final_columns]\n",
      "/home/de64/paulssonlab/paulssonlab/src/paulssonlab/deaton/trenchripper/trenchripper/steadystate.py:727: FutureWarning: Series.__getitem__ treating keys as positions is deprecated. In a future version, integer keys will always be treated as labels (consistent with DataFrame behavior). To access a value by position, use `ser.iloc[pos]`\n",
      "  estimator_output[final_columns] = variant_df.iloc[0][final_columns]\n",
      "/home/de64/paulssonlab/paulssonlab/src/paulssonlab/deaton/trenchripper/trenchripper/steadystate.py:727: FutureWarning: Series.__getitem__ treating keys as positions is deprecated. In a future version, integer keys will always be treated as labels (consistent with DataFrame behavior). To access a value by position, use `ser.iloc[pos]`\n",
      "  estimator_output[final_columns] = variant_df.iloc[0][final_columns]\n",
      "/home/de64/paulssonlab/paulssonlab/src/paulssonlab/deaton/trenchripper/trenchripper/steadystate.py:727: FutureWarning: Series.__getitem__ treating keys as positions is deprecated. In a future version, integer keys will always be treated as labels (consistent with DataFrame behavior). To access a value by position, use `ser.iloc[pos]`\n",
      "  estimator_output[final_columns] = variant_df.iloc[0][final_columns]\n",
      "/home/de64/paulssonlab/paulssonlab/src/paulssonlab/deaton/trenchripper/trenchripper/steadystate.py:727: FutureWarning: Series.__getitem__ treating keys as positions is deprecated. In a future version, integer keys will always be treated as labels (consistent with DataFrame behavior). To access a value by position, use `ser.iloc[pos]`\n",
      "  estimator_output[final_columns] = variant_df.iloc[0][final_columns]\n",
      "/home/de64/paulssonlab/paulssonlab/src/paulssonlab/deaton/trenchripper/trenchripper/steadystate.py:727: FutureWarning: Series.__getitem__ treating keys as positions is deprecated. In a future version, integer keys will always be treated as labels (consistent with DataFrame behavior). To access a value by position, use `ser.iloc[pos]`\n",
      "  estimator_output[final_columns] = variant_df.iloc[0][final_columns]\n"
     ]
    }
   ],
   "source": [
    "steady_state_df_path = \"/home/de64/scratch/de64/sync_folder/2023-01-18_lDE20_Merged_Analysis/2024-01-25_lDE20_Steady_State_Timepoints_df\"\n",
    "preinduction_df_path = \"/home/de64/scratch/de64/sync_folder/2023-01-18_lDE20_Merged_Analysis/2024-01-25_lDE20_Preinduction_Timepoints_df\"\n",
    "single_variable_list = ['Length', 'Width', 'mCherry mean_intensity']\n",
    "bivariate_variable_list = []\n",
    "\n",
    "tr.export_estimator_df(steady_state_df_path,preinduction_df_path,single_variable_list,bivariate_variable_list,filter_proliferating=False,\\\n",
    "                   final_columns=['oDEPool7_id', 'sgRNA','EcoWG1_id', 'Gene', 'N Mismatch', 'Category', 'TargetID', 'N Observations'])"
   ]
  },
  {
   "cell_type": "code",
   "execution_count": 24,
   "metadata": {},
   "outputs": [
    {
     "name": "stderr",
     "output_type": "stream",
     "text": [
      "/home/de64/paulssonlab/paulssonlab/src/paulssonlab/deaton/trenchripper/trenchripper/steadystate.py:681: FutureWarning: Series.__getitem__ treating keys as positions is deprecated. In a future version, integer keys will always be treated as labels (consistent with DataFrame behavior). To access a value by position, use `ser.iloc[pos]`\n",
      "  estimator_output[final_columns] = trench_df[final_columns].iloc[0]\n",
      "/home/de64/paulssonlab/paulssonlab/src/paulssonlab/deaton/trenchripper/trenchripper/steadystate.py:681: FutureWarning: Series.__getitem__ treating keys as positions is deprecated. In a future version, integer keys will always be treated as labels (consistent with DataFrame behavior). To access a value by position, use `ser.iloc[pos]`\n",
      "  estimator_output[final_columns] = trench_df[final_columns].iloc[0]\n",
      "/home/de64/paulssonlab/paulssonlab/src/paulssonlab/deaton/trenchripper/trenchripper/steadystate.py:681: FutureWarning: Series.__getitem__ treating keys as positions is deprecated. In a future version, integer keys will always be treated as labels (consistent with DataFrame behavior). To access a value by position, use `ser.iloc[pos]`\n",
      "  estimator_output[final_columns] = trench_df[final_columns].iloc[0]\n",
      "/home/de64/paulssonlab/paulssonlab/src/paulssonlab/deaton/trenchripper/trenchripper/steadystate.py:681: FutureWarning: Series.__getitem__ treating keys as positions is deprecated. In a future version, integer keys will always be treated as labels (consistent with DataFrame behavior). To access a value by position, use `ser.iloc[pos]`\n",
      "  estimator_output[final_columns] = trench_df[final_columns].iloc[0]\n",
      "/home/de64/paulssonlab/paulssonlab/src/paulssonlab/deaton/trenchripper/trenchripper/steadystate.py:681: FutureWarning: Series.__getitem__ treating keys as positions is deprecated. In a future version, integer keys will always be treated as labels (consistent with DataFrame behavior). To access a value by position, use `ser.iloc[pos]`\n",
      "  estimator_output[final_columns] = trench_df[final_columns].iloc[0]\n",
      "/home/de64/paulssonlab/paulssonlab/src/paulssonlab/deaton/trenchripper/trenchripper/steadystate.py:681: FutureWarning: Series.__getitem__ treating keys as positions is deprecated. In a future version, integer keys will always be treated as labels (consistent with DataFrame behavior). To access a value by position, use `ser.iloc[pos]`\n",
      "  estimator_output[final_columns] = trench_df[final_columns].iloc[0]\n",
      "/home/de64/paulssonlab/paulssonlab/src/paulssonlab/deaton/trenchripper/trenchripper/steadystate.py:681: FutureWarning: Series.__getitem__ treating keys as positions is deprecated. In a future version, integer keys will always be treated as labels (consistent with DataFrame behavior). To access a value by position, use `ser.iloc[pos]`\n",
      "  estimator_output[final_columns] = trench_df[final_columns].iloc[0]\n",
      "/home/de64/paulssonlab/paulssonlab/src/paulssonlab/deaton/trenchripper/trenchripper/steadystate.py:681: FutureWarning: Series.__getitem__ treating keys as positions is deprecated. In a future version, integer keys will always be treated as labels (consistent with DataFrame behavior). To access a value by position, use `ser.iloc[pos]`\n",
      "  estimator_output[final_columns] = trench_df[final_columns].iloc[0]\n",
      "/home/de64/paulssonlab/paulssonlab/src/paulssonlab/deaton/trenchripper/trenchripper/steadystate.py:681: FutureWarning: Series.__getitem__ treating keys as positions is deprecated. In a future version, integer keys will always be treated as labels (consistent with DataFrame behavior). To access a value by position, use `ser.iloc[pos]`\n",
      "  estimator_output[final_columns] = trench_df[final_columns].iloc[0]\n",
      "/home/de64/paulssonlab/paulssonlab/src/paulssonlab/deaton/trenchripper/trenchripper/steadystate.py:681: FutureWarning: Series.__getitem__ treating keys as positions is deprecated. In a future version, integer keys will always be treated as labels (consistent with DataFrame behavior). To access a value by position, use `ser.iloc[pos]`\n",
      "  estimator_output[final_columns] = trench_df[final_columns].iloc[0]\n",
      "/home/de64/paulssonlab/paulssonlab/src/paulssonlab/deaton/trenchripper/trenchripper/steadystate.py:681: FutureWarning: Series.__getitem__ treating keys as positions is deprecated. In a future version, integer keys will always be treated as labels (consistent with DataFrame behavior). To access a value by position, use `ser.iloc[pos]`\n",
      "  estimator_output[final_columns] = trench_df[final_columns].iloc[0]\n",
      "/home/de64/paulssonlab/paulssonlab/src/paulssonlab/deaton/trenchripper/trenchripper/steadystate.py:681: FutureWarning: Series.__getitem__ treating keys as positions is deprecated. In a future version, integer keys will always be treated as labels (consistent with DataFrame behavior). To access a value by position, use `ser.iloc[pos]`\n",
      "  estimator_output[final_columns] = trench_df[final_columns].iloc[0]\n",
      "/home/de64/paulssonlab/paulssonlab/src/paulssonlab/deaton/trenchripper/trenchripper/steadystate.py:681: FutureWarning: Series.__getitem__ treating keys as positions is deprecated. In a future version, integer keys will always be treated as labels (consistent with DataFrame behavior). To access a value by position, use `ser.iloc[pos]`\n",
      "  estimator_output[final_columns] = trench_df[final_columns].iloc[0]\n",
      "/home/de64/paulssonlab/paulssonlab/src/paulssonlab/deaton/trenchripper/trenchripper/steadystate.py:681: FutureWarning: Series.__getitem__ treating keys as positions is deprecated. In a future version, integer keys will always be treated as labels (consistent with DataFrame behavior). To access a value by position, use `ser.iloc[pos]`\n",
      "  estimator_output[final_columns] = trench_df[final_columns].iloc[0]\n",
      "/home/de64/paulssonlab/paulssonlab/src/paulssonlab/deaton/trenchripper/trenchripper/steadystate.py:681: FutureWarning: Series.__getitem__ treating keys as positions is deprecated. In a future version, integer keys will always be treated as labels (consistent with DataFrame behavior). To access a value by position, use `ser.iloc[pos]`\n",
      "  estimator_output[final_columns] = trench_df[final_columns].iloc[0]\n",
      "/home/de64/paulssonlab/paulssonlab/src/paulssonlab/deaton/trenchripper/trenchripper/steadystate.py:681: FutureWarning: Series.__getitem__ treating keys as positions is deprecated. In a future version, integer keys will always be treated as labels (consistent with DataFrame behavior). To access a value by position, use `ser.iloc[pos]`\n",
      "  estimator_output[final_columns] = trench_df[final_columns].iloc[0]\n",
      "/home/de64/paulssonlab/paulssonlab/src/paulssonlab/deaton/trenchripper/trenchripper/steadystate.py:692: UserWarning: `meta` is not specified, inferred from partial data. Please provide `meta` if the result is unexpected.\n",
      "  Before: .apply(func)\n",
      "  After:  .apply(func, meta={'x': 'f8', 'y': 'f8'}) for dataframe result\n",
      "  or:     .apply(func, meta=('x', 'f8'))            for series result\n",
      "  trench_estimator_df = trench_groupby.apply(lambda x: get_estimator_df_single_trench(x,param_groups,estimator,\\\n",
      "/home/de64/paulssonlab/paulssonlab/src/paulssonlab/deaton/trenchripper/trenchripper/steadystate.py:681: FutureWarning: Series.__getitem__ treating keys as positions is deprecated. In a future version, integer keys will always be treated as labels (consistent with DataFrame behavior). To access a value by position, use `ser.iloc[pos]`\n",
      "  estimator_output[final_columns] = trench_df[final_columns].iloc[0]\n",
      "/home/de64/paulssonlab/paulssonlab/src/paulssonlab/deaton/trenchripper/trenchripper/steadystate.py:681: FutureWarning: Series.__getitem__ treating keys as positions is deprecated. In a future version, integer keys will always be treated as labels (consistent with DataFrame behavior). To access a value by position, use `ser.iloc[pos]`\n",
      "  estimator_output[final_columns] = trench_df[final_columns].iloc[0]\n",
      "/home/de64/paulssonlab/paulssonlab/src/paulssonlab/deaton/trenchripper/trenchripper/steadystate.py:681: FutureWarning: Series.__getitem__ treating keys as positions is deprecated. In a future version, integer keys will always be treated as labels (consistent with DataFrame behavior). To access a value by position, use `ser.iloc[pos]`\n",
      "  estimator_output[final_columns] = trench_df[final_columns].iloc[0]\n",
      "/home/de64/paulssonlab/paulssonlab/src/paulssonlab/deaton/trenchripper/trenchripper/steadystate.py:681: FutureWarning: Series.__getitem__ treating keys as positions is deprecated. In a future version, integer keys will always be treated as labels (consistent with DataFrame behavior). To access a value by position, use `ser.iloc[pos]`\n",
      "  estimator_output[final_columns] = trench_df[final_columns].iloc[0]\n",
      "/home/de64/paulssonlab/paulssonlab/src/paulssonlab/deaton/trenchripper/trenchripper/steadystate.py:681: FutureWarning: Series.__getitem__ treating keys as positions is deprecated. In a future version, integer keys will always be treated as labels (consistent with DataFrame behavior). To access a value by position, use `ser.iloc[pos]`\n",
      "  estimator_output[final_columns] = trench_df[final_columns].iloc[0]\n",
      "/home/de64/paulssonlab/paulssonlab/src/paulssonlab/deaton/trenchripper/trenchripper/steadystate.py:681: FutureWarning: Series.__getitem__ treating keys as positions is deprecated. In a future version, integer keys will always be treated as labels (consistent with DataFrame behavior). To access a value by position, use `ser.iloc[pos]`\n",
      "  estimator_output[final_columns] = trench_df[final_columns].iloc[0]\n",
      "/home/de64/paulssonlab/paulssonlab/src/paulssonlab/deaton/trenchripper/trenchripper/steadystate.py:681: FutureWarning: Series.__getitem__ treating keys as positions is deprecated. In a future version, integer keys will always be treated as labels (consistent with DataFrame behavior). To access a value by position, use `ser.iloc[pos]`\n",
      "  estimator_output[final_columns] = trench_df[final_columns].iloc[0]\n",
      "/home/de64/paulssonlab/paulssonlab/src/paulssonlab/deaton/trenchripper/trenchripper/steadystate.py:681: FutureWarning: Series.__getitem__ treating keys as positions is deprecated. In a future version, integer keys will always be treated as labels (consistent with DataFrame behavior). To access a value by position, use `ser.iloc[pos]`\n",
      "  estimator_output[final_columns] = trench_df[final_columns].iloc[0]\n",
      "/home/de64/paulssonlab/paulssonlab/src/paulssonlab/deaton/trenchripper/trenchripper/steadystate.py:681: FutureWarning: Series.__getitem__ treating keys as positions is deprecated. In a future version, integer keys will always be treated as labels (consistent with DataFrame behavior). To access a value by position, use `ser.iloc[pos]`\n",
      "  estimator_output[final_columns] = trench_df[final_columns].iloc[0]\n",
      "/home/de64/paulssonlab/paulssonlab/src/paulssonlab/deaton/trenchripper/trenchripper/steadystate.py:681: FutureWarning: Series.__getitem__ treating keys as positions is deprecated. In a future version, integer keys will always be treated as labels (consistent with DataFrame behavior). To access a value by position, use `ser.iloc[pos]`\n",
      "  estimator_output[final_columns] = trench_df[final_columns].iloc[0]\n",
      "/home/de64/paulssonlab/paulssonlab/src/paulssonlab/deaton/trenchripper/trenchripper/steadystate.py:681: FutureWarning: Series.__getitem__ treating keys as positions is deprecated. In a future version, integer keys will always be treated as labels (consistent with DataFrame behavior). To access a value by position, use `ser.iloc[pos]`\n",
      "  estimator_output[final_columns] = trench_df[final_columns].iloc[0]\n",
      "/home/de64/paulssonlab/paulssonlab/src/paulssonlab/deaton/trenchripper/trenchripper/steadystate.py:681: FutureWarning: Series.__getitem__ treating keys as positions is deprecated. In a future version, integer keys will always be treated as labels (consistent with DataFrame behavior). To access a value by position, use `ser.iloc[pos]`\n",
      "  estimator_output[final_columns] = trench_df[final_columns].iloc[0]\n",
      "/home/de64/paulssonlab/paulssonlab/src/paulssonlab/deaton/trenchripper/trenchripper/steadystate.py:681: FutureWarning: Series.__getitem__ treating keys as positions is deprecated. In a future version, integer keys will always be treated as labels (consistent with DataFrame behavior). To access a value by position, use `ser.iloc[pos]`\n",
      "  estimator_output[final_columns] = trench_df[final_columns].iloc[0]\n",
      "/home/de64/paulssonlab/paulssonlab/src/paulssonlab/deaton/trenchripper/trenchripper/steadystate.py:681: FutureWarning: Series.__getitem__ treating keys as positions is deprecated. In a future version, integer keys will always be treated as labels (consistent with DataFrame behavior). To access a value by position, use `ser.iloc[pos]`\n",
      "  estimator_output[final_columns] = trench_df[final_columns].iloc[0]\n",
      "/home/de64/paulssonlab/paulssonlab/src/paulssonlab/deaton/trenchripper/trenchripper/steadystate.py:681: FutureWarning: Series.__getitem__ treating keys as positions is deprecated. In a future version, integer keys will always be treated as labels (consistent with DataFrame behavior). To access a value by position, use `ser.iloc[pos]`\n",
      "  estimator_output[final_columns] = trench_df[final_columns].iloc[0]\n",
      "/home/de64/paulssonlab/paulssonlab/src/paulssonlab/deaton/trenchripper/trenchripper/steadystate.py:681: FutureWarning: Series.__getitem__ treating keys as positions is deprecated. In a future version, integer keys will always be treated as labels (consistent with DataFrame behavior). To access a value by position, use `ser.iloc[pos]`\n",
      "  estimator_output[final_columns] = trench_df[final_columns].iloc[0]\n",
      "/home/de64/paulssonlab/paulssonlab/src/paulssonlab/deaton/trenchripper/trenchripper/steadystate.py:692: UserWarning: `meta` is not specified, inferred from partial data. Please provide `meta` if the result is unexpected.\n",
      "  Before: .apply(func)\n",
      "  After:  .apply(func, meta={'x': 'f8', 'y': 'f8'}) for dataframe result\n",
      "  or:     .apply(func, meta=('x', 'f8'))            for series result\n",
      "  trench_estimator_df = trench_groupby.apply(lambda x: get_estimator_df_single_trench(x,param_groups,estimator,\\\n",
      "/home/de64/micromamba/envs/crispri/lib/python3.10/site-packages/distributed/client.py:3149: UserWarning: Sending large graph of size 426.04 MiB.\n",
      "This may cause some slowdown.\n",
      "Consider scattering data ahead of time and using futures.\n",
      "  warnings.warn(\n",
      "/home/de64/paulssonlab/paulssonlab/src/paulssonlab/deaton/trenchripper/trenchripper/steadystate.py:738: UserWarning: `meta` is not specified, inferred from partial data. Please provide `meta` if the result is unexpected.\n",
      "  Before: .apply(func)\n",
      "  After:  .apply(func, meta={'x': 'f8', 'y': 'f8'}) for dataframe result\n",
      "  or:     .apply(func, meta=('x', 'f8'))            for series result\n",
      "  pre_post_mask = df.groupby(trench_key).apply(lambda x: sorted(x[\"Induction\"].unique())==[\"Post\",\"Pre\"]).compute()\n",
      "/home/de64/micromamba/envs/crispri/lib/python3.10/site-packages/distributed/client.py:3149: UserWarning: Sending large graph of size 9.56 MiB.\n",
      "This may cause some slowdown.\n",
      "Consider scattering data ahead of time and using futures.\n",
      "  warnings.warn(\n",
      "/home/de64/paulssonlab/paulssonlab/src/paulssonlab/deaton/trenchripper/trenchripper/steadystate.py:727: FutureWarning: Series.__getitem__ treating keys as positions is deprecated. In a future version, integer keys will always be treated as labels (consistent with DataFrame behavior). To access a value by position, use `ser.iloc[pos]`\n",
      "  estimator_output[final_columns] = variant_df.iloc[0][final_columns]\n",
      "/home/de64/paulssonlab/paulssonlab/src/paulssonlab/deaton/trenchripper/trenchripper/steadystate.py:727: FutureWarning: Series.__getitem__ treating keys as positions is deprecated. In a future version, integer keys will always be treated as labels (consistent with DataFrame behavior). To access a value by position, use `ser.iloc[pos]`\n",
      "  estimator_output[final_columns] = variant_df.iloc[0][final_columns]\n",
      "/home/de64/paulssonlab/paulssonlab/src/paulssonlab/deaton/trenchripper/trenchripper/steadystate.py:727: FutureWarning: Series.__getitem__ treating keys as positions is deprecated. In a future version, integer keys will always be treated as labels (consistent with DataFrame behavior). To access a value by position, use `ser.iloc[pos]`\n",
      "  estimator_output[final_columns] = variant_df.iloc[0][final_columns]\n",
      "/home/de64/paulssonlab/paulssonlab/src/paulssonlab/deaton/trenchripper/trenchripper/steadystate.py:727: FutureWarning: Series.__getitem__ treating keys as positions is deprecated. In a future version, integer keys will always be treated as labels (consistent with DataFrame behavior). To access a value by position, use `ser.iloc[pos]`\n",
      "  estimator_output[final_columns] = variant_df.iloc[0][final_columns]\n",
      "/home/de64/paulssonlab/paulssonlab/src/paulssonlab/deaton/trenchripper/trenchripper/steadystate.py:727: FutureWarning: Series.__getitem__ treating keys as positions is deprecated. In a future version, integer keys will always be treated as labels (consistent with DataFrame behavior). To access a value by position, use `ser.iloc[pos]`\n",
      "  estimator_output[final_columns] = variant_df.iloc[0][final_columns]\n",
      "/home/de64/paulssonlab/paulssonlab/src/paulssonlab/deaton/trenchripper/trenchripper/steadystate.py:727: FutureWarning: Series.__getitem__ treating keys as positions is deprecated. In a future version, integer keys will always be treated as labels (consistent with DataFrame behavior). To access a value by position, use `ser.iloc[pos]`\n",
      "  estimator_output[final_columns] = variant_df.iloc[0][final_columns]\n",
      "/home/de64/paulssonlab/paulssonlab/src/paulssonlab/deaton/trenchripper/trenchripper/steadystate.py:727: FutureWarning: Series.__getitem__ treating keys as positions is deprecated. In a future version, integer keys will always be treated as labels (consistent with DataFrame behavior). To access a value by position, use `ser.iloc[pos]`\n",
      "  estimator_output[final_columns] = variant_df.iloc[0][final_columns]\n",
      "/home/de64/paulssonlab/paulssonlab/src/paulssonlab/deaton/trenchripper/trenchripper/steadystate.py:727: FutureWarning: Series.__getitem__ treating keys as positions is deprecated. In a future version, integer keys will always be treated as labels (consistent with DataFrame behavior). To access a value by position, use `ser.iloc[pos]`\n",
      "  estimator_output[final_columns] = variant_df.iloc[0][final_columns]\n",
      "/home/de64/paulssonlab/paulssonlab/src/paulssonlab/deaton/trenchripper/trenchripper/steadystate.py:727: FutureWarning: Series.__getitem__ treating keys as positions is deprecated. In a future version, integer keys will always be treated as labels (consistent with DataFrame behavior). To access a value by position, use `ser.iloc[pos]`\n",
      "  estimator_output[final_columns] = variant_df.iloc[0][final_columns]\n",
      "/home/de64/paulssonlab/paulssonlab/src/paulssonlab/deaton/trenchripper/trenchripper/steadystate.py:727: FutureWarning: Series.__getitem__ treating keys as positions is deprecated. In a future version, integer keys will always be treated as labels (consistent with DataFrame behavior). To access a value by position, use `ser.iloc[pos]`\n",
      "  estimator_output[final_columns] = variant_df.iloc[0][final_columns]\n",
      "/home/de64/paulssonlab/paulssonlab/src/paulssonlab/deaton/trenchripper/trenchripper/steadystate.py:727: FutureWarning: Series.__getitem__ treating keys as positions is deprecated. In a future version, integer keys will always be treated as labels (consistent with DataFrame behavior). To access a value by position, use `ser.iloc[pos]`\n",
      "  estimator_output[final_columns] = variant_df.iloc[0][final_columns]\n",
      "/home/de64/paulssonlab/paulssonlab/src/paulssonlab/deaton/trenchripper/trenchripper/steadystate.py:727: FutureWarning: Series.__getitem__ treating keys as positions is deprecated. In a future version, integer keys will always be treated as labels (consistent with DataFrame behavior). To access a value by position, use `ser.iloc[pos]`\n",
      "  estimator_output[final_columns] = variant_df.iloc[0][final_columns]\n",
      "/home/de64/paulssonlab/paulssonlab/src/paulssonlab/deaton/trenchripper/trenchripper/steadystate.py:727: FutureWarning: Series.__getitem__ treating keys as positions is deprecated. In a future version, integer keys will always be treated as labels (consistent with DataFrame behavior). To access a value by position, use `ser.iloc[pos]`\n",
      "  estimator_output[final_columns] = variant_df.iloc[0][final_columns]\n",
      "/home/de64/paulssonlab/paulssonlab/src/paulssonlab/deaton/trenchripper/trenchripper/steadystate.py:727: FutureWarning: Series.__getitem__ treating keys as positions is deprecated. In a future version, integer keys will always be treated as labels (consistent with DataFrame behavior). To access a value by position, use `ser.iloc[pos]`\n",
      "  estimator_output[final_columns] = variant_df.iloc[0][final_columns]\n",
      "/home/de64/paulssonlab/paulssonlab/src/paulssonlab/deaton/trenchripper/trenchripper/steadystate.py:727: FutureWarning: Series.__getitem__ treating keys as positions is deprecated. In a future version, integer keys will always be treated as labels (consistent with DataFrame behavior). To access a value by position, use `ser.iloc[pos]`\n",
      "  estimator_output[final_columns] = variant_df.iloc[0][final_columns]\n",
      "/home/de64/paulssonlab/paulssonlab/src/paulssonlab/deaton/trenchripper/trenchripper/steadystate.py:727: FutureWarning: Series.__getitem__ treating keys as positions is deprecated. In a future version, integer keys will always be treated as labels (consistent with DataFrame behavior). To access a value by position, use `ser.iloc[pos]`\n",
      "  estimator_output[final_columns] = variant_df.iloc[0][final_columns]\n"
     ]
    }
   ],
   "source": [
    "steady_state_df_path = \"/home/de64/scratch/de64/sync_folder/2023-01-18_lDE20_Merged_Analysis/2024-01-25_lDE20_Steady_State_Growth_df\"\n",
    "preinduction_df_path = \"/home/de64/scratch/de64/sync_folder/2023-01-18_lDE20_Merged_Analysis/2024-01-25_lDE20_Preinduction_Growth_df\"\n",
    "single_variable_list = ['Instantaneous Growth Rate: Volume']\n",
    "bivariate_variable_list = []\n",
    "\n",
    "tr.export_estimator_df(steady_state_df_path,preinduction_df_path,single_variable_list,bivariate_variable_list,filter_proliferating=False,\\\n",
    "                   final_columns=['oDEPool7_id', 'sgRNA','EcoWG1_id', 'Gene', 'N Mismatch', 'Category', 'TargetID', 'N Observations'])"
   ]
  },
  {
   "cell_type": "markdown",
   "metadata": {},
   "source": [
    "## 2) Bootstrapping Estimators\n",
    "- Computing estimator bootstraps\n",
    "- Using this, find: $ var(\\hat\\theta) $, percentile confidence intervals, and p-values"
   ]
  },
  {
   "cell_type": "markdown",
   "metadata": {},
   "source": [
    "### 2a)  Bootstrapping Procedure\n",
    "\n",
    "\n",
    "- First, saving a repartitioned version of the sgRNA sorted dataframe\n",
    "- Then, running the aggregate bootstrapper on the trenches individually and saving the output\n",
    "- Finally aggregating on the whole dataset (for the parameters and estimators of interest) and outputting the samples for later manipulation\n",
    "- Of particular interest is comparing different estimators for robust measures of location, scale and the pearson correlation\n",
    "\n",
    "#### On Bootstrapping Choices\n",
    "\n",
    "- For the location, scale and correlation estimation, I am using a stationary bootstrap since it could be defined for entire trenches of data (i.d. mother and first daughter lineages)\n",
    "- For the ACF estimation, it is necessary to use the tapered block bootstrap since the stationary bootstrap adds biases to the ACF estimation\n",
    "- A drawback of this approach is that I may only use mother cells in the tapered case"
   ]
  },
  {
   "cell_type": "markdown",
   "metadata": {},
   "source": [
    "### Exports Trench-wise Bootstrap (For Location, Scale and Correlation Estimators)\n",
    "- Using a standard bootstrap for everything in this notebook because the timeseries is too short for the other methods"
   ]
  },
  {
   "cell_type": "markdown",
   "metadata": {},
   "source": [
    "### Start a Dask For Each (since it crashes)"
   ]
  },
  {
   "cell_type": "code",
   "execution_count": 3,
   "metadata": {},
   "outputs": [
    {
     "name": "stdout",
     "output_type": "stream",
     "text": [
      "350m\n",
      "06:00:00\n"
     ]
    }
   ],
   "source": [
    "dask_controller = tr.trcluster.dask_controller(\n",
    "    walltime=\"06:00:00\",\n",
    "    local=False,\n",
    "    n_workers=200,\n",
    "    n_workers_min=200,\n",
    "    memory=\"16GB\",\n",
    "    working_directory=dask_wd,\n",
    ")\n",
    "dask_controller.startdask()"
   ]
  },
  {
   "cell_type": "code",
   "execution_count": 4,
   "metadata": {},
   "outputs": [
    {
     "data": {
      "text/html": [
       "<div>\n",
       "    <div style=\"width: 24px; height: 24px; background-color: #e1e1e1; border: 3px solid #9D9D9D; border-radius: 5px; position: absolute;\"> </div>\n",
       "    <div style=\"margin-left: 48px;\">\n",
       "        <h3 style=\"margin-bottom: 0px;\">Client</h3>\n",
       "        <p style=\"color: #9D9D9D; margin-bottom: 0px;\">Client-1ec6f751-bbee-11ee-8911-0cc47abb4d10</p>\n",
       "        <table style=\"width: 100%; text-align: left;\">\n",
       "\n",
       "        <tr>\n",
       "        \n",
       "            <td style=\"text-align: left;\"><strong>Connection method:</strong> Cluster object</td>\n",
       "            <td style=\"text-align: left;\"><strong>Cluster type:</strong> dask_jobqueue.SLURMCluster</td>\n",
       "        \n",
       "        </tr>\n",
       "\n",
       "        \n",
       "            <tr>\n",
       "                <td style=\"text-align: left;\">\n",
       "                    <strong>Dashboard: </strong> <a href=\"http://10.120.16.236:8787/status\" target=\"_blank\">http://10.120.16.236:8787/status</a>\n",
       "                </td>\n",
       "                <td style=\"text-align: left;\"></td>\n",
       "            </tr>\n",
       "        \n",
       "\n",
       "        </table>\n",
       "\n",
       "        \n",
       "\n",
       "        \n",
       "            <details>\n",
       "            <summary style=\"margin-bottom: 20px;\"><h3 style=\"display: inline;\">Cluster Info</h3></summary>\n",
       "            <div class=\"jp-RenderedHTMLCommon jp-RenderedHTML jp-mod-trusted jp-OutputArea-output\">\n",
       "    <div style=\"width: 24px; height: 24px; background-color: #e1e1e1; border: 3px solid #9D9D9D; border-radius: 5px; position: absolute;\">\n",
       "    </div>\n",
       "    <div style=\"margin-left: 48px;\">\n",
       "        <h3 style=\"margin-bottom: 0px; margin-top: 0px;\">SLURMCluster</h3>\n",
       "        <p style=\"color: #9D9D9D; margin-bottom: 0px;\">b2a01ac0</p>\n",
       "        <table style=\"width: 100%; text-align: left;\">\n",
       "            <tr>\n",
       "                <td style=\"text-align: left;\">\n",
       "                    <strong>Dashboard:</strong> <a href=\"http://10.120.16.236:8787/status\" target=\"_blank\">http://10.120.16.236:8787/status</a>\n",
       "                </td>\n",
       "                <td style=\"text-align: left;\">\n",
       "                    <strong>Workers:</strong> 0\n",
       "                </td>\n",
       "            </tr>\n",
       "            <tr>\n",
       "                <td style=\"text-align: left;\">\n",
       "                    <strong>Total threads:</strong> 0\n",
       "                </td>\n",
       "                <td style=\"text-align: left;\">\n",
       "                    <strong>Total memory:</strong> 0 B\n",
       "                </td>\n",
       "            </tr>\n",
       "            \n",
       "        </table>\n",
       "\n",
       "        <details>\n",
       "            <summary style=\"margin-bottom: 20px;\">\n",
       "                <h3 style=\"display: inline;\">Scheduler Info</h3>\n",
       "            </summary>\n",
       "\n",
       "            <div style=\"\">\n",
       "    <div>\n",
       "        <div style=\"width: 24px; height: 24px; background-color: #FFF7E5; border: 3px solid #FF6132; border-radius: 5px; position: absolute;\"> </div>\n",
       "        <div style=\"margin-left: 48px;\">\n",
       "            <h3 style=\"margin-bottom: 0px;\">Scheduler</h3>\n",
       "            <p style=\"color: #9D9D9D; margin-bottom: 0px;\">Scheduler-77e239d7-43a8-4628-9e72-a613aa9fef8d</p>\n",
       "            <table style=\"width: 100%; text-align: left;\">\n",
       "                <tr>\n",
       "                    <td style=\"text-align: left;\">\n",
       "                        <strong>Comm:</strong> tcp://10.120.16.236:36496\n",
       "                    </td>\n",
       "                    <td style=\"text-align: left;\">\n",
       "                        <strong>Workers:</strong> 0\n",
       "                    </td>\n",
       "                </tr>\n",
       "                <tr>\n",
       "                    <td style=\"text-align: left;\">\n",
       "                        <strong>Dashboard:</strong> <a href=\"http://10.120.16.236:8787/status\" target=\"_blank\">http://10.120.16.236:8787/status</a>\n",
       "                    </td>\n",
       "                    <td style=\"text-align: left;\">\n",
       "                        <strong>Total threads:</strong> 0\n",
       "                    </td>\n",
       "                </tr>\n",
       "                <tr>\n",
       "                    <td style=\"text-align: left;\">\n",
       "                        <strong>Started:</strong> Just now\n",
       "                    </td>\n",
       "                    <td style=\"text-align: left;\">\n",
       "                        <strong>Total memory:</strong> 0 B\n",
       "                    </td>\n",
       "                </tr>\n",
       "            </table>\n",
       "        </div>\n",
       "    </div>\n",
       "\n",
       "    <details style=\"margin-left: 48px;\">\n",
       "        <summary style=\"margin-bottom: 20px;\">\n",
       "            <h3 style=\"display: inline;\">Workers</h3>\n",
       "        </summary>\n",
       "\n",
       "        \n",
       "\n",
       "    </details>\n",
       "</div>\n",
       "\n",
       "        </details>\n",
       "    </div>\n",
       "</div>\n",
       "            </details>\n",
       "        \n",
       "\n",
       "    </div>\n",
       "</div>"
      ],
      "text/plain": [
       "<Client: 'tcp://10.120.16.236:36496' processes=0 threads=0, memory=0 B>"
      ]
     },
     "execution_count": 4,
     "metadata": {},
     "output_type": "execute_result"
    }
   ],
   "source": [
    "dask_controller.daskclient"
   ]
  },
  {
   "cell_type": "code",
   "execution_count": 5,
   "metadata": {
    "scrolled": true,
    "tags": []
   },
   "outputs": [
    {
     "name": "stdout",
     "output_type": "stream",
     "text": [
      "0\n",
      "/home/de64/scratch/de64/sync_folder/2023-01-18_lDE20_Merged_Analysis/2024-01-25_lDE20_Steady_State_Cell_Cycle_df_temp_filtered\n",
      "Starting Run.\n",
      "Done.\n",
      "/home/de64/scratch/de64/sync_folder/2023-01-18_lDE20_Merged_Analysis/2024-01-25_lDE20_Preinduction_Cell_Cycle_df_temp_filtered\n",
      "Starting Run.\n",
      "Done.\n",
      "1\n",
      "/home/de64/scratch/de64/sync_folder/2023-01-18_lDE20_Merged_Analysis/2024-01-25_lDE20_Steady_State_Cell_Cycle_df_Trench_Estimator_Bootstrap_temp\n",
      "Starting Run.\n",
      "Done.\n",
      "2\n",
      "/home/de64/scratch/de64/sync_folder/2023-01-18_lDE20_Merged_Analysis/2024-01-25_lDE20_Preinduction_Cell_Cycle_df_Trench_Estimator_Bootstrap_temp\n",
      "Starting Run.\n",
      "Done.\n",
      "3\n",
      "/home/de64/scratch/de64/sync_folder/2023-01-18_lDE20_Merged_Analysis/2024-01-25_lDE20_Steady_State_Cell_Cycle_df_Trench_Estimator_Bootstrap\n",
      "Starting Run.\n",
      "Done.\n",
      "4\n",
      "/home/de64/scratch/de64/sync_folder/2023-01-18_lDE20_Merged_Analysis/2024-01-25_lDE20_Steady_State_Cell_Cycle_df_Trench_Estimator_Bootstrap_temp_2\n",
      "Starting Run.\n",
      "Done.\n",
      "Done!\n"
     ]
    }
   ],
   "source": [
    "n_bootstraps_trench_density = 100\n",
    "n_bootstraps_trench_aggregate = 1000\n",
    "overwrite = True\n",
    "\n",
    "estimators = [np.nanmean]\n",
    "estimator_names = [\"Mean\"]\n",
    "bivariate_variable_list = [False]\n",
    "estimator_names_to_agg = [\"Mean\",\"Mean\"]\n",
    "unpaired_aggregators=[np.nanmedian,np.nanmean]\n",
    "paired_aggregators=[]\n",
    "agg_names=[\"Mean (Robust)\",\"Mean (True)\"]\n",
    "\n",
    "single_variable_list = ['Septum Displacement Length Normalized','Delta time (s)']\n",
    "pearsonr_variable_list = []\n",
    "\n",
    "steady_state_df_path = \"/home/de64/scratch/de64/sync_folder/2023-01-18_lDE20_Merged_Analysis/2024-01-25_lDE20_Steady_State_Cell_Cycle_df\"\n",
    "preinduction_df_path = \"/home/de64/scratch/de64/sync_folder/2023-01-18_lDE20_Merged_Analysis/2024-01-25_lDE20_Preinduction_Cell_Cycle_df\"\n",
    "\n",
    "tr.trenchwise_bootstrap_main(dask_controller,steady_state_df_path,preinduction_df_path,tr.bootstrap_density,estimators,estimator_names,bivariate_variable_list,\\\n",
    "                              single_variable_list,pearsonr_variable_list,filter_proliferating=True,n_bootstraps_trench_density=n_bootstraps_trench_density,\\\n",
    "                          overwrite=overwrite)"
   ]
  },
  {
   "cell_type": "code",
   "execution_count": 6,
   "metadata": {},
   "outputs": [
    {
     "name": "stdout",
     "output_type": "stream",
     "text": [
      "0\n",
      "/home/de64/scratch/de64/sync_folder/2023-01-18_lDE20_Merged_Analysis/2024-01-25_lDE20_Steady_State_Cell_Cycle_df_Variant_Estimator_Bootstrap_temp\n",
      "Starting Run.\n",
      "Done.\n",
      "1\n",
      "/home/de64/scratch/de64/sync_folder/2023-01-18_lDE20_Merged_Analysis/2024-01-25_lDE20_Steady_State_Cell_Cycle_df_Variant_Estimator_Bootstrap\n",
      "Starting Run.\n",
      "Done.\n",
      "2\n",
      "Done!\n"
     ]
    }
   ],
   "source": [
    "tr.trench_aggregate_bootstrap_main(dask_controller,steady_state_df_path,estimator_names,bivariate_variable_list,estimator_names_to_agg,unpaired_aggregators,paired_aggregators,\\\n",
    "                           agg_names,single_variable_list,pearsonr_variable_list,n_bootstraps_trench_aggregate=n_bootstraps_trench_aggregate,overwrite=overwrite)"
   ]
  },
  {
   "cell_type": "code",
   "execution_count": 105,
   "metadata": {
    "collapsed": true,
    "jupyter": {
     "outputs_hidden": true
    },
    "tags": []
   },
   "outputs": [
    {
     "name": "stdout",
     "output_type": "stream",
     "text": [
      "0\n",
      "/home/de64/scratch/de64/sync_folder/2023-01-18_lDE20_Merged_Analysis/2024-01-25_lDE20_Steady_State_Timepoints_df_temp_filtered\n",
      "Starting Run.\n",
      "Done.\n",
      "/home/de64/scratch/de64/sync_folder/2023-01-18_lDE20_Merged_Analysis/2024-01-25_lDE20_Preinduction_Timepoints_df_temp_filtered\n",
      "Starting Run.\n",
      "Done.\n",
      "1\n",
      "/home/de64/scratch/de64/sync_folder/2023-01-18_lDE20_Merged_Analysis/2024-01-25_lDE20_Steady_State_Timepoints_df_Trench_Estimator_Bootstrap_temp\n",
      "Starting Run.\n",
      "Done.\n",
      "2\n",
      "/home/de64/scratch/de64/sync_folder/2023-01-18_lDE20_Merged_Analysis/2024-01-25_lDE20_Preinduction_Timepoints_df_Trench_Estimator_Bootstrap_temp\n",
      "Starting Run.\n",
      "Done.\n",
      "3\n",
      "/home/de64/scratch/de64/sync_folder/2023-01-18_lDE20_Merged_Analysis/2024-01-25_lDE20_Steady_State_Timepoints_df_Trench_Estimator_Bootstrap_temp_2\n",
      "Starting Run.\n",
      "Done.\n",
      "/home/de64/scratch/de64/sync_folder/2023-01-18_lDE20_Merged_Analysis/2024-01-25_lDE20_Steady_State_Timepoints_df_Trench_Estimator_Bootstrap\n",
      "Starting Run.\n",
      "Done.\n",
      "4\n",
      "/home/de64/scratch/de64/sync_folder/2023-01-18_lDE20_Merged_Analysis/2024-01-25_lDE20_Steady_State_Timepoints_df_Trench_Estimator_Bootstrap_temp_2\n",
      "Starting Run.\n",
      "Done.\n",
      "Done!\n"
     ]
    }
   ],
   "source": [
    "single_variable_list = ['Length', 'Width','mCherry mean_intensity']\n",
    "pearsonr_variable_list = []\n",
    "\n",
    "steady_state_df_path = \"/home/de64/scratch/de64/sync_folder/2023-01-18_lDE20_Merged_Analysis/2024-01-25_lDE20_Steady_State_Timepoints_df\"\n",
    "preinduction_df_path = \"/home/de64/scratch/de64/sync_folder/2023-01-18_lDE20_Merged_Analysis/2024-01-25_lDE20_Preinduction_Timepoints_df\"\n",
    "\n",
    "tr.trenchwise_bootstrap_main(dask_controller,steady_state_df_path,preinduction_df_path,tr.bootstrap_density,estimators,estimator_names,bivariate_variable_list,\\\n",
    "                              single_variable_list,pearsonr_variable_list,filter_proliferating=False,\\\n",
    "                          n_bootstraps_trench_density=n_bootstraps_trench_density,overwrite=overwrite)"
   ]
  },
  {
   "cell_type": "code",
   "execution_count": 106,
   "metadata": {
    "tags": []
   },
   "outputs": [
    {
     "name": "stdout",
     "output_type": "stream",
     "text": [
      "0\n",
      "/home/de64/scratch/de64/sync_folder/2023-01-18_lDE20_Merged_Analysis/2024-01-25_lDE20_Steady_State_Timepoints_df_Variant_Estimator_Bootstrap_temp\n",
      "Starting Run.\n",
      "Done.\n",
      "1\n",
      "/home/de64/scratch/de64/sync_folder/2023-01-18_lDE20_Merged_Analysis/2024-01-25_lDE20_Steady_State_Timepoints_df_Variant_Estimator_Bootstrap\n",
      "Starting Run.\n",
      "Done.\n",
      "2\n",
      "Done!\n"
     ]
    }
   ],
   "source": [
    "tr.trench_aggregate_bootstrap_main(dask_controller,steady_state_df_path,estimator_names,bivariate_variable_list,estimator_names_to_agg,unpaired_aggregators,paired_aggregators,\\\n",
    "                           agg_names,single_variable_list,pearsonr_variable_list,n_bootstraps_trench_aggregate=n_bootstraps_trench_aggregate,overwrite=overwrite)"
   ]
  },
  {
   "cell_type": "code",
   "execution_count": 107,
   "metadata": {},
   "outputs": [
    {
     "name": "stdout",
     "output_type": "stream",
     "text": [
      "0\n",
      "/home/de64/scratch/de64/sync_folder/2023-01-18_lDE20_Merged_Analysis/2024-01-25_lDE20_Steady_State_Growth_df_temp_filtered\n",
      "Starting Run.\n",
      "Done.\n",
      "/home/de64/scratch/de64/sync_folder/2023-01-18_lDE20_Merged_Analysis/2024-01-25_lDE20_Preinduction_Growth_df_temp_filtered\n",
      "Starting Run.\n",
      "Done.\n",
      "1\n",
      "/home/de64/scratch/de64/sync_folder/2023-01-18_lDE20_Merged_Analysis/2024-01-25_lDE20_Steady_State_Growth_df_Trench_Estimator_Bootstrap_temp\n",
      "Starting Run.\n",
      "Done.\n",
      "2\n",
      "/home/de64/scratch/de64/sync_folder/2023-01-18_lDE20_Merged_Analysis/2024-01-25_lDE20_Preinduction_Growth_df_Trench_Estimator_Bootstrap_temp\n",
      "Starting Run.\n",
      "Done.\n",
      "3\n",
      "/home/de64/scratch/de64/sync_folder/2023-01-18_lDE20_Merged_Analysis/2024-01-25_lDE20_Steady_State_Growth_df_Trench_Estimator_Bootstrap_temp_2\n",
      "Starting Run.\n",
      "Done.\n",
      "/home/de64/scratch/de64/sync_folder/2023-01-18_lDE20_Merged_Analysis/2024-01-25_lDE20_Steady_State_Growth_df_Trench_Estimator_Bootstrap\n",
      "Starting Run.\n",
      "Done.\n",
      "4\n",
      "/home/de64/scratch/de64/sync_folder/2023-01-18_lDE20_Merged_Analysis/2024-01-25_lDE20_Steady_State_Growth_df_Trench_Estimator_Bootstrap_temp_2\n",
      "Starting Run.\n",
      "Done.\n",
      "Done!\n"
     ]
    }
   ],
   "source": [
    "single_variable_list = ['Instantaneous Growth Rate: Volume']\n",
    "pearsonr_variable_list = []\n",
    "\n",
    "steady_state_df_path = \"/home/de64/scratch/de64/sync_folder/2023-01-18_lDE20_Merged_Analysis/2024-01-25_lDE20_Steady_State_Growth_df\"\n",
    "preinduction_df_path = \"/home/de64/scratch/de64/sync_folder/2023-01-18_lDE20_Merged_Analysis/2024-01-25_lDE20_Preinduction_Growth_df\"\n",
    "\n",
    "tr.trenchwise_bootstrap_main(dask_controller,steady_state_df_path,preinduction_df_path,tr.bootstrap_density,estimators,estimator_names,bivariate_variable_list,\\\n",
    "                              single_variable_list,pearsonr_variable_list,filter_proliferating=False,\\\n",
    "                          n_bootstraps_trench_density=n_bootstraps_trench_density,overwrite=overwrite)"
   ]
  },
  {
   "cell_type": "code",
   "execution_count": 108,
   "metadata": {},
   "outputs": [
    {
     "name": "stdout",
     "output_type": "stream",
     "text": [
      "0\n",
      "/home/de64/scratch/de64/sync_folder/2023-01-18_lDE20_Merged_Analysis/2024-01-25_lDE20_Steady_State_Growth_df_Variant_Estimator_Bootstrap_temp\n",
      "Starting Run.\n",
      "Done.\n",
      "1\n",
      "/home/de64/scratch/de64/sync_folder/2023-01-18_lDE20_Merged_Analysis/2024-01-25_lDE20_Steady_State_Growth_df_Variant_Estimator_Bootstrap\n",
      "Starting Run.\n",
      "Done.\n",
      "2\n",
      "Done!\n"
     ]
    }
   ],
   "source": [
    "tr.trench_aggregate_bootstrap_main(dask_controller,steady_state_df_path,estimator_names,bivariate_variable_list,estimator_names_to_agg,unpaired_aggregators,paired_aggregators,\\\n",
    "                           agg_names,single_variable_list,pearsonr_variable_list,n_bootstraps_trench_aggregate=n_bootstraps_trench_aggregate,overwrite=overwrite)"
   ]
  },
  {
   "cell_type": "markdown",
   "metadata": {},
   "source": [
    "### 2b) Bootstrapping Controls to Compute P-values (location, scale, correlation)\n",
    "\n",
    "- Currently replacing with paired tests\n",
    "- Need to:\n",
    "    - Add estimation of test statistics in the point estimate setting (earlier)\n",
    "    - Edit control bootstrap to aggregate appropriate test statistics\n",
    "    - Finally repair the comparison to generate the correct p-values\n",
    "- For the point estimation, adding a reserved column for each test statistic should work\n",
    "    - To do this, need to add the initial dataframe\n",
    "- Control bootstrap should just be switched for the chosen test statistic (since it is computationally intensive)"
   ]
  },
  {
   "cell_type": "code",
   "execution_count": 56,
   "metadata": {},
   "outputs": [
    {
     "name": "stdout",
     "output_type": "stream",
     "text": [
      "350m\n",
      "06:00:00\n"
     ]
    }
   ],
   "source": [
    "dask_controller = tr.trcluster.dask_controller(\n",
    "    walltime=\"06:00:00\",\n",
    "    local=False,\n",
    "    n_workers=100,\n",
    "    n_workers_min=100,\n",
    "    memory=\"16GB\",\n",
    "    working_directory=dask_wd,\n",
    ")\n",
    "dask_controller.startdask()"
   ]
  },
  {
   "cell_type": "code",
   "execution_count": 57,
   "metadata": {},
   "outputs": [
    {
     "data": {
      "text/html": [
       "<div>\n",
       "    <div style=\"width: 24px; height: 24px; background-color: #e1e1e1; border: 3px solid #9D9D9D; border-radius: 5px; position: absolute;\"> </div>\n",
       "    <div style=\"margin-left: 48px;\">\n",
       "        <h3 style=\"margin-bottom: 0px;\">Client</h3>\n",
       "        <p style=\"color: #9D9D9D; margin-bottom: 0px;\">Client-6514a405-c789-11ee-9c58-149ecf12cc24</p>\n",
       "        <table style=\"width: 100%; text-align: left;\">\n",
       "\n",
       "        <tr>\n",
       "        \n",
       "            <td style=\"text-align: left;\"><strong>Connection method:</strong> Cluster object</td>\n",
       "            <td style=\"text-align: left;\"><strong>Cluster type:</strong> dask_jobqueue.SLURMCluster</td>\n",
       "        \n",
       "        </tr>\n",
       "\n",
       "        \n",
       "            <tr>\n",
       "                <td style=\"text-align: left;\">\n",
       "                    <strong>Dashboard: </strong> <a href=\"http://10.120.16.171:8787/status\" target=\"_blank\">http://10.120.16.171:8787/status</a>\n",
       "                </td>\n",
       "                <td style=\"text-align: left;\"></td>\n",
       "            </tr>\n",
       "        \n",
       "\n",
       "        </table>\n",
       "\n",
       "        \n",
       "\n",
       "        \n",
       "            <details>\n",
       "            <summary style=\"margin-bottom: 20px;\"><h3 style=\"display: inline;\">Cluster Info</h3></summary>\n",
       "            <div class=\"jp-RenderedHTMLCommon jp-RenderedHTML jp-mod-trusted jp-OutputArea-output\">\n",
       "    <div style=\"width: 24px; height: 24px; background-color: #e1e1e1; border: 3px solid #9D9D9D; border-radius: 5px; position: absolute;\">\n",
       "    </div>\n",
       "    <div style=\"margin-left: 48px;\">\n",
       "        <h3 style=\"margin-bottom: 0px; margin-top: 0px;\">SLURMCluster</h3>\n",
       "        <p style=\"color: #9D9D9D; margin-bottom: 0px;\">e3c0c530</p>\n",
       "        <table style=\"width: 100%; text-align: left;\">\n",
       "            <tr>\n",
       "                <td style=\"text-align: left;\">\n",
       "                    <strong>Dashboard:</strong> <a href=\"http://10.120.16.171:8787/status\" target=\"_blank\">http://10.120.16.171:8787/status</a>\n",
       "                </td>\n",
       "                <td style=\"text-align: left;\">\n",
       "                    <strong>Workers:</strong> 0\n",
       "                </td>\n",
       "            </tr>\n",
       "            <tr>\n",
       "                <td style=\"text-align: left;\">\n",
       "                    <strong>Total threads:</strong> 0\n",
       "                </td>\n",
       "                <td style=\"text-align: left;\">\n",
       "                    <strong>Total memory:</strong> 0 B\n",
       "                </td>\n",
       "            </tr>\n",
       "            \n",
       "        </table>\n",
       "\n",
       "        <details>\n",
       "            <summary style=\"margin-bottom: 20px;\">\n",
       "                <h3 style=\"display: inline;\">Scheduler Info</h3>\n",
       "            </summary>\n",
       "\n",
       "            <div style=\"\">\n",
       "    <div>\n",
       "        <div style=\"width: 24px; height: 24px; background-color: #FFF7E5; border: 3px solid #FF6132; border-radius: 5px; position: absolute;\"> </div>\n",
       "        <div style=\"margin-left: 48px;\">\n",
       "            <h3 style=\"margin-bottom: 0px;\">Scheduler</h3>\n",
       "            <p style=\"color: #9D9D9D; margin-bottom: 0px;\">Scheduler-35fc2e65-8b97-4baf-a880-1068b179bfb3</p>\n",
       "            <table style=\"width: 100%; text-align: left;\">\n",
       "                <tr>\n",
       "                    <td style=\"text-align: left;\">\n",
       "                        <strong>Comm:</strong> tcp://10.120.16.171:43556\n",
       "                    </td>\n",
       "                    <td style=\"text-align: left;\">\n",
       "                        <strong>Workers:</strong> 0\n",
       "                    </td>\n",
       "                </tr>\n",
       "                <tr>\n",
       "                    <td style=\"text-align: left;\">\n",
       "                        <strong>Dashboard:</strong> <a href=\"http://10.120.16.171:8787/status\" target=\"_blank\">http://10.120.16.171:8787/status</a>\n",
       "                    </td>\n",
       "                    <td style=\"text-align: left;\">\n",
       "                        <strong>Total threads:</strong> 0\n",
       "                    </td>\n",
       "                </tr>\n",
       "                <tr>\n",
       "                    <td style=\"text-align: left;\">\n",
       "                        <strong>Started:</strong> Just now\n",
       "                    </td>\n",
       "                    <td style=\"text-align: left;\">\n",
       "                        <strong>Total memory:</strong> 0 B\n",
       "                    </td>\n",
       "                </tr>\n",
       "            </table>\n",
       "        </div>\n",
       "    </div>\n",
       "\n",
       "    <details style=\"margin-left: 48px;\">\n",
       "        <summary style=\"margin-bottom: 20px;\">\n",
       "            <h3 style=\"display: inline;\">Workers</h3>\n",
       "        </summary>\n",
       "\n",
       "        \n",
       "\n",
       "    </details>\n",
       "</div>\n",
       "\n",
       "        </details>\n",
       "    </div>\n",
       "</div>\n",
       "            </details>\n",
       "        \n",
       "\n",
       "    </div>\n",
       "</div>"
      ],
      "text/plain": [
       "<Client: 'tcp://10.120.16.171:43556' processes=0 threads=0, memory=0 B>"
      ]
     },
     "execution_count": 57,
     "metadata": {},
     "output_type": "execute_result"
    }
   ],
   "source": [
    "dask_controller.daskclient"
   ]
  },
  {
   "cell_type": "code",
   "execution_count": 48,
   "metadata": {
    "scrolled": true,
    "tags": []
   },
   "outputs": [
    {
     "name": "stderr",
     "output_type": "stream",
     "text": [
      "/home/de64/micromamba/envs/crispri/lib/python3.10/site-packages/dask/dataframe/core.py:7086: FutureWarning: Meta is not valid, `map_partitions` and `map_overlap` expects output to be a pandas object. Try passing a pandas object as meta or a dict or tuple representing the (name, dtype) of the columns. In the future the meta you passed will not work.\n",
      "  warnings.warn(\n",
      "/home/de64/micromamba/envs/crispri/lib/python3.10/site-packages/dask/dataframe/core.py:7086: FutureWarning: Meta is not valid, `map_partitions` and `map_overlap` expects output to be a pandas object. Try passing a pandas object as meta or a dict or tuple representing the (name, dtype) of the columns. In the future the meta you passed will not work.\n",
      "  warnings.warn(\n",
      "/home/de64/paulssonlab/paulssonlab/src/paulssonlab/deaton/trenchripper/trenchripper/steadystate.py:1446: UserWarning: `meta` is not specified, inferred from partial data. Please provide `meta` if the result is unexpected.\n",
      "  Before: .apply(func)\n",
      "  After:  .apply(func, meta={'x': 'f8', 'y': 'f8'}) for dataframe result\n",
      "  or:     .apply(func, meta=('x', 'f8'))            for series result\n",
      "  trench_num_nans = control_trench_kde_df.groupby(\"Multi-Experiment Phenotype Trenchid\")[\"Value\"].apply(lambda x: np.sum(np.isnan(x))).compute()\n",
      "/home/de64/paulssonlab/paulssonlab/src/paulssonlab/deaton/trenchripper/trenchripper/steadystate.py:1474: UserWarning: `meta` is not specified, inferred from partial data. Please provide `meta` if the result is unexpected.\n",
      "  Before: .apply(func)\n",
      "  After:  .apply(func, meta={'x': 'f8', 'y': 'f8'}) for dataframe result\n",
      "  or:     .apply(func, meta=('x', 'f8'))            for series result\n",
      "  final_cell_cycle_df_ss_one_trench = final_cell_cycle_df_ss.groupby(\"Multi-Experiment Phenotype Trenchid\").apply(lambda x: x.iloc[0]).compute()\n",
      "/home/de64/micromamba/envs/crispri/lib/python3.10/site-packages/dask/base.py:1402: UserWarning: Running on a single-machine scheduler when a distributed client is active might lead to unexpected results.\n",
      "  warnings.warn(\n",
      "/home/de64/micromamba/envs/crispri/lib/python3.10/site-packages/dask/dataframe/core.py:7086: FutureWarning: Meta is not valid, `map_partitions` and `map_overlap` expects output to be a pandas object. Try passing a pandas object as meta or a dict or tuple representing the (name, dtype) of the columns. In the future the meta you passed will not work.\n",
      "  warnings.warn(\n"
     ]
    }
   ],
   "source": [
    "# bootstrap_block_len = 4\n",
    "n_bootstraps_trench_density = 1000\n",
    "# n_bootstraps_trench_aggregate = 250000\n",
    "n_bootstraps_trench_aggregate = 100000\n",
    "filter_proliferating = True\n",
    "\n",
    "estimators = [np.nanmean]\n",
    "estimator_names = [\"Mean\"]\n",
    "bivariate_variable_list = [False]\n",
    "estimator_names_to_agg = [\"Mean\",\"Mean\"]\n",
    "unpaired_aggregators=[np.nanmedian,np.nanmean]\n",
    "paired_aggregators=[]\n",
    "\n",
    "agg_names=[\"Mean (Robust)\",\"Mean (True)\"]\n",
    "\n",
    "single_variable_list = ['Septum Displacement Length Normalized','Delta time (s)']\n",
    "## Add More Later, once I have settled on the list\n",
    "pearsonr_variable_list = []\n",
    "\n",
    "steady_state_df_path = \"/home/de64/scratch/de64/sync_folder/2023-01-18_lDE20_Merged_Analysis/2024-01-25_lDE20_Steady_State_Cell_Cycle_df\"\n",
    "preinduction_df_path = \"/home/de64/scratch/de64/sync_folder/2023-01-18_lDE20_Merged_Analysis/2024-01-25_lDE20_Preinduction_Cell_Cycle_df\"\n",
    "\n",
    "tr.trench_bootstrap_null_model_main(dask_controller,steady_state_df_path,preinduction_df_path,tr.bootstrap_density,estimators,estimator_names,bivariate_variable_list,\\\n",
    "                              single_variable_list,pearsonr_variable_list,filter_proliferating=filter_proliferating,n_bootstraps_trench_density=n_bootstraps_trench_density)\n",
    "tr.trench_aggregate_bootstrap_null_model_main(dask_controller,steady_state_df_path,estimator_names,bivariate_variable_list,estimator_names_to_agg,unpaired_aggregators,paired_aggregators,\\\n",
    "                           agg_names,single_variable_list,pearsonr_variable_list,n_bootstraps_trench_aggregate=n_bootstraps_trench_aggregate)"
   ]
  },
  {
   "cell_type": "code",
   "execution_count": 58,
   "metadata": {},
   "outputs": [
    {
     "name": "stderr",
     "output_type": "stream",
     "text": [
      "/home/de64/micromamba/envs/crispri/lib/python3.10/site-packages/dask/dataframe/core.py:7086: FutureWarning: Meta is not valid, `map_partitions` and `map_overlap` expects output to be a pandas object. Try passing a pandas object as meta or a dict or tuple representing the (name, dtype) of the columns. In the future the meta you passed will not work.\n",
      "  warnings.warn(\n",
      "/home/de64/micromamba/envs/crispri/lib/python3.10/site-packages/dask/dataframe/core.py:7086: FutureWarning: Meta is not valid, `map_partitions` and `map_overlap` expects output to be a pandas object. Try passing a pandas object as meta or a dict or tuple representing the (name, dtype) of the columns. In the future the meta you passed will not work.\n",
      "  warnings.warn(\n",
      "/home/de64/paulssonlab/paulssonlab/src/paulssonlab/deaton/trenchripper/trenchripper/steadystate.py:1446: UserWarning: `meta` is not specified, inferred from partial data. Please provide `meta` if the result is unexpected.\n",
      "  Before: .apply(func)\n",
      "  After:  .apply(func, meta={'x': 'f8', 'y': 'f8'}) for dataframe result\n",
      "  or:     .apply(func, meta=('x', 'f8'))            for series result\n",
      "  trench_num_nans = control_trench_kde_df.groupby(\"Multi-Experiment Phenotype Trenchid\")[\"Value\"].apply(lambda x: np.sum(np.isnan(x))).compute()\n",
      "/home/de64/paulssonlab/paulssonlab/src/paulssonlab/deaton/trenchripper/trenchripper/steadystate.py:1474: UserWarning: `meta` is not specified, inferred from partial data. Please provide `meta` if the result is unexpected.\n",
      "  Before: .apply(func)\n",
      "  After:  .apply(func, meta={'x': 'f8', 'y': 'f8'}) for dataframe result\n",
      "  or:     .apply(func, meta=('x', 'f8'))            for series result\n",
      "  final_cell_cycle_df_ss_one_trench = final_cell_cycle_df_ss.groupby(\"Multi-Experiment Phenotype Trenchid\").apply(lambda x: x.iloc[0]).compute()\n",
      "/home/de64/micromamba/envs/crispri/lib/python3.10/site-packages/dask/base.py:1402: UserWarning: Running on a single-machine scheduler when a distributed client is active might lead to unexpected results.\n",
      "  warnings.warn(\n",
      "/home/de64/micromamba/envs/crispri/lib/python3.10/site-packages/dask/dataframe/core.py:7086: FutureWarning: Meta is not valid, `map_partitions` and `map_overlap` expects output to be a pandas object. Try passing a pandas object as meta or a dict or tuple representing the (name, dtype) of the columns. In the future the meta you passed will not work.\n",
      "  warnings.warn(\n"
     ]
    }
   ],
   "source": [
    "n_bootstraps_trench_density = 1000\n",
    "# n_bootstraps_trench_aggregate = 250000\n",
    "n_bootstraps_trench_aggregate = 100000\n",
    "filter_proliferating = False\n",
    "\n",
    "estimators = [np.nanmean]\n",
    "estimator_names = [\"Mean\"]\n",
    "bivariate_variable_list = [False]\n",
    "estimator_names_to_agg = [\"Mean\",\"Mean\"]\n",
    "unpaired_aggregators=[np.nanmedian,np.nanmean]\n",
    "paired_aggregators=[]\n",
    "\n",
    "agg_names=[\"Mean (Robust)\",\"Mean (True)\"]\n",
    "\n",
    "single_variable_list = ['Length', 'Width','mCherry mean_intensity']\n",
    "pearsonr_variable_list = []\n",
    "\n",
    "steady_state_df_path = \"/home/de64/scratch/de64/sync_folder/2023-01-18_lDE20_Merged_Analysis/2024-01-25_lDE20_Steady_State_Timepoints_df\"\n",
    "preinduction_df_path = \"/home/de64/scratch/de64/sync_folder/2023-01-18_lDE20_Merged_Analysis/2024-01-25_lDE20_Preinduction_Timepoints_df\"\n",
    "\n",
    "tr.trench_bootstrap_null_model_main(dask_controller,steady_state_df_path,preinduction_df_path,tr.bootstrap_density,estimators,estimator_names,bivariate_variable_list,\\\n",
    "                              single_variable_list,pearsonr_variable_list,filter_proliferating=filter_proliferating,n_bootstraps_trench_density=n_bootstraps_trench_density)\n",
    "tr.trench_aggregate_bootstrap_null_model_main(dask_controller,steady_state_df_path,estimator_names,bivariate_variable_list,estimator_names_to_agg,unpaired_aggregators,paired_aggregators,\\\n",
    "                           agg_names,single_variable_list,pearsonr_variable_list,n_bootstraps_trench_aggregate=n_bootstraps_trench_aggregate)"
   ]
  },
  {
   "cell_type": "code",
   "execution_count": 50,
   "metadata": {},
   "outputs": [
    {
     "name": "stderr",
     "output_type": "stream",
     "text": [
      "/home/de64/micromamba/envs/crispri/lib/python3.10/site-packages/dask/dataframe/core.py:7086: FutureWarning: Meta is not valid, `map_partitions` and `map_overlap` expects output to be a pandas object. Try passing a pandas object as meta or a dict or tuple representing the (name, dtype) of the columns. In the future the meta you passed will not work.\n",
      "  warnings.warn(\n",
      "/home/de64/micromamba/envs/crispri/lib/python3.10/site-packages/dask/dataframe/core.py:7086: FutureWarning: Meta is not valid, `map_partitions` and `map_overlap` expects output to be a pandas object. Try passing a pandas object as meta or a dict or tuple representing the (name, dtype) of the columns. In the future the meta you passed will not work.\n",
      "  warnings.warn(\n",
      "/home/de64/paulssonlab/paulssonlab/src/paulssonlab/deaton/trenchripper/trenchripper/steadystate.py:1446: UserWarning: `meta` is not specified, inferred from partial data. Please provide `meta` if the result is unexpected.\n",
      "  Before: .apply(func)\n",
      "  After:  .apply(func, meta={'x': 'f8', 'y': 'f8'}) for dataframe result\n",
      "  or:     .apply(func, meta=('x', 'f8'))            for series result\n",
      "  trench_num_nans = control_trench_kde_df.groupby(\"Multi-Experiment Phenotype Trenchid\")[\"Value\"].apply(lambda x: np.sum(np.isnan(x))).compute()\n",
      "/home/de64/paulssonlab/paulssonlab/src/paulssonlab/deaton/trenchripper/trenchripper/steadystate.py:1474: UserWarning: `meta` is not specified, inferred from partial data. Please provide `meta` if the result is unexpected.\n",
      "  Before: .apply(func)\n",
      "  After:  .apply(func, meta={'x': 'f8', 'y': 'f8'}) for dataframe result\n",
      "  or:     .apply(func, meta=('x', 'f8'))            for series result\n",
      "  final_cell_cycle_df_ss_one_trench = final_cell_cycle_df_ss.groupby(\"Multi-Experiment Phenotype Trenchid\").apply(lambda x: x.iloc[0]).compute()\n",
      "/home/de64/micromamba/envs/crispri/lib/python3.10/site-packages/dask/base.py:1402: UserWarning: Running on a single-machine scheduler when a distributed client is active might lead to unexpected results.\n",
      "  warnings.warn(\n",
      "/home/de64/micromamba/envs/crispri/lib/python3.10/site-packages/dask/dataframe/core.py:7086: FutureWarning: Meta is not valid, `map_partitions` and `map_overlap` expects output to be a pandas object. Try passing a pandas object as meta or a dict or tuple representing the (name, dtype) of the columns. In the future the meta you passed will not work.\n",
      "  warnings.warn(\n"
     ]
    }
   ],
   "source": [
    "n_bootstraps_trench_density = 1000\n",
    "# n_bootstraps_trench_aggregate = 250000\n",
    "n_bootstraps_trench_aggregate = 100000\n",
    "filter_proliferating = False\n",
    "\n",
    "estimators = [np.nanmean]\n",
    "estimator_names = [\"Mean\"]\n",
    "bivariate_variable_list = [False]\n",
    "estimator_names_to_agg = [\"Mean\",\"Mean\"]\n",
    "unpaired_aggregators=[np.nanmedian,np.nanmean]\n",
    "paired_aggregators=[]\n",
    "\n",
    "agg_names=[\"Mean (Robust)\",\"Mean (True)\"]\n",
    "\n",
    "single_variable_list = ['Instantaneous Growth Rate: Volume']\n",
    "pearsonr_variable_list = []\n",
    "\n",
    "steady_state_df_path = \"/home/de64/scratch/de64/sync_folder/2023-01-18_lDE20_Merged_Analysis/2024-01-25_lDE20_Steady_State_Growth_df\"\n",
    "preinduction_df_path = \"/home/de64/scratch/de64/sync_folder/2023-01-18_lDE20_Merged_Analysis/2024-01-25_lDE20_Preinduction_Growth_df\"\n",
    "\n",
    "tr.trench_bootstrap_null_model_main(dask_controller,steady_state_df_path,preinduction_df_path,tr.bootstrap_density,estimators,estimator_names,bivariate_variable_list,\\\n",
    "                              single_variable_list,pearsonr_variable_list,filter_proliferating=filter_proliferating,n_bootstraps_trench_density=n_bootstraps_trench_density)\n",
    "tr.trench_aggregate_bootstrap_null_model_main(dask_controller,steady_state_df_path,estimator_names,bivariate_variable_list,estimator_names_to_agg,unpaired_aggregators,paired_aggregators,\\\n",
    "                           agg_names,single_variable_list,pearsonr_variable_list,n_bootstraps_trench_aggregate=n_bootstraps_trench_aggregate)"
   ]
  },
  {
   "cell_type": "markdown",
   "metadata": {},
   "source": [
    "## 3) Combining Estimates and Bootstraps\n",
    "- Combine the information from the last two steps to get $ var(\\hat\\theta) $, confidence intervals and p-values\n",
    "- Part 1: Computing $ var(\\hat\\theta) $ and Confidence Intervals from Bootstraps\n",
    "- Part 2: Computing P-values from Control Bootstraps\n",
    "- Part 3: Assembling variances, CIs and P-values into single variant dataframe for export"
   ]
  },
  {
   "cell_type": "code",
   "execution_count": 1,
   "metadata": {},
   "outputs": [
    {
     "ename": "NameError",
     "evalue": "name 'tr' is not defined",
     "output_type": "error",
     "traceback": [
      "\u001b[0;31m---------------------------------------------------------------------------\u001b[0m",
      "\u001b[0;31mNameError\u001b[0m                                 Traceback (most recent call last)",
      "Cell \u001b[0;32mIn[1], line 1\u001b[0m\n\u001b[0;32m----> 1\u001b[0m dask_controller \u001b[38;5;241m=\u001b[39m \u001b[43mtr\u001b[49m\u001b[38;5;241m.\u001b[39mtrcluster\u001b[38;5;241m.\u001b[39mdask_controller(\n\u001b[1;32m      2\u001b[0m     walltime\u001b[38;5;241m=\u001b[39m\u001b[38;5;124m\"\u001b[39m\u001b[38;5;124m03:00:00\u001b[39m\u001b[38;5;124m\"\u001b[39m,\n\u001b[1;32m      3\u001b[0m     local\u001b[38;5;241m=\u001b[39m\u001b[38;5;28;01mFalse\u001b[39;00m,\n\u001b[1;32m      4\u001b[0m     n_workers\u001b[38;5;241m=\u001b[39m\u001b[38;5;241m50\u001b[39m,\n\u001b[1;32m      5\u001b[0m     n_workers_min\u001b[38;5;241m=\u001b[39m\u001b[38;5;241m50\u001b[39m,\n\u001b[1;32m      6\u001b[0m     memory\u001b[38;5;241m=\u001b[39m\u001b[38;5;124m\"\u001b[39m\u001b[38;5;124m8GB\u001b[39m\u001b[38;5;124m\"\u001b[39m,\n\u001b[1;32m      7\u001b[0m     working_directory\u001b[38;5;241m=\u001b[39mdask_wd,\n\u001b[1;32m      8\u001b[0m )\n\u001b[1;32m      9\u001b[0m dask_controller\u001b[38;5;241m.\u001b[39mstartdask()\n",
      "\u001b[0;31mNameError\u001b[0m: name 'tr' is not defined"
     ]
    }
   ],
   "source": [
    "dask_controller = tr.trcluster.dask_controller(\n",
    "    walltime=\"03:00:00\",\n",
    "    local=False,\n",
    "    n_workers=50,\n",
    "    n_workers_min=50,\n",
    "    memory=\"8GB\",\n",
    "    working_directory=dask_wd,\n",
    ")\n",
    "dask_controller.startdask()"
   ]
  },
  {
   "cell_type": "code",
   "execution_count": 2,
   "metadata": {},
   "outputs": [
    {
     "ename": "NameError",
     "evalue": "name 'dask_controller' is not defined",
     "output_type": "error",
     "traceback": [
      "\u001b[0;31m---------------------------------------------------------------------------\u001b[0m",
      "\u001b[0;31mNameError\u001b[0m                                 Traceback (most recent call last)",
      "Cell \u001b[0;32mIn[2], line 1\u001b[0m\n\u001b[0;32m----> 1\u001b[0m \u001b[43mdask_controller\u001b[49m\u001b[38;5;241m.\u001b[39mdaskclient\n",
      "\u001b[0;31mNameError\u001b[0m: name 'dask_controller' is not defined"
     ]
    }
   ],
   "source": [
    "dask_controller.daskclient"
   ]
  },
  {
   "cell_type": "code",
   "execution_count": 59,
   "metadata": {
    "scrolled": true
   },
   "outputs": [
    {
     "name": "stderr",
     "output_type": "stream",
     "text": [
      "/home/de64/paulssonlab/paulssonlab/src/paulssonlab/deaton/trenchripper/trenchripper/steadystate.py:1622: UserWarning: `meta` is not specified, inferred from partial data. Please provide `meta` if the result is unexpected.\n",
      "  Before: .apply(func)\n",
      "  After:  .apply(func, meta={'x': 'f8', 'y': 'f8'}) for dataframe result\n",
      "  or:     .apply(func, meta=('x', 'f8'))            for series result\n",
      "  control_variant_bootstrap_pval_calc_df = control_variant_bootstrap_dd.groupby(\"Estimator-Variable(s)-NTrenches\").apply(lambda x: x[\"Aggregate Values\"].tolist()).persist()\n",
      "/home/de64/paulssonlab/paulssonlab/src/paulssonlab/deaton/trenchripper/trenchripper/steadystate.py:1622: UserWarning: `meta` is not specified, inferred from partial data. Please provide `meta` if the result is unexpected.\n",
      "  Before: .apply(func)\n",
      "  After:  .apply(func, meta={'x': 'f8', 'y': 'f8'}) for dataframe result\n",
      "  or:     .apply(func, meta=('x', 'f8'))            for series result\n",
      "  control_variant_bootstrap_pval_calc_df = control_variant_bootstrap_dd.groupby(\"Estimator-Variable(s)-NTrenches\").apply(lambda x: x[\"Aggregate Values\"].tolist()).persist()\n",
      "/home/de64/paulssonlab/paulssonlab/src/paulssonlab/deaton/trenchripper/trenchripper/steadystate.py:1622: UserWarning: `meta` is not specified, inferred from partial data. Please provide `meta` if the result is unexpected.\n",
      "  Before: .apply(func)\n",
      "  After:  .apply(func, meta={'x': 'f8', 'y': 'f8'}) for dataframe result\n",
      "  or:     .apply(func, meta=('x', 'f8'))            for series result\n",
      "  control_variant_bootstrap_pval_calc_df = control_variant_bootstrap_dd.groupby(\"Estimator-Variable(s)-NTrenches\").apply(lambda x: x[\"Aggregate Values\"].tolist()).persist()\n"
     ]
    }
   ],
   "source": [
    "steady_state_cell_cycle_df_path = \"/home/de64/scratch/de64/sync_folder/2023-01-18_lDE20_Merged_Analysis/2024-01-25_lDE20_Steady_State_Cell_Cycle_df\"\n",
    "steady_state_timepoints_df_path = \"/home/de64/scratch/de64/sync_folder/2023-01-18_lDE20_Merged_Analysis/2024-01-25_lDE20_Steady_State_Timepoints_df\"\n",
    "steady_state_growth_df_path = \"/home/de64/scratch/de64/sync_folder/2023-01-18_lDE20_Merged_Analysis/2024-01-25_lDE20_Steady_State_Growth_df\"\n",
    "\n",
    "estimator_cell_cycle_stats_path = steady_state_cell_cycle_df_path + \"_Estimators_wStats.pkl\"\n",
    "estimator_timepoints_stats_path = steady_state_timepoints_df_path + \"_Estimators_wStats.pkl\"\n",
    "estimator_cell_growth_path = steady_state_growth_df_path + \"_Estimators_wStats.pkl\"\n",
    "\n",
    "steady_state_estimator_path = \"/home/de64/scratch/de64/sync_folder/2023-01-18_lDE20_Merged_Analysis/2024-01-25_lDE20_Steady_State_df_Estimators_wStats.pkl\"\n",
    "steady_state_estimator_path_csv = \"/home/de64/scratch/de64/sync_folder/2023-01-18_lDE20_Merged_Analysis/2024-01-25_lDE20_Steady_State_df_Estimators_wStats.csv\"\n",
    "\n",
    "tr.get_final_bootstrap_output(steady_state_cell_cycle_df_path,include_ccf=False,filter_proliferating=True)\n",
    "tr.get_final_bootstrap_output(steady_state_timepoints_df_path,include_ccf=False,filter_proliferating=False)\n",
    "tr.get_final_bootstrap_output(steady_state_growth_df_path,include_ccf=False,filter_proliferating=False)\n",
    "\n",
    "cell_cycle_estimator_df = pd.read_pickle(estimator_cell_cycle_stats_path)\n",
    "timepoints_estimator_df = pd.read_pickle(estimator_timepoints_stats_path)\n",
    "growth_estimator_df = pd.read_pickle(estimator_cell_growth_path)\n",
    "\n",
    "estimator_df = pd.concat([cell_cycle_estimator_df,timepoints_estimator_df,growth_estimator_df]).sort_index()\n",
    "estimator_df.to_pickle(steady_state_estimator_path)\n",
    "estimator_df.to_csv(steady_state_estimator_path_csv)"
   ]
  },
  {
   "cell_type": "code",
   "execution_count": null,
   "metadata": {},
   "outputs": [],
   "source": [
    "dask_controller.shutdown()"
   ]
  },
  {
   "cell_type": "markdown",
   "metadata": {},
   "source": [
    "## 4) Generate Filtered SS Mean Dataset, Map to Clustering Dataframe"
   ]
  },
  {
   "cell_type": "markdown",
   "metadata": {},
   "source": [
    "### Filtered SS Mean Dataset"
   ]
  },
  {
   "cell_type": "code",
   "execution_count": 76,
   "metadata": {},
   "outputs": [],
   "source": [
    "## Choose a minimum of 8 trenches based on: \n",
    "## https://stats.stackexchange.com/questions/33300/determining-sample-size-necessary-for-bootstrap-method-proposed-method\n",
    "\n",
    "steady_state_estimator_path=\"/home/de64/scratch/de64/sync_folder/2023-01-18_lDE20_Merged_Analysis/2024-01-25_lDE20_Steady_State_df_Estimators_wStats.pkl\"\n",
    "steady_state_estimator_filtered_path=\"/home/de64/scratch/de64/sync_folder/2023-01-18_lDE20_Merged_Analysis/2024-01-25_lDE20_Steady_State_df_Robust_Mean_Filtered.pkl\"\n",
    "andf_path_to_merge = \"/home/de64/group/de64/CRISPRi_Libraries/dev_notebooks/2023-02-26_lDE20_10Hour_Analysis/Z_Score_Thr_1.0_N_Neighbors_10/AnnData.h5ad\"\n",
    "andf_path_out = \"/home/de64/group/de64/CRISPRi_Libraries/dev_notebooks/2023-02-26_lDE20_10Hour_Analysis/Z_Score_Thr_1.0_N_Neighbors_10/AnnData_wSteadyState.h5ad\"\n",
    "\n",
    "estimator_to_export = \"Mean (Robust)\"\n",
    "var_name = \"oDEPool7_id\"\n",
    "final_ss_columns = [\"Gene\",\"Category\"]\n",
    "prolif_parameters_to_filter = ['Delta time (s)','Septum Displacement Length Normalized']\n",
    "min_n_observations = 8\n",
    "mean_frac_sem_thr = 0.2\n",
    "\n",
    "ss_estimators_df = pd.read_pickle(steady_state_estimator_path)\n",
    "ss_estimators_df = ss_estimators_df.loc[estimator_to_export]\n",
    "\n",
    "final_column_df = ss_estimators_df.reset_index().groupby(var_name).first()[final_ss_columns]\n",
    "ss_estimators_df[\"SEM/Location\"] = (np.sqrt(ss_estimators_df[\"Estimator Variance\"])/ss_estimators_df[\"Value\"]).copy()\n",
    "ss_estimators_df = ss_estimators_df[ss_estimators_df[\"SEM/Location\"]<mean_frac_sem_thr]\n",
    "ss_estimators_df = ss_estimators_df.reset_index().set_index([var_name])\n",
    "\n",
    "##hack to get both observations and proliferating observations (was broken)\n",
    "observation_df = ss_estimators_df[ss_estimators_df[\"Variable(s)\"] == \"Length\"][[\"N Observations\"]]\n",
    "observation_df = observation_df.join(ss_estimators_df[ss_estimators_df[\"Variable(s)\"] == \"Delta time (s)\"][[\"N Observations Proliferating\"]])\n",
    "\n",
    "variance_estimators_df = ss_estimators_df[[\"Variable(s)\",\"Estimator Variance\"]]\n",
    "ss_estimators_df = ss_estimators_df[[\"Variable(s)\",\"Value\"]]\n",
    "ss_estimators_df = ss_estimators_df.pivot(columns=[\"Variable(s)\"])\n",
    "variance_estimators_df = variance_estimators_df.pivot(columns=[\"Variable(s)\"])\n",
    "\n",
    "ss_estimators_df.columns = ss_estimators_df.columns.droplevel(0)\n",
    "variance_estimators_df.columns = variance_estimators_df.columns.droplevel(0)\n",
    "variance_estimators_df.columns = [column + \" SEM\" for column in variance_estimators_df.columns]\n",
    "variance_estimators_df = np.sqrt(variance_estimators_df)\n",
    "ss_estimators_df = ss_estimators_df.join(observation_df,on=[var_name])\n",
    "ss_estimators_df = ss_estimators_df.join(variance_estimators_df,on=[var_name])\n",
    "ss_estimators_df = ss_estimators_df[ss_estimators_df[\"N Observations\"]>=min_n_observations]\n",
    "ss_estimators_df.loc[ss_estimators_df[\"N Observations Proliferating\"]<min_n_observations,\\\n",
    "prolif_parameters_to_filter + [param + \" SEM\" for param in prolif_parameters_to_filter]] = np.NaN\n",
    "ss_estimators_df = ss_estimators_df.join(final_column_df)\n",
    "\n",
    "##write\n",
    "ss_estimators_df.to_pickle(steady_state_estimator_filtered_path)"
   ]
  },
  {
   "cell_type": "markdown",
   "metadata": {},
   "source": [
    "### Mapping Steady State Values to Clustering Dataframe"
   ]
  },
  {
   "cell_type": "code",
   "execution_count": 77,
   "metadata": {},
   "outputs": [
    {
     "name": "stderr",
     "output_type": "stream",
     "text": [
      "/home/de64/micromamba/envs/crispri/lib/python3.11/site-packages/anndata/_core/anndata.py:859: UserWarning: \n",
      "AnnData expects .obs.index to contain strings, but got values like:\n",
      "    [9, 18, 44, 46, 48]\n",
      "\n",
      "    Inferred to be: integer\n",
      "\n",
      "  value_idx = self._prep_dim_index(value.index, attr)\n"
     ]
    }
   ],
   "source": [
    "ss_estimators_df = pd.read_pickle(steady_state_estimator_filtered_path)\n",
    "an_df = anndata.read_h5ad(andf_path_to_merge)\n",
    "an_df.obs.index = an_df.obs.index.astype(int)\n",
    "\n",
    "ss_estimators_df = ss_estimators_df.drop(columns=final_ss_columns)\n",
    "ss_estimators_df = ss_estimators_df.rename(columns={col_name:\"Steady State: \" + col_name for col_name in ss_estimators_df.columns})\n",
    "an_df.obs = an_df.obs.join(ss_estimators_df)\n",
    "##write\n",
    "an_df.write_h5ad(andf_path_out)"
   ]
  },
  {
   "cell_type": "markdown",
   "metadata": {},
   "source": [
    "## 5) Fit Growth Scaling Slopes"
   ]
  },
  {
   "cell_type": "code",
   "execution_count": 3,
   "metadata": {},
   "outputs": [],
   "source": [
    "ss_estimators_df = pd.read_pickle(\"/home/de64/group/de64/CRISPRi_Libraries/dev_notebooks/2024-11-23_Figure_Notebooks/Data/lDE20_Imaging/2024-01-25_lDE20_Steady_State_df_Estimators_wStats.pkl\")\n",
    "ss_estimators_df = ss_estimators_df.loc[\"Mean (Robust)\"]\n",
    "\n",
    "final_columns = [\"Gene\",\"Category\"]\n",
    "control_categories = ['OnlyPlasmid', 'NoTarget']\n",
    "params_of_interest = ['Length','Instantaneous Growth Rate: Volume']\n",
    "\n",
    "min_n_observations = 8\n",
    "## minimum set from https://stats.stackexchange.com/questions/33300/determining-sample-size-necessary-for-bootstrap-method-proposed-method\n",
    "mean_frac_sem_thr = 0.2\n",
    "\n",
    "final_column_df = ss_estimators_df.reset_index().groupby(\"oDEPool7_id\").first()[final_columns]\n",
    "ss_estimators_df[\"SEM/Location\"] = (np.sqrt(ss_estimators_df[\"Estimator Variance\"])/ss_estimators_df[\"Value\"]).copy()\n",
    "ss_estimators_df = ss_estimators_df[ss_estimators_df[\"SEM/Location\"]<mean_frac_sem_thr]\n",
    "ss_estimators_df = ss_estimators_df.reset_index().set_index([\"oDEPool7_id\"])\n",
    "\n",
    "##hack to get both observatoins and proliferating observations (was broken)\n",
    "observation_df = ss_estimators_df[ss_estimators_df[\"Variable(s)\"] == \"Length\"][[\"N Observations\"]]\n",
    "observation_df = observation_df.join(ss_estimators_df[ss_estimators_df[\"Variable(s)\"] == \"Delta time (s)\"][[\"N Observations Proliferating\"]])\n",
    "\n",
    "variance_estimators_df = ss_estimators_df[[\"Variable(s)\",\"Estimator Variance\"]]\n",
    "ss_estimators_df = ss_estimators_df[[\"Variable(s)\",\"Value\"]]\n",
    "ss_estimators_df = ss_estimators_df.pivot(columns=[\"Variable(s)\"])\n",
    "variance_estimators_df = variance_estimators_df.pivot(columns=[\"Variable(s)\"])\n",
    "\n",
    "ss_estimators_df.columns = ss_estimators_df.columns.droplevel(0)\n",
    "variance_estimators_df.columns = variance_estimators_df.columns.droplevel(0)\n",
    "variance_estimators_df.columns = [column + \" SEM\" for column in variance_estimators_df.columns]\n",
    "variance_estimators_df = np.sqrt(variance_estimators_df)\n",
    "ss_estimators_df = ss_estimators_df.join(observation_df,on=['oDEPool7_id'])\n",
    "ss_estimators_df = ss_estimators_df.join(variance_estimators_df,on=['oDEPool7_id'])\n",
    "\n",
    "ss_estimators_df = ss_estimators_df[ss_estimators_df[\"N Observations\"]>=min_n_observations]\n",
    "ss_estimators_df[\"Instantaneous Growth Rate: Volume\"] = ss_estimators_df[\"Instantaneous Growth Rate: Volume\"]/np.log(2)\n",
    "ss_estimators_df[\"Instantaneous Growth Rate: Volume SEM\"] = ss_estimators_df[\"Instantaneous Growth Rate: Volume SEM\"]/np.log(2)\n",
    "ss_estimators_df = ss_estimators_df.join(final_column_df)\n",
    "ss_estimators_df = ss_estimators_df.dropna(subset=params_of_interest)\n",
    "\n",
    "# ##removing controls\n",
    "ss_estimators_df_controls_only = ss_estimators_df[ss_estimators_df[\"Category\"].isin(control_categories)]\n",
    "ss_estimators_df = ss_estimators_df[~ss_estimators_df[\"Category\"].isin(control_categories)]"
   ]
  },
  {
   "cell_type": "code",
   "execution_count": 7,
   "metadata": {},
   "outputs": [
    {
     "name": "stderr",
     "output_type": "stream",
     "text": [
      "/tmp/ipykernel_110808/1922248443.py:27: RuntimeWarning: invalid value encountered in divide\n",
      "  slopes = num/denom\n",
      "/tmp/ipykernel_110808/562788566.py:8: DeprecationWarning: DataFrameGroupBy.apply operated on the grouping columns. This behavior is deprecated, and in a future version of pandas the grouping columns will be excluded from the operation. Either pass `include_groups=False` to exclude the groupings or explicitly select the grouping columns after groupby to silence this warning.\n",
      "  all_slopes = filtered_ss_estimators_df.groupby(\"Gene\").apply(lambda x: fit_reg(x))\n"
     ]
    }
   ],
   "source": [
    "min_points = 5\n",
    "ci_threshold = 0.5\n",
    "growth_thr = 0.9\n",
    "\n",
    "gene,counts = np.unique(ss_estimators_df[\"Gene\"],return_counts=True)\n",
    "genes_past_thr = gene[counts>=min_points]\n",
    "filtered_ss_estimators_df = ss_estimators_df[ss_estimators_df[\"Gene\"].isin(genes_past_thr)]\n",
    "all_slopes = filtered_ss_estimators_df.groupby(\"Gene\").apply(lambda x: fit_reg(x))\n",
    "all_slopes_filtered = all_slopes[(all_slopes[\"CI\"]<ci_threshold)&(all_slopes[\"Min Growth\"]<growth_thr)]"
   ]
  },
  {
   "cell_type": "code",
   "execution_count": 9,
   "metadata": {},
   "outputs": [],
   "source": [
    "all_slopes_filtered.to_csv(\"/home/de64/group/de64/CRISPRi_Libraries/dev_notebooks/2024-11-23_Figure_Notebooks/Data/lDE20_Imaging/Growth_Length_Slopes.csv\")"
   ]
  }
 ],
 "metadata": {
  "kernelspec": {
   "display_name": "Python 3 (ipykernel)",
   "language": "python",
   "name": "python3"
  },
  "language_info": {
   "codemirror_mode": {
    "name": "ipython",
    "version": 3
   },
   "file_extension": ".py",
   "mimetype": "text/x-python",
   "name": "python",
   "nbconvert_exporter": "python",
   "pygments_lexer": "ipython3",
   "version": "3.11.8"
  },
  "toc-autonumbering": false,
  "toc-showcode": false,
  "toc-showmarkdowntxt": false,
  "toc-showtags": false
 },
 "nbformat": 4,
 "nbformat_minor": 4
}
