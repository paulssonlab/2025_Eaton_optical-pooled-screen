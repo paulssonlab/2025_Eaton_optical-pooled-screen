{
 "cells": [
  {
   "cell_type": "markdown",
   "id": "00e09db4-9074-4f82-8057-cbea96738888",
   "metadata": {},
   "source": [
    "### Plots for Validation Dataset\n",
    "- Excluding GlyQ due to insuffecient sampling in lDE20\n",
    "- Revisit if I re-run the original dataset with more FOV retention in notebook 2\n"
   ]
  },
  {
   "cell_type": "code",
   "execution_count": 1,
   "id": "35455428-f184-4d22-9c70-6ced8f2e4f39",
   "metadata": {},
   "outputs": [],
   "source": [
    "import trenchripper as tr\n",
    "import numpy as np\n",
    "import pandas as pd\n",
    "import seaborn as sns\n",
    "import scipy as sp\n",
    "import scipy.stats\n",
    "from scipy.stats import ttest_ind\n",
    "\n",
    "import sklearn as skl\n",
    "import dask.dataframe as dd\n",
    "import dask.array as da\n",
    "import dask\n",
    "import warnings\n",
    "import copy\n",
    "import random\n",
    "\n",
    "from matplotlib import pyplot as plt\n",
    "import matplotlib as mpl\n",
    "\n",
    "random.seed(42)\n",
    "np.random.seed(42)\n",
    "\n",
    "dask_wd = \"/home/de64/scratch/de64/dask\""
   ]
  },
  {
   "cell_type": "markdown",
   "id": "9b1d644c-790b-49db-9ac8-1b50d2e01a96",
   "metadata": {},
   "source": [
    "### Normalize Against WT\n",
    "- Changes in optical configurations resulted in a change in mCherry intensity\n",
    "- Normalize the other variants against initial WT values\n",
    "- The results are pretty mid; consider only including the second run (compare them in terms of focus, etc by hand)"
   ]
  },
  {
   "cell_type": "markdown",
   "id": "22e81f44-cfd6-40f7-958c-6040757a76f3",
   "metadata": {},
   "source": [
    "### Endpoint Steady State Distributions"
   ]
  },
  {
   "cell_type": "code",
   "execution_count": 2,
   "id": "029aafd9-dd3d-47b7-abb2-09fdc0f96c64",
   "metadata": {
    "scrolled": true
   },
   "outputs": [
    {
     "name": "stdout",
     "output_type": "stream",
     "text": [
      "230m\n",
      "04:00:00\n"
     ]
    }
   ],
   "source": [
    "dask_controller = tr.trcluster.dask_controller(\n",
    "    walltime=\"04:00:00\",\n",
    "    local=False,\n",
    "    n_workers=25,\n",
    "    n_workers_min=25,\n",
    "    memory=\"16GB\",\n",
    "    working_directory=dask_wd,\n",
    ")\n",
    "dask_controller.startdask()"
   ]
  },
  {
   "cell_type": "code",
   "execution_count": 4,
   "id": "572a5e7c-2298-4ece-a141-78758ac49ac1",
   "metadata": {},
   "outputs": [
    {
     "data": {
      "text/html": [
       "<a href=\"http://10.120.16.233:8787/status\">Dashboard</a>"
      ],
      "text/plain": [
       "<IPython.core.display.HTML object>"
      ]
     },
     "metadata": {},
     "output_type": "display_data"
    }
   ],
   "source": [
    "dask_controller.displaydashboard()"
   ]
  },
  {
   "cell_type": "code",
   "execution_count": 5,
   "id": "289e7613-6fc8-45d8-bb12-03b7ee71e060",
   "metadata": {},
   "outputs": [],
   "source": [
    "cell_cycle_df = dd.read_parquet(\"/home/de64/scratch/de64/sync_folder/2023-01-18_lDE20_Merged_Analysis/2024-01-25_lDE20_Steady_State_Cell_Cycle_df\",calculate_divisions=True)\n",
    "timepoints_df = dd.read_parquet(\"/home/de64/scratch/de64/sync_folder/2023-01-18_lDE20_Merged_Analysis/2024-01-25_lDE20_Steady_State_Timepoints_df\",calculate_divisions=True)\n",
    "growth_df = dd.read_parquet(\"/home/de64/scratch/de64/sync_folder/2023-01-18_lDE20_Merged_Analysis/2024-01-25_lDE20_Steady_State_Growth_df\",calculate_divisions=True)\n",
    "\n",
    "control_cell_cycle_df = dd.read_parquet(\"/home/de64/scratch/de64/sync_folder/2021-11-12_lDE20_Validation_1/2024-03-24_Steady_State_Cell_Cycle_df\",calculate_divisions=True)\n",
    "control_timepoints_df = dd.read_parquet(\"/home/de64/scratch/de64/sync_folder/2021-11-12_lDE20_Validation_1/2024-03-24_Steady_State_Timepoints_df\",calculate_divisions=True)\n",
    "control_growth_df = dd.read_parquet(\"/home/de64/scratch/de64/sync_folder/2021-11-12_lDE20_Validation_1/2024-03-24_Steady_State_Growth_df\",calculate_divisions=True)"
   ]
  },
  {
   "cell_type": "code",
   "execution_count": 6,
   "id": "a791a7ef-1961-493f-9afa-999ff96ad7fa",
   "metadata": {},
   "outputs": [],
   "source": [
    "cell_cycle_df[\"Delta time (hr)\"] = cell_cycle_df[\"Delta time (s)\"]/3600\n",
    "control_cell_cycle_df[\"Delta time (hr)\"] = control_cell_cycle_df[\"Delta time (s)\"]/3600\n",
    "\n",
    "growth_df[\"Instantaneous Growth Rate: Volume\"] = growth_df[\"Instantaneous Growth Rate: Volume\"]/np.log(2)\n",
    "control_growth_df[\"Instantaneous Growth Rate: Volume\"] = control_growth_df[\"Instantaneous Growth Rate: Volume\"]/np.log(2)\n",
    "variant_lookup_df = control_cell_cycle_df.groupby(\"oDEPool7_id\")[[\"Gene\"]].first().compute()\n",
    "variant_lookup_df.index = variant_lookup_df.index.astype(int)\n",
    "\n",
    "cell_cycle_df = cell_cycle_df[cell_cycle_df[\"oDEPool7_id\"].isin(variant_lookup_df.index)].compute()\n",
    "timepoints_df = timepoints_df[timepoints_df[\"oDEPool7_id\"].isin(variant_lookup_df.index)].compute()\n",
    "growth_df = growth_df[growth_df[\"oDEPool7_id\"].isin(variant_lookup_df.index)].compute()\n",
    "\n",
    "control_cell_cycle_df = control_cell_cycle_df.compute()\n",
    "control_timepoints_df = control_timepoints_df.compute()\n",
    "control_growth_df = control_growth_df.compute()\n",
    "\n",
    "cell_cycle_df[\"Experiment\"] = \"lDE20\"\n",
    "control_cell_cycle_df[\"Experiment\"] = \"Isolate\"\n",
    "timepoints_df[\"Experiment\"] = \"lDE20\"\n",
    "control_timepoints_df[\"Experiment\"] = \"Isolate\"\n",
    "growth_df[\"Experiment\"] = \"lDE20\"\n",
    "control_growth_df[\"Experiment\"] = \"Isolate\"\n",
    "\n",
    "cell_cycle_df.loc[cell_cycle_df[\"Gene\"].isna(),\"Gene\"] = \"EV\"\n",
    "timepoints_df.loc[timepoints_df[\"Gene\"].isna(),\"Gene\"] = \"EV\"\n",
    "growth_df.loc[growth_df[\"Gene\"].isna(),\"Gene\"] = \"EV\""
   ]
  },
  {
   "cell_type": "markdown",
   "id": "23aea55e-1fe8-437e-b3eb-aaa4932356c1",
   "metadata": {},
   "source": [
    "### Save Checkpoints"
   ]
  },
  {
   "cell_type": "code",
   "execution_count": 8,
   "id": "d4f64b65-72e3-4610-a04a-e6a0ba8a35f5",
   "metadata": {},
   "outputs": [],
   "source": [
    "cell_cycle_df.to_csv(\"/home/de64/group/de64/CRISPRi_Libraries/dev_notebooks/2024-11-23_Figure_Notebooks/Data/Validation_Imaging/lDE20_Cell_Cycle_df.csv\")\n",
    "timepoints_df.to_csv(\"/home/de64/group/de64/CRISPRi_Libraries/dev_notebooks/2024-11-23_Figure_Notebooks/Data/Validation_Imaging/lDE20_Timepoints_df.csv\")\n",
    "growth_df.to_csv(\"/home/de64/group/de64/CRISPRi_Libraries/dev_notebooks/2024-11-23_Figure_Notebooks/Data/Validation_Imaging/lDE20_Growth_df.csv\")\n",
    "\n",
    "control_cell_cycle_df.to_csv(\"/home/de64/group/de64/CRISPRi_Libraries/dev_notebooks/2024-11-23_Figure_Notebooks/Data/Validation_Imaging/Isolate_Cell_Cycle_df.csv\")\n",
    "control_timepoints_df.to_csv(\"/home/de64/group/de64/CRISPRi_Libraries/dev_notebooks/2024-11-23_Figure_Notebooks/Data/Validation_Imaging/Isolate_Timepoints_df.csv\")\n",
    "control_growth_df.to_csv(\"/home/de64/group/de64/CRISPRi_Libraries/dev_notebooks/2024-11-23_Figure_Notebooks/Data/Validation_Imaging/Isolate_Growth_df.csv\")"
   ]
  },
  {
   "cell_type": "code",
   "execution_count": 18,
   "id": "cbcebc72-411e-42f5-a673-51c88f5e3cb3",
   "metadata": {},
   "outputs": [
    {
     "name": "stdout",
     "output_type": "stream",
     "text": [
      "Done.\n"
     ]
    },
    {
     "name": "stderr",
     "output_type": "stream",
     "text": [
      "2024-11-24 14:08:41,545 - distributed.deploy.adaptive_core - INFO - Adaptive stop\n"
     ]
    }
   ],
   "source": [
    "dask_controller.shutdown()"
   ]
  }
 ],
 "metadata": {
  "kernelspec": {
   "display_name": "Python 3 (ipykernel)",
   "language": "python",
   "name": "python3"
  },
  "language_info": {
   "codemirror_mode": {
    "name": "ipython",
    "version": 3
   },
   "file_extension": ".py",
   "mimetype": "text/x-python",
   "name": "python",
   "nbconvert_exporter": "python",
   "pygments_lexer": "ipython3",
   "version": "3.11.8"
  }
 },
 "nbformat": 4,
 "nbformat_minor": 5
}
