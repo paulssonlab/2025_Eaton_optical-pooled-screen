{
 "cells": [
  {
   "cell_type": "markdown",
   "metadata": {},
   "source": [
    "## Steady-state Single Variable Analysis"
   ]
  },
  {
   "cell_type": "code",
   "execution_count": null,
   "metadata": {},
   "outputs": [],
   "source": [
    "import trenchripper.trenchripper as tr\n",
    "\n",
    "import dask\n",
    "import warnings\n",
    "import random\n",
    "import anndata\n",
    "\n",
    "import numpy as np\n",
    "import pandas as pd\n",
    "import dask.dataframe as dd\n",
    "\n",
    "from matplotlib import pyplot as plt\n",
    "\n",
    "random.seed(42)\n",
    "np.random.seed(42)\n",
    "\n",
    "warnings.filterwarnings(action='once',category=UserWarning)\n",
    "\n",
    "# addition of active memory manager\n",
    "dask.config.set({'distributed.scheduler.active-memory-manager.start': True});\n",
    "dask.config.set({'distributed.scheduler.worker-ttl': \"5m\"});\n",
    "dask.config.set({'distributed.scheduler.allowed-failures': 100});\n",
    "\n",
    "dask_wd = \"/home/de64/scratch/de64/dask\""
   ]
  },
  {
   "cell_type": "markdown",
   "metadata": {},
   "source": [
    "### Initial Data Processing"
   ]
  },
  {
   "cell_type": "markdown",
   "metadata": {},
   "source": [
    "#### Start Dask"
   ]
  },
  {
   "cell_type": "code",
   "execution_count": 4,
   "metadata": {
    "tags": []
   },
   "outputs": [
    {
     "name": "stdout",
     "output_type": "stream",
     "text": [
      "50m\n",
      "01:00:00\n"
     ]
    }
   ],
   "source": [
    "dask_controller = tr.trcluster.dask_controller(\n",
    "    walltime=\"01:00:00\",\n",
    "    local=False,\n",
    "    n_workers=25,\n",
    "    n_workers_min=25,\n",
    "    memory=\"16GB\",\n",
    "    working_directory=dask_wd,\n",
    ")\n",
    "dask_controller.startdask()"
   ]
  },
  {
   "cell_type": "code",
   "execution_count": 6,
   "metadata": {
    "tags": []
   },
   "outputs": [
    {
     "data": {
      "text/html": [
       "<div>\n",
       "    <div style=\"width: 24px; height: 24px; background-color: #e1e1e1; border: 3px solid #9D9D9D; border-radius: 5px; position: absolute;\"> </div>\n",
       "    <div style=\"margin-left: 48px;\">\n",
       "        <h3 style=\"margin-bottom: 0px;\">Client</h3>\n",
       "        <p style=\"color: #9D9D9D; margin-bottom: 0px;\">Client-b69661cd-e9f4-11ee-8680-149ecf12cbc9</p>\n",
       "        <table style=\"width: 100%; text-align: left;\">\n",
       "\n",
       "        <tr>\n",
       "        \n",
       "            <td style=\"text-align: left;\"><strong>Connection method:</strong> Cluster object</td>\n",
       "            <td style=\"text-align: left;\"><strong>Cluster type:</strong> dask_jobqueue.SLURMCluster</td>\n",
       "        \n",
       "        </tr>\n",
       "\n",
       "        \n",
       "            <tr>\n",
       "                <td style=\"text-align: left;\">\n",
       "                    <strong>Dashboard: </strong> <a href=\"http://10.120.16.164:8787/status\" target=\"_blank\">http://10.120.16.164:8787/status</a>\n",
       "                </td>\n",
       "                <td style=\"text-align: left;\"></td>\n",
       "            </tr>\n",
       "        \n",
       "\n",
       "        </table>\n",
       "\n",
       "        \n",
       "\n",
       "        \n",
       "            <details>\n",
       "            <summary style=\"margin-bottom: 20px;\"><h3 style=\"display: inline;\">Cluster Info</h3></summary>\n",
       "            <div class=\"jp-RenderedHTMLCommon jp-RenderedHTML jp-mod-trusted jp-OutputArea-output\">\n",
       "    <div style=\"width: 24px; height: 24px; background-color: #e1e1e1; border: 3px solid #9D9D9D; border-radius: 5px; position: absolute;\">\n",
       "    </div>\n",
       "    <div style=\"margin-left: 48px;\">\n",
       "        <h3 style=\"margin-bottom: 0px; margin-top: 0px;\">SLURMCluster</h3>\n",
       "        <p style=\"color: #9D9D9D; margin-bottom: 0px;\">28883550</p>\n",
       "        <table style=\"width: 100%; text-align: left;\">\n",
       "            <tr>\n",
       "                <td style=\"text-align: left;\">\n",
       "                    <strong>Dashboard:</strong> <a href=\"http://10.120.16.164:8787/status\" target=\"_blank\">http://10.120.16.164:8787/status</a>\n",
       "                </td>\n",
       "                <td style=\"text-align: left;\">\n",
       "                    <strong>Workers:</strong> 0\n",
       "                </td>\n",
       "            </tr>\n",
       "            <tr>\n",
       "                <td style=\"text-align: left;\">\n",
       "                    <strong>Total threads:</strong> 0\n",
       "                </td>\n",
       "                <td style=\"text-align: left;\">\n",
       "                    <strong>Total memory:</strong> 0 B\n",
       "                </td>\n",
       "            </tr>\n",
       "            \n",
       "        </table>\n",
       "\n",
       "        <details>\n",
       "            <summary style=\"margin-bottom: 20px;\">\n",
       "                <h3 style=\"display: inline;\">Scheduler Info</h3>\n",
       "            </summary>\n",
       "\n",
       "            <div style=\"\">\n",
       "    <div>\n",
       "        <div style=\"width: 24px; height: 24px; background-color: #FFF7E5; border: 3px solid #FF6132; border-radius: 5px; position: absolute;\"> </div>\n",
       "        <div style=\"margin-left: 48px;\">\n",
       "            <h3 style=\"margin-bottom: 0px;\">Scheduler</h3>\n",
       "            <p style=\"color: #9D9D9D; margin-bottom: 0px;\">Scheduler-b092e249-43df-4d7f-919e-7f9e74a7045c</p>\n",
       "            <table style=\"width: 100%; text-align: left;\">\n",
       "                <tr>\n",
       "                    <td style=\"text-align: left;\">\n",
       "                        <strong>Comm:</strong> tcp://10.120.16.164:44824\n",
       "                    </td>\n",
       "                    <td style=\"text-align: left;\">\n",
       "                        <strong>Workers:</strong> 0\n",
       "                    </td>\n",
       "                </tr>\n",
       "                <tr>\n",
       "                    <td style=\"text-align: left;\">\n",
       "                        <strong>Dashboard:</strong> <a href=\"http://10.120.16.164:8787/status\" target=\"_blank\">http://10.120.16.164:8787/status</a>\n",
       "                    </td>\n",
       "                    <td style=\"text-align: left;\">\n",
       "                        <strong>Total threads:</strong> 0\n",
       "                    </td>\n",
       "                </tr>\n",
       "                <tr>\n",
       "                    <td style=\"text-align: left;\">\n",
       "                        <strong>Started:</strong> 1 minute ago\n",
       "                    </td>\n",
       "                    <td style=\"text-align: left;\">\n",
       "                        <strong>Total memory:</strong> 0 B\n",
       "                    </td>\n",
       "                </tr>\n",
       "            </table>\n",
       "        </div>\n",
       "    </div>\n",
       "\n",
       "    <details style=\"margin-left: 48px;\">\n",
       "        <summary style=\"margin-bottom: 20px;\">\n",
       "            <h3 style=\"display: inline;\">Workers</h3>\n",
       "        </summary>\n",
       "\n",
       "        \n",
       "\n",
       "    </details>\n",
       "</div>\n",
       "\n",
       "        </details>\n",
       "    </div>\n",
       "</div>\n",
       "            </details>\n",
       "        \n",
       "\n",
       "    </div>\n",
       "</div>"
      ],
      "text/plain": [
       "<Client: 'tcp://10.120.16.164:44824' processes=0 threads=0, memory=0 B>"
      ]
     },
     "execution_count": 6,
     "metadata": {},
     "output_type": "execute_result"
    }
   ],
   "source": [
    "dask_controller.daskclient"
   ]
  },
  {
   "cell_type": "markdown",
   "metadata": {
    "tags": []
   },
   "source": [
    "## Cell Cycle Analysis"
   ]
  },
  {
   "cell_type": "markdown",
   "metadata": {},
   "source": [
    "### Import Necessary Dataframes"
   ]
  },
  {
   "cell_type": "code",
   "execution_count": 7,
   "metadata": {},
   "outputs": [],
   "source": [
    "cell_cycle_df = dd.read_parquet(\"/home/de64/scratch/de64/sync_folder/2021-11-12_lDE20_Validation_1/2024-01-12_Lineage_Cell_Cycle_Merged\", engine=\"pyarrow\",calculate_divisions=True)\n",
    "timepoints_df = dd.read_parquet(\"/home/de64/scratch/de64/sync_folder/2021-11-12_lDE20_Validation_1/2024-01-12_Lineage_Observations_Merged\", engine=\"pyarrow\",calculate_divisions=True)\n",
    "growth_df = dd.read_parquet(\"/home/de64/scratch/de64/sync_folder/2021-11-12_lDE20_Validation_1/2024-01-12_Lineage_Growth_Observations_Merged\", engine=\"pyarrow\",calculate_divisions=True)"
   ]
  },
  {
   "cell_type": "markdown",
   "metadata": {},
   "source": [
    "#### Select Parameters to Analyze"
   ]
  },
  {
   "cell_type": "code",
   "execution_count": 11,
   "metadata": {},
   "outputs": [],
   "source": [
    "cell_cycle_columns = ['Multi-Experiment Global CellID', 'Multi-Experiment FOV', 'Global CellID', 'trenchid', 'File Parquet Index', 'fov',\\\n",
    "       'row', 'trench', 'initial timepoints', 'Mother', 'CellID', 'Mother CellID', 'Daughter CellID 1', 'Daughter CellID 2', 'Sister CellID',\\\n",
    "                      'Experiment #', 'Birth: Length', 'Division: Length',\\\n",
    "                      'Delta: Length', 'Septum Displacement Length Normalized', 'Birth: Volume', 'Division: Volume', 'Delta: Volume',\\\n",
    "                      'Final time (s)','Initial time (s)','Delta time (s)','Growth Rate: Length','Growth Rate: Volume']\n",
    "timepoints_columns = ['Global CellID-Cell Cycle timepoints', 'trenchid', 'Global CellID', 'Observation time (s)', 'Length',\\\n",
    "                     'Width', 'mCherry mean_intensity', 'Experiment #', 'Multi-Experiment Global CellID']\n",
    "growth_columns = ['Global CellID-Growth Rate Measurement Index', 'trenchid', 'Global CellID', 'Measurement time (s)',\\\n",
    "                  'Instantaneous Growth Rate: Length', 'Instantaneous Growth Rate: Volume', 'Experiment #', 'Multi-Experiment Global CellID']\n",
    "\n",
    "cell_cycle_df = cell_cycle_df[cell_cycle_columns]\n",
    "timepoints_df = timepoints_df[timepoints_columns]\n",
    "growth_df = growth_df[growth_columns]"
   ]
  },
  {
   "cell_type": "markdown",
   "metadata": {},
   "source": [
    "### Classify proliferating cells\n",
    "- Classify trenches as proliferating or non-proliferating and exclude from subsequent analysis where appropriate\n",
    "- Proliferation criterion:\n",
    "    - Median instantanous growth rate for the trench must give a doubling time of at least once every 3 hours, that is $ \\lambda > \\frac{\\ln(2)}{3} \\frac{1}{hr} $ \n",
    "    - Median doubling time (for reported cell cycles) must give a doubling time of at least once every 3 hours\n",
    "    - The number of cell cycle reports (of the mother cell only) must also average out to once every 3 hours"
   ]
  },
  {
   "cell_type": "code",
   "execution_count": 12,
   "metadata": {},
   "outputs": [],
   "source": [
    "induction_time = 2*3600\n",
    "steady_state_time = 7*3600\n",
    "final_time = 10*3600\n",
    "steady_state_interval = final_time-steady_state_time\n",
    "\n",
    "doubling_threshold = 3\n",
    "growth_rate_threshold = np.log(2)/doubling_threshold\n",
    "doubling_time_threshold = doubling_threshold*3600\n",
    "# n_mother_cycles = int(np.ceil(steady_state_interval/doubling_time_threshold))"
   ]
  },
  {
   "cell_type": "code",
   "execution_count": 13,
   "metadata": {
    "tags": []
   },
   "outputs": [
    {
     "name": "stderr",
     "output_type": "stream",
     "text": [
      "/tmp/ipykernel_18048/3455830797.py:4: UserWarning: `meta` is not specified, inferred from partial data. Please provide `meta` if the result is unexpected.\n",
      "  Before: .apply(func)\n",
      "  After:  .apply(func, meta={'x': 'f8', 'y': 'f8'}) for dataframe result\n",
      "  or:     .apply(func, meta=('x', 'f8'))            for series result\n",
      "  median_growth_rate_series = growth_df_ss.groupby(\"Multi-Experiment Phenotype Trenchid\")[\"Instantaneous Growth Rate: Volume\"].apply(lambda x: np.nanmedian(x)).compute()\n",
      "/tmp/ipykernel_18048/3455830797.py:5: UserWarning: `meta` is not specified, inferred from partial data. Please provide `meta` if the result is unexpected.\n",
      "  Before: .apply(func)\n",
      "  After:  .apply(func, meta={'x': 'f8', 'y': 'f8'}) for dataframe result\n",
      "  or:     .apply(func, meta=('x', 'f8'))            for series result\n",
      "  median_doubling_time_series = cell_cycle_df_ss.groupby(\"Multi-Experiment Phenotype Trenchid\")[\"Delta time (s)\"].apply(lambda x: np.nanmedian(x)).compute()\n"
     ]
    }
   ],
   "source": [
    "cell_cycle_df_ss = cell_cycle_df[cell_cycle_df[\"Initial time (s)\"]>=steady_state_time][[\"Delta time (s)\",\"Mother\"]]\n",
    "growth_df_ss = growth_df[growth_df[\"Measurement time (s)\"]>=steady_state_time][[\"Instantaneous Growth Rate: Volume\"]]\n",
    "\n",
    "median_growth_rate_series = growth_df_ss.groupby(\"Multi-Experiment Phenotype Trenchid\")[\"Instantaneous Growth Rate: Volume\"].apply(lambda x: np.nanmedian(x)).compute()\n",
    "median_doubling_time_series = cell_cycle_df_ss.groupby(\"Multi-Experiment Phenotype Trenchid\")[\"Delta time (s)\"].apply(lambda x: np.nanmedian(x)).compute()\n",
    "n_cell_cycles_series = cell_cycle_df_ss[cell_cycle_df_ss[\"Mother\"]==True].groupby(\"Multi-Experiment Phenotype Trenchid\").size().compute()"
   ]
  },
  {
   "cell_type": "code",
   "execution_count": 14,
   "metadata": {},
   "outputs": [],
   "source": [
    "trenches_above_growth_thr = median_growth_rate_series>growth_rate_threshold\n",
    "trenches_below_doubling_thr = median_doubling_time_series<doubling_time_threshold\n",
    "# trenches_above_n_cycles_thr = n_cell_cycles_series>n_mother_cycles\n",
    "proliferating_trench_df = pd.concat([trenches_above_growth_thr,trenches_below_doubling_thr],join=\"inner\",axis=1)\n",
    "proliferating_trench_df[\"Proliferating\"] = np.all(proliferating_trench_df.values, axis=1)\n",
    "proliferating_trench_df = proliferating_trench_df.drop([\"Instantaneous Growth Rate: Volume\",\"Delta time (s)\"], axis=1)\n",
    "cell_cycle_df = cell_cycle_df.join(proliferating_trench_df,how=\"inner\").persist()\n",
    "wait(cell_cycle_df);"
   ]
  },
  {
   "cell_type": "code",
   "execution_count": 15,
   "metadata": {},
   "outputs": [
    {
     "data": {
      "image/png": "[encoded data removed]",
      "text/plain": [
       "<Figure size 640x480 with 1 Axes>"
      ]
     },
     "metadata": {},
     "output_type": "display_data"
    },
    {
     "data": {
      "image/png": "[encoded data removed]",
      "text/plain": [
       "<Figure size 640x480 with 1 Axes>"
      ]
     },
     "metadata": {},
     "output_type": "display_data"
    }
   ],
   "source": [
    "plt.hist(median_growth_rate_series[median_growth_rate_series>growth_rate_threshold],bins=50,log=True,range=(0,2))\n",
    "plt.hist(median_growth_rate_series[median_growth_rate_series<=growth_rate_threshold],bins=50,log=True,range=(0,2))\n",
    "plt.xlabel(\"Growth Rate (1/hr)\",fontsize=14)\n",
    "plt.show()\n",
    "\n",
    "plt.hist(median_doubling_time_series[median_doubling_time_series<=doubling_time_threshold]/3600,bins=20,log=True,range=(0,4))\n",
    "plt.hist(median_doubling_time_series[median_doubling_time_series>doubling_time_threshold]/3600,bins=20,log=True,range=(0,4))\n",
    "plt.xlabel(\"Doubling Time (hr)\",fontsize=14)\n",
    "plt.show()"
   ]
  },
  {
   "cell_type": "code",
   "execution_count": 16,
   "metadata": {},
   "outputs": [
    {
     "name": "stdout",
     "output_type": "stream",
     "text": [
      "0.9998395249939822\n"
     ]
    }
   ],
   "source": [
    "frac_proliferating = np.sum(proliferating_trench_df[\"Proliferating\"])/len(proliferating_trench_df)\n",
    "print(frac_proliferating)"
   ]
  },
  {
   "cell_type": "markdown",
   "metadata": {},
   "source": [
    "#### Add sgRNA info for real data"
   ]
  },
  {
   "cell_type": "code",
   "execution_count": 17,
   "metadata": {},
   "outputs": [
    {
     "name": "stderr",
     "output_type": "stream",
     "text": [
      "/home/de64/micromamba/envs/crispri/lib/python3.11/site-packages/dask/dataframe/core.py:7365: FutureWarning: Meta is not valid, `map_partitions` and `map_overlap` expects output to be a pandas object. Try passing a pandas object as meta or a dict or tuple representing the (name, dtype) of the columns. In the future the meta you passed will not work.\n",
      "  warnings.warn(\n",
      "/home/de64/micromamba/envs/crispri/lib/python3.11/site-packages/dask/dataframe/core.py:7365: FutureWarning: Meta is not valid, `map_partitions` and `map_overlap` expects output to be a pandas object. Try passing a pandas object as meta or a dict or tuple representing the (name, dtype) of the columns. In the future the meta you passed will not work.\n",
      "  warnings.warn(\n"
     ]
    }
   ],
   "source": [
    "strain_dict = {\"ftsN\":list(range(16)),\\\n",
    "              \"glyQ\":list(range(16,32)),\\\n",
    "              \"rplA\":list(range(32,48)),\\\n",
    "              \"dnaA\":list(range(48,64)),\\\n",
    "              \"mrdA\":list(range(64,80)),\\\n",
    "              \"EV\":list(range(80,96))}\n",
    "inv_strain_dict = {item:key for key,val in strain_dict.items() for item in val}\n",
    "gene_dict = {\"ftsN\":9586,\\\n",
    "             \"glyQ\":7113,\\\n",
    "             \"rplA\":4754,\\\n",
    "             \"dnaA\":8869,\\\n",
    "             \"mrdA\":9865,\\\n",
    "             \"EV\":29672}\n",
    "\n",
    "cell_cycle_df[\"Gene\"] = cell_cycle_df[\"fov\"].apply(lambda x: inv_strain_dict[x], meta=str)\n",
    "cell_cycle_df[\"oDEPool7_id\"] = cell_cycle_df[\"Gene\"].apply(lambda x: gene_dict[x], meta=int)\n",
    "gene_series = cell_cycle_df.groupby(\"Multi-Experiment Phenotype Trenchid\")[\"Gene\"].first().compute()\n",
    "sgrnaid_series = cell_cycle_df.groupby(\"Multi-Experiment Phenotype Trenchid\")[\"oDEPool7_id\"].first().compute()\n",
    "\n",
    "timepoints_df = timepoints_df.join(gene_series)\n",
    "timepoints_df = timepoints_df.join(sgrnaid_series)\n",
    "\n",
    "growth_df = growth_df.join(gene_series)\n",
    "growth_df = growth_df.join(sgrnaid_series)"
   ]
  },
  {
   "cell_type": "code",
   "execution_count": 18,
   "metadata": {
    "scrolled": true,
    "tags": []
   },
   "outputs": [
    {
     "name": "stderr",
     "output_type": "stream",
     "text": [
      "/home/de64/micromamba/envs/crispri/lib/python3.11/site-packages/dask/dataframe/core.py:7365: FutureWarning: Meta is not valid, `map_partitions` and `map_overlap` expects output to be a pandas object. Try passing a pandas object as meta or a dict or tuple representing the (name, dtype) of the columns. In the future the meta you passed will not work.\n",
      "  warnings.warn(\n",
      "/home/de64/micromamba/envs/crispri/lib/python3.11/site-packages/dask/dataframe/core.py:7365: FutureWarning: Meta is not valid, `map_partitions` and `map_overlap` expects output to be a pandas object. Try passing a pandas object as meta or a dict or tuple representing the (name, dtype) of the columns. In the future the meta you passed will not work.\n",
      "  warnings.warn(\n",
      "/home/de64/micromamba/envs/crispri/lib/python3.11/site-packages/dask/dataframe/core.py:7365: FutureWarning: Meta is not valid, `map_partitions` and `map_overlap` expects output to be a pandas object. Try passing a pandas object as meta or a dict or tuple representing the (name, dtype) of the columns. In the future the meta you passed will not work.\n",
      "  warnings.warn(\n",
      "/home/de64/micromamba/envs/crispri/lib/python3.11/site-packages/dask/dataframe/core.py:7365: FutureWarning: Meta is not valid, `map_partitions` and `map_overlap` expects output to be a pandas object. Try passing a pandas object as meta or a dict or tuple representing the (name, dtype) of the columns. In the future the meta you passed will not work.\n",
      "  warnings.warn(\n"
     ]
    }
   ],
   "source": [
    "cell_cycle_df_only_proliferating = cell_cycle_df[cell_cycle_df[\"Proliferating\"]]\n",
    "\n",
    "n_obs_cell_cycle = cell_cycle_df.groupby(\"oDEPool7_id\",sort=False).apply(lambda x: len(x.index.unique()), meta=int).compute()\n",
    "n_obs_cell_cycle = pd.DataFrame(n_obs_cell_cycle).rename({0:\"N Observations\"}, axis=1).sort_index()\n",
    "n_obs_cell_cycle_prolif = cell_cycle_df_only_proliferating.groupby(\"oDEPool7_id\",sort=False).apply(lambda x: len(x.index.unique()), meta=int).compute()\n",
    "n_obs_cell_cycle_prolif = pd.DataFrame(n_obs_cell_cycle_prolif).rename({0:\"N Observations Proliferating\"}, axis=1).sort_index()\n",
    "n_obs_cell_cycle_df = pd.concat([n_obs_cell_cycle,n_obs_cell_cycle_prolif],axis=1)\n",
    "n_obs_cell_cycle_df.loc[np.isnan(n_obs_cell_cycle_df[\"N Observations Proliferating\"]),\"N Observations Proliferating\"] = 0\n",
    "n_obs_cell_cycle_df[\"N Observations Proliferating\"] = n_obs_cell_cycle_df[\"N Observations Proliferating\"].astype(int)\n",
    "cell_cycle_df = cell_cycle_df.join(n_obs_cell_cycle_df,on=\"oDEPool7_id\")\n",
    "\n",
    "n_obs_timepoints = timepoints_df.groupby(\"oDEPool7_id\",sort=False).apply(lambda x: len(x.index.unique()), meta=int).compute()\n",
    "n_obs_timepoints = pd.DataFrame(n_obs_timepoints).rename({0:\"N Observations\"}, axis=1).sort_index()\n",
    "timepoints_df = timepoints_df.join(n_obs_timepoints,on=\"oDEPool7_id\")\n",
    "\n",
    "n_obs_growth = growth_df.groupby(\"oDEPool7_id\",sort=False).apply(lambda x: len(x.index.unique()), meta=int).compute()\n",
    "n_obs_growth = pd.DataFrame(n_obs_growth).rename({0:\"N Observations\"}, axis=1).sort_index()\n",
    "growth_df = growth_df.join(n_obs_growth,on=\"oDEPool7_id\")"
   ]
  },
  {
   "cell_type": "markdown",
   "metadata": {},
   "source": [
    "### Determine when cells reach steady state and save intermediate df as a checkpoint"
   ]
  },
  {
   "cell_type": "code",
   "execution_count": 21,
   "metadata": {
    "tags": []
   },
   "outputs": [
    {
     "name": "stdout",
     "output_type": "stream",
     "text": [
      "Done.\n"
     ]
    }
   ],
   "source": [
    "cell_cycle_df_ss = cell_cycle_df[cell_cycle_df[\"Initial time (s)\"]>=steady_state_time]\n",
    "cell_cycle_df_preinduction = cell_cycle_df[cell_cycle_df[\"Final time (s)\"]<=induction_time]\n",
    "cell_cycle_df = cell_cycle_df.reset_index().set_index(\"Multi-Experiment Phenotype Trenchid\",sorted=True).repartition(npartitions=400)\n",
    "cell_cycle_df_ss.to_parquet(\"/home/de64/scratch/de64/sync_folder/2021-11-12_lDE20_Validation_1/2024-03-24_Steady_State_Cell_Cycle_df/\", engine=\"pyarrow\", overwrite=True)\n",
    "cell_cycle_df_preinduction.to_parquet(\"/home/de64/scratch/de64/sync_folder/2021-11-12_lDE20_Validation_1/2024-03-24_Preinduction_Cell_Cycle_df/\", engine=\"pyarrow\", overwrite=True)\n",
    "\n",
    "timepoints_df_ss = timepoints_df[timepoints_df[\"Observation time (s)\"]>=steady_state_time]\n",
    "timepoints_df_preinduction = timepoints_df[timepoints_df[\"Observation time (s)\"]<=induction_time]\n",
    "timepoints_df = timepoints_df.reset_index().set_index(\"Multi-Experiment Phenotype Trenchid\",sorted=True).repartition(npartitions=400)\n",
    "timepoints_df_ss.to_parquet(\"/home/de64/scratch/de64/sync_folder/2021-11-12_lDE20_Validation_1/2024-03-24_Steady_State_Timepoints_df/\", engine=\"pyarrow\", overwrite=True)\n",
    "timepoints_df_preinduction.to_parquet(\"/home/de64/scratch/de64/sync_folder/2021-11-12_lDE20_Validation_1/2024-03-24_Preinduction_Timepoints_df/\", engine=\"pyarrow\", overwrite=True)\n",
    "\n",
    "growth_df_ss = growth_df[growth_df[\"Measurement time (s)\"]>=steady_state_time]\n",
    "growth_df_preinduction = growth_df[growth_df[\"Measurement time (s)\"]<=induction_time]\n",
    "growth_df = growth_df.reset_index().set_index(\"Multi-Experiment Phenotype Trenchid\",sorted=True).repartition(npartitions=400)\n",
    "growth_df_ss.to_parquet(\"/home/de64/scratch/de64/sync_folder/2021-11-12_lDE20_Validation_1/2024-03-24_Steady_State_Growth_df/\", engine=\"pyarrow\", overwrite=True)\n",
    "growth_df_preinduction.to_parquet(\"/home/de64/scratch/de64/sync_folder/2021-11-12_lDE20_Validation_1/2024-03-24_Preinduction_Growth_df/\", engine=\"pyarrow\", overwrite=True)\n",
    "dask_controller.reset_worker_memory()"
   ]
  },
  {
   "cell_type": "code",
   "execution_count": 25,
   "metadata": {},
   "outputs": [
    {
     "name": "stdout",
     "output_type": "stream",
     "text": [
      "Done.\n"
     ]
    },
    {
     "name": "stderr",
     "output_type": "stream",
     "text": [
      "2024-03-24 11:48:20,968 - distributed.deploy.adaptive_core - INFO - Adaptive stop\n"
     ]
    }
   ],
   "source": [
    "dask_controller.shutdown()"
   ]
  }
 ],
 "metadata": {
  "kernelspec": {
   "display_name": "Python 3 (ipykernel)",
   "language": "python",
   "name": "python3"
  },
  "language_info": {
   "codemirror_mode": {
    "name": "ipython",
    "version": 3
   },
   "file_extension": ".py",
   "mimetype": "text/x-python",
   "name": "python",
   "nbconvert_exporter": "python",
   "pygments_lexer": "ipython3",
   "version": "3.11.8"
  },
  "toc-autonumbering": false,
  "toc-showcode": false,
  "toc-showmarkdowntxt": false,
  "toc-showtags": false
 },
 "nbformat": 4,
 "nbformat_minor": 4
}
