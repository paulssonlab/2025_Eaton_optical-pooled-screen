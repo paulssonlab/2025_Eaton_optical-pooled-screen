{
 "cells": [
  {
   "cell_type": "code",
   "execution_count": 10,
   "metadata": {},
   "outputs": [],
   "source": [
    "import csv\n",
    "import copy\n",
    "import ast\n",
    "import re\n",
    "import numpy as np\n",
    "import pandas as pd\n",
    "import seaborn as sns\n",
    "import dask.dataframe as dd\n",
    "from pandas.api.types import CategoricalDtype\n",
    "from Bio import GenBank\n",
    "\n",
    "from matplotlib import pyplot as plt"
   ]
  },
  {
   "cell_type": "code",
   "execution_count": 2,
   "metadata": {},
   "outputs": [],
   "source": [
    "ngs_df = pd.read_pickle(\"/home/de64/group/de64/CRISPRi_Libraries/dev_notebooks/2024-11-23_Figure_Notebooks/Data/Marker_Frequency_Analysis/Final_NGS_Mapping.pkl\")\n",
    "ngs_df_subset = ngs_df.iloc[np.random.randint(0,len(ngs_df),size=(100000,))]"
   ]
  },
  {
   "cell_type": "code",
   "execution_count": 3,
   "metadata": {},
   "outputs": [
    {
     "data": {
      "text/plain": [
       "<matplotlib.collections.LineCollection at 0x7fe496cdc2b0>"
      ]
     },
     "execution_count": 3,
     "metadata": {},
     "output_type": "execute_result"
    },
    {
     "data": {
      "image/png": "[encoded data removed]",
      "text/plain": [
       "<Figure size 640x480 with 1 Axes>"
      ]
     },
     "metadata": {},
     "output_type": "display_data"
    }
   ],
   "source": [
    "minimum_mapping_qual = 22\n",
    "\n",
    "plt.hist(ngs_df_subset[\"MAPping Quality\"].sample(n=100000),bins=59,range=(0,60))\n",
    "y_min, y_max = plt.gca().get_ylim()\n",
    "plt.vlines(minimum_mapping_qual,y_min, y_max,color=\"red\")"
   ]
  },
  {
   "cell_type": "code",
   "execution_count": 4,
   "metadata": {},
   "outputs": [],
   "source": [
    "ngs_df_filtered = ngs_df[ngs_df[\"MAPping Quality\"]>minimum_mapping_qual]"
   ]
  },
  {
   "cell_type": "code",
   "execution_count": 5,
   "metadata": {},
   "outputs": [],
   "source": [
    "name_to_strain = {old_cat:old_cat.split(\"_\")[2].split(\"-\")[0] for old_cat in ngs_df_filtered[\"Full Sample Name\"].cat.categories}\n",
    "name_to_condition = {old_cat:old_cat.split(\"_\")[2].split(\"-\")[1] for old_cat in ngs_df_filtered[\"Full Sample Name\"].cat.categories}\n",
    "name_to_replicate = {old_cat:old_cat.split(\"_\")[2].split(\"-\")[3] for old_cat in ngs_df_filtered[\"Full Sample Name\"].cat.categories}\n",
    "\n",
    "## replace chlor misnaming\n",
    "succinate_name_to_condition = {}\n",
    "for key, val in name_to_condition.items():\n",
    "    if val == \"Chlor\":\n",
    "        succinate_name_to_condition[key] = \"Succinate\"\n",
    "    else:\n",
    "        succinate_name_to_condition[key] = val"
   ]
  },
  {
   "cell_type": "code",
   "execution_count": 6,
   "metadata": {},
   "outputs": [],
   "source": [
    "strain_cat = CategoricalDtype(set(name_to_strain.values()))\n",
    "condition_cat = CategoricalDtype(set(succinate_name_to_condition.values()))\n",
    "replicate_cat = CategoricalDtype(set(name_to_replicate.values()))"
   ]
  },
  {
   "cell_type": "code",
   "execution_count": 7,
   "metadata": {},
   "outputs": [
    {
     "name": "stderr",
     "output_type": "stream",
     "text": [
      "/tmp/ipykernel_11802/3090552793.py:1: SettingWithCopyWarning: \n",
      "A value is trying to be set on a copy of a slice from a DataFrame.\n",
      "Try using .loc[row_indexer,col_indexer] = value instead\n",
      "\n",
      "See the caveats in the documentation: https://pandas.pydata.org/pandas-docs/stable/user_guide/indexing.html#returning-a-view-versus-a-copy\n",
      "  ngs_df_filtered[\"Strain\"] = ngs_df_filtered[\"Full Sample Name\"].apply(lambda x: name_to_strain[x]).astype(strain_cat)\n",
      "/tmp/ipykernel_11802/3090552793.py:2: SettingWithCopyWarning: \n",
      "A value is trying to be set on a copy of a slice from a DataFrame.\n",
      "Try using .loc[row_indexer,col_indexer] = value instead\n",
      "\n",
      "See the caveats in the documentation: https://pandas.pydata.org/pandas-docs/stable/user_guide/indexing.html#returning-a-view-versus-a-copy\n",
      "  ngs_df_filtered[\"Condition\"] = ngs_df_filtered[\"Full Sample Name\"].apply(lambda x: succinate_name_to_condition[x]).astype(condition_cat)\n",
      "/tmp/ipykernel_11802/3090552793.py:3: SettingWithCopyWarning: \n",
      "A value is trying to be set on a copy of a slice from a DataFrame.\n",
      "Try using .loc[row_indexer,col_indexer] = value instead\n",
      "\n",
      "See the caveats in the documentation: https://pandas.pydata.org/pandas-docs/stable/user_guide/indexing.html#returning-a-view-versus-a-copy\n",
      "  ngs_df_filtered[\"Replicate\"] = ngs_df_filtered[\"Full Sample Name\"].apply(lambda x: name_to_replicate[x]).astype(replicate_cat)\n"
     ]
    }
   ],
   "source": [
    "ngs_df_filtered[\"Strain\"] = ngs_df_filtered[\"Full Sample Name\"].apply(lambda x: name_to_strain[x]).astype(strain_cat)\n",
    "ngs_df_filtered[\"Condition\"] = ngs_df_filtered[\"Full Sample Name\"].apply(lambda x: succinate_name_to_condition[x]).astype(condition_cat)\n",
    "ngs_df_filtered[\"Replicate\"] = ngs_df_filtered[\"Full Sample Name\"].apply(lambda x: name_to_replicate[x]).astype(replicate_cat)"
   ]
  },
  {
   "cell_type": "code",
   "execution_count": 8,
   "metadata": {},
   "outputs": [],
   "source": [
    "ngs_df_filtered.to_pickle(\"./Final_NGS_Mapping_Filtered.pkl\")"
   ]
  },
  {
   "cell_type": "code",
   "execution_count": 3,
   "metadata": {},
   "outputs": [],
   "source": [
    "with open(\"/home/de64/group/de64/CRISPRi_Libraries/dev_notebooks/2024-11-23_Figure_Notebooks/Data/Marker_Frequency_Analysis/U00096_3.gb\") as gb_handle:\n",
    "    genome_ref = GenBank.read(gb_handle)\n",
    "genome_size = int(genome_ref.size)\n",
    "oriC_feature = [item for item in genome_ref.features if item.key==\"rep_origin\"][0]\n",
    "oriC_position = int(np.mean([int(item) for item in oriC_feature.location.split(\"..\")]))\n",
    "circ_coord_fn = lambda x: np.where((x-oriC_position)<-genome_size//2,genome_size + (x-oriC_position),(x-oriC_position))"
   ]
  },
  {
   "cell_type": "code",
   "execution_count": 2,
   "metadata": {},
   "outputs": [
    {
     "name": "stderr",
     "output_type": "stream",
     "text": [
      "/home/de64/micromamba/envs/nanopore/lib/python3.10/site-packages/Bio/GenBank/Scanner.py:1217: BiopythonParserWarning: Premature end of file in sequence data\n",
      "  warnings.warn(\n"
     ]
    }
   ],
   "source": [
    "ngs_df_filtered = pd.read_pickle(\"./Final_NGS_Mapping_Filtered.pkl\")\n",
    "ngs_df_filtered[\"Circular Ref Position\"]=circ_coord_fn(ngs_df_filtered[\"Ref Position\"].astype(\"int32\"))"
   ]
  },
  {
   "cell_type": "code",
   "execution_count": 3,
   "metadata": {},
   "outputs": [],
   "source": [
    "bin_size = 100000\n",
    "\n",
    "ngs_df_filtered[\"Circular Ref Bin\"] = pd.cut(ngs_df_filtered[\"Circular Ref Position\"],list(range(-genome_size//2,genome_size//2,bin_size)))\n",
    "ngs_df_filtered[\"Ref Bin\"] = pd.cut(ngs_df_filtered[\"Ref Position\"],list(range(0,genome_size,bin_size)))"
   ]
  },
  {
   "cell_type": "code",
   "execution_count": 4,
   "metadata": {},
   "outputs": [
    {
     "name": "stderr",
     "output_type": "stream",
     "text": [
      "/tmp/ipykernel_28958/1412146253.py:1: FutureWarning: The default of observed=False is deprecated and will be changed to True in a future version of pandas. Pass observed=False to retain current behavior or observed=True to adopt the future default and silence this warning.\n",
      "  circular_ref_pos_groupby = ngs_df_filtered.groupby([\"Strain\",\"Condition\",\"Replicate\",\"Circular Ref Bin\"])[\"Circular Ref Position\"]\n",
      "/tmp/ipykernel_28958/1412146253.py:5: FutureWarning: The default of observed=False is deprecated and will be changed to True in a future version of pandas. Pass observed=False to retain current behavior or observed=True to adopt the future default and silence this warning.\n",
      "  count_per_category_noncirc = ngs_df_filtered.groupby([\"Strain\",\"Condition\",\"Replicate\",\"Ref Bin\"])[\"Ref Position\"].size().to_frame()\n"
     ]
    }
   ],
   "source": [
    "circular_ref_pos_groupby = ngs_df_filtered.groupby([\"Strain\",\"Condition\",\"Replicate\",\"Circular Ref Bin\"])[\"Circular Ref Position\"]\n",
    "count_per_category = circular_ref_pos_groupby.size().to_frame()\n",
    "count_per_category = count_per_category.reset_index().set_index([\"Strain\",\"Condition\",\"Replicate\"]).rename(columns={\"Circular Ref Position\":\"Circular Read Count\"})\n",
    "count_per_category = count_per_category.rename(columns = {\"Circular Ref Bin\":\"Ref Bin\", \"Circular Read Count\":\"Read Count\"})\n",
    "count_per_category_noncirc = ngs_df_filtered.groupby([\"Strain\",\"Condition\",\"Replicate\",\"Ref Bin\"])[\"Ref Position\"].size().to_frame()\n",
    "count_per_category_noncirc = count_per_category_noncirc.reset_index().set_index([\"Strain\",\"Condition\",\"Replicate\"]).rename(columns={\"Ref Position\":\"Read Count\"})\n",
    "count_per_category[\"Circular Coords\"] = True\n",
    "count_per_category_noncirc[\"Circular Coords\"] = False\n",
    "count_output = pd.concat([count_per_category,count_per_category_noncirc],axis=0)\n",
    "count_output = count_output.reset_index().set_index([\"Circular Coords\",\"Strain\",\"Condition\",\"Replicate\"])\n",
    "count_output.to_pickle(\"./Final_NGS_Marker_Frequencies.pkl\")"
   ]
  },
  {
   "cell_type": "code",
   "execution_count": 11,
   "metadata": {
    "scrolled": true
   },
   "outputs": [
    {
     "name": "stderr",
     "output_type": "stream",
     "text": [
      "/tmp/ipykernel_21795/387193326.py:2: FutureWarning: The default of observed=False is deprecated and will be changed to True in a future version of pandas. Pass observed=False to retain current behavior or observed=True to adopt the future default and silence this warning.\n",
      "  ttl_reads_per_sample = count_df.groupby([\"Circular Coords\",\"Strain\",\"Condition\",\"Replicate\"])[\"Read Count\"].sum().to_frame()\n"
     ]
    }
   ],
   "source": [
    "count_df = pd.read_pickle(\"./Final_NGS_Marker_Frequencies.pkl\")\n",
    "ttl_reads_per_sample = count_df.groupby([\"Circular Coords\",\"Strain\",\"Condition\",\"Replicate\"])[\"Read Count\"].sum().to_frame()\n",
    "ttl_reads_per_sample = ttl_reads_per_sample.rename(columns={\"Read Count\":\"Total Read Count\"})\n",
    "count_df = count_df.join(ttl_reads_per_sample)\n",
    "count_df[\"Marker Freq\"] = (count_df[\"Read Count\"]/count_df[\"Total Read Count\"])\n",
    "count_df = count_df.dropna()"
   ]
  },
  {
   "cell_type": "code",
   "execution_count": 12,
   "metadata": {},
   "outputs": [
    {
     "name": "stderr",
     "output_type": "stream",
     "text": [
      "/tmp/ipykernel_21795/463828385.py:1: FutureWarning: The default of observed=False is deprecated and will be changed to True in a future version of pandas. Pass observed=False to retain current behavior or observed=True to adopt the future default and silence this warning.\n",
      "  agg_marker_frequency_df = count_df.reset_index().groupby([\"Circular Coords\",\"Strain\",\"Condition\",\"Ref Bin\"])[\"Marker Freq\"].mean().to_frame().rename(columns={\"Marker Freq\":\"Mean Marker Frequency\"})\n",
      "/tmp/ipykernel_21795/463828385.py:2: FutureWarning: The default of observed=False is deprecated and will be changed to True in a future version of pandas. Pass observed=False to retain current behavior or observed=True to adopt the future default and silence this warning.\n",
      "  agg_marker_frequency_df[\"StdErr Marker Frequency\"] = count_df.reset_index().groupby([\"Circular Coords\",\"Strain\",\"Condition\",\"Ref Bin\"])[\"Marker Freq\"].sem()\n"
     ]
    }
   ],
   "source": [
    "agg_marker_frequency_df = count_df.reset_index().groupby([\"Circular Coords\",\"Strain\",\"Condition\",\"Ref Bin\"])[\"Marker Freq\"].mean().to_frame().rename(columns={\"Marker Freq\":\"Mean Marker Frequency\"})\n",
    "agg_marker_frequency_df[\"StdErr Marker Frequency\"] = count_df.reset_index().groupby([\"Circular Coords\",\"Strain\",\"Condition\",\"Ref Bin\"])[\"Marker Freq\"].sem()\n",
    "agg_marker_frequency_df = agg_marker_frequency_df.dropna()\n",
    "agg_marker_frequency_df = agg_marker_frequency_df.reset_index()\n",
    "agg_marker_frequency_df[\"Ref Position\"] = agg_marker_frequency_df[\"Ref Bin\"].apply(lambda x: int(x.mid))\n",
    "agg_marker_frequency_df = agg_marker_frequency_df.set_index([\"Circular Coords\",\"Strain\",\"Condition\",\"Ref Bin\"])"
   ]
  },
  {
   "cell_type": "code",
   "execution_count": 13,
   "metadata": {},
   "outputs": [
    {
     "name": "stderr",
     "output_type": "stream",
     "text": [
      "/tmp/ipykernel_21795/3827255329.py:1: PerformanceWarning: indexing past lexsort depth may impact performance.\n",
      "  succinate_control_df = agg_marker_frequency_df.reset_index().set_index([\"Strain\",\"Condition\"]).loc[\"DE19\",\"Succinate\"].reset_index(drop=True)\n"
     ]
    }
   ],
   "source": [
    "succinate_control_df = agg_marker_frequency_df.reset_index().set_index([\"Strain\",\"Condition\"]).loc[\"DE19\",\"Succinate\"].reset_index(drop=True)\n",
    "succinate_control_df = succinate_control_df.rename(columns={\"Mean Marker Frequency\":\"Control Mean\",\"StdErr Marker Frequency\":\"Control StdErr\"})\n",
    "agg_marker_frequency_df = agg_marker_frequency_df.join(succinate_control_df.set_index([\"Circular Coords\",\"Ref Position\"]),on=[\"Circular Coords\",\"Ref Position\"])\n",
    "agg_marker_frequency_df[\"Mean Marker Frequency Control Ratio\"] = agg_marker_frequency_df[\"Mean Marker Frequency\"]/agg_marker_frequency_df[\"Control Mean\"]\n",
    "agg_marker_frequency_df[\"StdErr Marker Frequency Control Ratio\"] = ((agg_marker_frequency_df[\"Mean Marker Frequency Control Ratio\"]**2)*\\\n",
    "                                                                    ((agg_marker_frequency_df[\"StdErr Marker Frequency\"]/\\\n",
    "                                                                     agg_marker_frequency_df[\"Mean Marker Frequency\"])**2 +\\\n",
    "                                                                     (agg_marker_frequency_df[\"Control StdErr\"]/\\\n",
    "                                                                     agg_marker_frequency_df[\"Control Mean\"])**2))**(1/2)\n",
    "\n",
    "agg_marker_frequency_df[\"Mean Log2 Control Ratio\"] = np.log2(agg_marker_frequency_df[\"Mean Marker Frequency Control Ratio\"])\n",
    "agg_marker_frequency_df[\"StdErr Log2 Control Ratio\"] = agg_marker_frequency_df[\"StdErr Marker Frequency Control Ratio\"]/\\\n",
    "                                                    (agg_marker_frequency_df[\"Mean Marker Frequency Control Ratio\"]*np.log(2))\n",
    "agg_marker_frequency_df_circ = agg_marker_frequency_df.loc[True]\n",
    "agg_marker_frequency_df_noncirc = agg_marker_frequency_df.loc[False]\n",
    "\n",
    "agg_marker_frequency_df_circ.to_csv(\"/home/de64/group/de64/CRISPRi_Libraries/dev_notebooks/2024-11-23_Figure_Notebooks/Data/Marker_Frequency_Analysis/Marker_Frequencies_100kb_CircularRef.csv\")"
   ]
  }
 ],
 "metadata": {
  "kernelspec": {
   "display_name": "Python 3 (ipykernel)",
   "language": "python",
   "name": "python3"
  },
  "language_info": {
   "codemirror_mode": {
    "name": "ipython",
    "version": 3
   },
   "file_extension": ".py",
   "mimetype": "text/x-python",
   "name": "python",
   "nbconvert_exporter": "python",
   "pygments_lexer": "ipython3",
   "version": "3.11.8"
  }
 },
 "nbformat": 4,
 "nbformat_minor": 4
}
