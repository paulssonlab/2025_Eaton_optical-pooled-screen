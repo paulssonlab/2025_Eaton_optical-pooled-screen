{
 "cells": [
  {
   "cell_type": "code",
   "execution_count": null,
   "id": "065479ee-0a2e-410e-b010-2f1be087ebd4",
   "metadata": {},
   "outputs": [],
   "source": [
    "import os\n",
    "import pandas as pd\n",
    "import fcsparser"
   ]
  },
  {
   "cell_type": "code",
   "execution_count": null,
   "id": "de59cf18-9f6a-4a33-87a4-33972b629e6a",
   "metadata": {},
   "outputs": [],
   "source": [
    "clipping_range = (3500,262143.0)\n",
    "\n",
    "all_fcs_data_df = []\n",
    "for item in os.listdir(\"/home/de64/group/de64/CRISPRi_Libraries/dev_notebooks/2024-11-23_Figure_Notebooks/Data/Replication_Runout/Data\"):\n",
    "    if item[-3:] == \"fcs\":\n",
    "        _, data = fcsparser.parse(\"/home/de64/group/de64/CRISPRi_Libraries/dev_notebooks/2024-11-23_Figure_Notebooks/Data/Replication_Runout/Data/\" + item, meta_data_only=False, reformat_meta=True)\n",
    "        data[\"Strain\"] = item.split(\"_\")[2]\n",
    "        data[\"Condition\"] = item.split(\"_\")[3]\n",
    "        data[\"Replicate\"] = int(item.split(\"_\")[5].split(\".\")[0])\n",
    "        all_fcs_data_df.append(data)\n",
    "all_fcs_data_df = pd.concat(all_fcs_data_df).set_index([\"Strain\",\"Condition\",\"Replicate\"]).sort_index()\n",
    "all_fcs_data_df = all_fcs_data_df[(all_fcs_data_df[\"GFP-A\"]>clipping_range[0])&(all_fcs_data_df[\"GFP-A\"]<clipping_range[1])]"
   ]
  },
  {
   "cell_type": "code",
   "execution_count": null,
   "id": "2390139b-2349-4475-88ef-41d22663e507",
   "metadata": {},
   "outputs": [],
   "source": [
    "all_fcs_data_df.to_csv(\"/home/de64/group/de64/CRISPRi_Libraries/dev_notebooks/2024-11-23_Figure_Notebooks/Data/Replication_Runout/Replication_Runout.csv\")"
   ]
  }
 ],
 "metadata": {
  "kernelspec": {
   "display_name": "Python 3 (ipykernel)",
   "language": "python",
   "name": "python3"
  },
  "language_info": {
   "codemirror_mode": {
    "name": "ipython",
    "version": 3
   },
   "file_extension": ".py",
   "mimetype": "text/x-python",
   "name": "python",
   "nbconvert_exporter": "python",
   "pygments_lexer": "ipython3",
   "version": "3.11.8"
  }
 },
 "nbformat": 4,
 "nbformat_minor": 5
}
